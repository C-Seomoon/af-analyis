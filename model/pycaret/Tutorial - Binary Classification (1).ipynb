{
 "cells": [
  {
   "attachments": {},
   "cell_type": "markdown",
   "id": "81e0620e",
   "metadata": {},
   "source": [
    "Last updated: 16 Feb 2023\n",
    "\n",
    "# 👋 PyCaret Binary Classification Tutorial\n",
    "\n",
    "PyCaret is an open-source, low-code machine learning library in Python that automates machine learning workflows. It is an end-to-end machine learning and model management tool that exponentially speeds up the experiment cycle and makes you more productive.\n",
    "\n",
    "Compared with the other open-source machine learning libraries, PyCaret is an alternate low-code library that can be used to replace hundreds of lines of code with a few lines only. This makes experiments exponentially fast and efficient. PyCaret is essentially a Python wrapper around several machine learning libraries and frameworks, such as scikit-learn, XGBoost, LightGBM, CatBoost, spaCy, Optuna, Hyperopt, Ray, and a few more.\n",
    "\n",
    "The design and simplicity of PyCaret are inspired by the emerging role of citizen data scientists, a term first used by Gartner. Citizen Data Scientists are power users who can perform both simple and moderately sophisticated analytical tasks that would previously have required more technical expertise.\n"
   ]
  },
  {
   "attachments": {},
   "cell_type": "markdown",
   "id": "8116e19d",
   "metadata": {},
   "source": [
    "# 💻 Installation\n",
    "\n",
    "PyCaret is tested and supported on the following 64-bit systems:\n",
    "- Python 3.7 – 3.10\n",
    "- Python 3.9 for Ubuntu only\n",
    "- Ubuntu 16.04 or later\n",
    "- Windows 7 or later\n",
    "\n",
    "You can install PyCaret with Python's pip package manager:\n",
    "\n",
    "`pip install pycaret`\n",
    "\n",
    "PyCaret's default installation will not install all the extra dependencies automatically. For that you will have to install the full version:\n",
    "\n",
    "`pip install pycaret[full]`\n",
    "\n",
    "or depending on your use-case you may install one of the following variant:\n",
    "\n",
    "- `pip install pycaret[analysis]`\n",
    "- `pip install pycaret[models]`\n",
    "- `pip install pycaret[tuner]`\n",
    "- `pip install pycaret[mlops]`\n",
    "- `pip install pycaret[parallel]`\n",
    "- `pip install pycaret[test]`"
   ]
  },
  {
   "cell_type": "code",
   "execution_count": 1,
   "id": "d7142a33",
   "metadata": {
    "execution": {
     "iopub.execute_input": "2025-05-27T05:07:20.199371Z",
     "iopub.status.busy": "2025-05-27T05:07:20.199016Z",
     "iopub.status.idle": "2025-05-27T05:07:20.629099Z",
     "shell.execute_reply": "2025-05-27T05:07:20.628482Z",
     "shell.execute_reply.started": "2025-05-27T05:07:20.199334Z"
    }
   },
   "outputs": [
    {
     "data": {
      "text/plain": [
       "'3.3.2'"
      ]
     },
     "execution_count": 1,
     "metadata": {},
     "output_type": "execute_result"
    }
   ],
   "source": [
    "# check installed version\n",
    "import pycaret\n",
    "pycaret.__version__"
   ]
  },
  {
   "attachments": {},
   "cell_type": "markdown",
   "id": "fb66e98d",
   "metadata": {},
   "source": [
    "# 🚀 Quick start"
   ]
  },
  {
   "attachments": {},
   "cell_type": "markdown",
   "id": "00347d44",
   "metadata": {},
   "source": [
    "PyCaret’s Classification Module is a supervised machine learning module that is used for classifying elements into groups. The goal is to predict the categorical class labels which are discrete and unordered. \n",
    "\n",
    "Some common use cases include predicting customer default (Yes or No), predicting customer churn (customer will leave or stay), the disease found (positive or negative). \n",
    "\n",
    "This module can be used for binary or multiclass problems. It provides several pre-processing features that prepare the data for modeling through the setup function. It has over 18 ready-to-use algorithms and several plots to analyze the performance of trained models.\n",
    "\n",
    "A typical workflow in PyCaret consist of following 5 steps in this order:\n",
    "\n",
    "## **Setup** ➡️ **Compare Models** ➡️ **Analyze Model** ➡️ **Prediction** ➡️ **Save Model**"
   ]
  },
  {
   "cell_type": "code",
   "execution_count": 2,
   "id": "956dfdab",
   "metadata": {
    "execution": {
     "iopub.execute_input": "2025-05-27T05:07:20.630837Z",
     "iopub.status.busy": "2025-05-27T05:07:20.630358Z",
     "iopub.status.idle": "2025-05-27T05:07:26.454354Z",
     "shell.execute_reply": "2025-05-27T05:07:26.453367Z",
     "shell.execute_reply.started": "2025-05-27T05:07:20.630805Z"
    }
   },
   "outputs": [
    {
     "data": {
      "text/html": [
       "<div>\n",
       "<style scoped>\n",
       "    .dataframe tbody tr th:only-of-type {\n",
       "        vertical-align: middle;\n",
       "    }\n",
       "\n",
       "    .dataframe tbody tr th {\n",
       "        vertical-align: top;\n",
       "    }\n",
       "\n",
       "    .dataframe thead th {\n",
       "        text-align: right;\n",
       "    }\n",
       "</style>\n",
       "<table border=\"1\" class=\"dataframe\">\n",
       "  <thead>\n",
       "    <tr style=\"text-align: right;\">\n",
       "      <th></th>\n",
       "      <th>Number of times pregnant</th>\n",
       "      <th>Plasma glucose concentration a 2 hours in an oral glucose tolerance test</th>\n",
       "      <th>Diastolic blood pressure (mm Hg)</th>\n",
       "      <th>Triceps skin fold thickness (mm)</th>\n",
       "      <th>2-Hour serum insulin (mu U/ml)</th>\n",
       "      <th>Body mass index (weight in kg/(height in m)^2)</th>\n",
       "      <th>Diabetes pedigree function</th>\n",
       "      <th>Age (years)</th>\n",
       "      <th>Class variable</th>\n",
       "    </tr>\n",
       "  </thead>\n",
       "  <tbody>\n",
       "    <tr>\n",
       "      <th>0</th>\n",
       "      <td>6</td>\n",
       "      <td>148</td>\n",
       "      <td>72</td>\n",
       "      <td>35</td>\n",
       "      <td>0</td>\n",
       "      <td>33.6</td>\n",
       "      <td>0.627</td>\n",
       "      <td>50</td>\n",
       "      <td>1</td>\n",
       "    </tr>\n",
       "    <tr>\n",
       "      <th>1</th>\n",
       "      <td>1</td>\n",
       "      <td>85</td>\n",
       "      <td>66</td>\n",
       "      <td>29</td>\n",
       "      <td>0</td>\n",
       "      <td>26.6</td>\n",
       "      <td>0.351</td>\n",
       "      <td>31</td>\n",
       "      <td>0</td>\n",
       "    </tr>\n",
       "    <tr>\n",
       "      <th>2</th>\n",
       "      <td>8</td>\n",
       "      <td>183</td>\n",
       "      <td>64</td>\n",
       "      <td>0</td>\n",
       "      <td>0</td>\n",
       "      <td>23.3</td>\n",
       "      <td>0.672</td>\n",
       "      <td>32</td>\n",
       "      <td>1</td>\n",
       "    </tr>\n",
       "    <tr>\n",
       "      <th>3</th>\n",
       "      <td>1</td>\n",
       "      <td>89</td>\n",
       "      <td>66</td>\n",
       "      <td>23</td>\n",
       "      <td>94</td>\n",
       "      <td>28.1</td>\n",
       "      <td>0.167</td>\n",
       "      <td>21</td>\n",
       "      <td>0</td>\n",
       "    </tr>\n",
       "    <tr>\n",
       "      <th>4</th>\n",
       "      <td>0</td>\n",
       "      <td>137</td>\n",
       "      <td>40</td>\n",
       "      <td>35</td>\n",
       "      <td>168</td>\n",
       "      <td>43.1</td>\n",
       "      <td>2.288</td>\n",
       "      <td>33</td>\n",
       "      <td>1</td>\n",
       "    </tr>\n",
       "  </tbody>\n",
       "</table>\n",
       "</div>"
      ],
      "text/plain": [
       "   Number of times pregnant  \\\n",
       "0                         6   \n",
       "1                         1   \n",
       "2                         8   \n",
       "3                         1   \n",
       "4                         0   \n",
       "\n",
       "   Plasma glucose concentration a 2 hours in an oral glucose tolerance test  \\\n",
       "0                                                148                          \n",
       "1                                                 85                          \n",
       "2                                                183                          \n",
       "3                                                 89                          \n",
       "4                                                137                          \n",
       "\n",
       "   Diastolic blood pressure (mm Hg)  Triceps skin fold thickness (mm)  \\\n",
       "0                                72                                35   \n",
       "1                                66                                29   \n",
       "2                                64                                 0   \n",
       "3                                66                                23   \n",
       "4                                40                                35   \n",
       "\n",
       "   2-Hour serum insulin (mu U/ml)  \\\n",
       "0                               0   \n",
       "1                               0   \n",
       "2                               0   \n",
       "3                              94   \n",
       "4                             168   \n",
       "\n",
       "   Body mass index (weight in kg/(height in m)^2)  Diabetes pedigree function  \\\n",
       "0                                            33.6                       0.627   \n",
       "1                                            26.6                       0.351   \n",
       "2                                            23.3                       0.672   \n",
       "3                                            28.1                       0.167   \n",
       "4                                            43.1                       2.288   \n",
       "\n",
       "   Age (years)  Class variable  \n",
       "0           50               1  \n",
       "1           31               0  \n",
       "2           32               1  \n",
       "3           21               0  \n",
       "4           33               1  "
      ]
     },
     "metadata": {},
     "output_type": "display_data"
    }
   ],
   "source": [
    "# loading sample dataset from pycaret dataset module\n",
    "from pycaret.datasets import get_data\n",
    "data = get_data('diabetes')"
   ]
  },
  {
   "attachments": {},
   "cell_type": "markdown",
   "id": "c00f6a4a",
   "metadata": {},
   "source": [
    "## Setup\n",
    "This function initializes the training environment and creates the transformation pipeline. Setup function must be called before executing any other function in PyCaret. It only has two required parameters i.e. `data` and `target`. All the other parameters are optional."
   ]
  },
  {
   "cell_type": "code",
   "execution_count": 3,
   "id": "97f2c6c6",
   "metadata": {
    "execution": {
     "iopub.execute_input": "2025-05-27T05:07:26.455423Z",
     "iopub.status.busy": "2025-05-27T05:07:26.455175Z",
     "iopub.status.idle": "2025-05-27T05:07:45.385716Z",
     "shell.execute_reply": "2025-05-27T05:07:45.385240Z",
     "shell.execute_reply.started": "2025-05-27T05:07:26.455397Z"
    }
   },
   "outputs": [
    {
     "data": {
      "text/html": [
       "<style type=\"text/css\">\n",
       "#T_c6ca6_row8_col1 {\n",
       "  background-color: lightgreen;\n",
       "}\n",
       "</style>\n",
       "<table id=\"T_c6ca6\">\n",
       "  <thead>\n",
       "    <tr>\n",
       "      <th class=\"blank level0\" >&nbsp;</th>\n",
       "      <th id=\"T_c6ca6_level0_col0\" class=\"col_heading level0 col0\" >Description</th>\n",
       "      <th id=\"T_c6ca6_level0_col1\" class=\"col_heading level0 col1\" >Value</th>\n",
       "    </tr>\n",
       "  </thead>\n",
       "  <tbody>\n",
       "    <tr>\n",
       "      <th id=\"T_c6ca6_level0_row0\" class=\"row_heading level0 row0\" >0</th>\n",
       "      <td id=\"T_c6ca6_row0_col0\" class=\"data row0 col0\" >Session id</td>\n",
       "      <td id=\"T_c6ca6_row0_col1\" class=\"data row0 col1\" >123</td>\n",
       "    </tr>\n",
       "    <tr>\n",
       "      <th id=\"T_c6ca6_level0_row1\" class=\"row_heading level0 row1\" >1</th>\n",
       "      <td id=\"T_c6ca6_row1_col0\" class=\"data row1 col0\" >Target</td>\n",
       "      <td id=\"T_c6ca6_row1_col1\" class=\"data row1 col1\" >Class variable</td>\n",
       "    </tr>\n",
       "    <tr>\n",
       "      <th id=\"T_c6ca6_level0_row2\" class=\"row_heading level0 row2\" >2</th>\n",
       "      <td id=\"T_c6ca6_row2_col0\" class=\"data row2 col0\" >Target type</td>\n",
       "      <td id=\"T_c6ca6_row2_col1\" class=\"data row2 col1\" >Binary</td>\n",
       "    </tr>\n",
       "    <tr>\n",
       "      <th id=\"T_c6ca6_level0_row3\" class=\"row_heading level0 row3\" >3</th>\n",
       "      <td id=\"T_c6ca6_row3_col0\" class=\"data row3 col0\" >Original data shape</td>\n",
       "      <td id=\"T_c6ca6_row3_col1\" class=\"data row3 col1\" >(768, 9)</td>\n",
       "    </tr>\n",
       "    <tr>\n",
       "      <th id=\"T_c6ca6_level0_row4\" class=\"row_heading level0 row4\" >4</th>\n",
       "      <td id=\"T_c6ca6_row4_col0\" class=\"data row4 col0\" >Transformed data shape</td>\n",
       "      <td id=\"T_c6ca6_row4_col1\" class=\"data row4 col1\" >(768, 9)</td>\n",
       "    </tr>\n",
       "    <tr>\n",
       "      <th id=\"T_c6ca6_level0_row5\" class=\"row_heading level0 row5\" >5</th>\n",
       "      <td id=\"T_c6ca6_row5_col0\" class=\"data row5 col0\" >Transformed train set shape</td>\n",
       "      <td id=\"T_c6ca6_row5_col1\" class=\"data row5 col1\" >(537, 9)</td>\n",
       "    </tr>\n",
       "    <tr>\n",
       "      <th id=\"T_c6ca6_level0_row6\" class=\"row_heading level0 row6\" >6</th>\n",
       "      <td id=\"T_c6ca6_row6_col0\" class=\"data row6 col0\" >Transformed test set shape</td>\n",
       "      <td id=\"T_c6ca6_row6_col1\" class=\"data row6 col1\" >(231, 9)</td>\n",
       "    </tr>\n",
       "    <tr>\n",
       "      <th id=\"T_c6ca6_level0_row7\" class=\"row_heading level0 row7\" >7</th>\n",
       "      <td id=\"T_c6ca6_row7_col0\" class=\"data row7 col0\" >Numeric features</td>\n",
       "      <td id=\"T_c6ca6_row7_col1\" class=\"data row7 col1\" >8</td>\n",
       "    </tr>\n",
       "    <tr>\n",
       "      <th id=\"T_c6ca6_level0_row8\" class=\"row_heading level0 row8\" >8</th>\n",
       "      <td id=\"T_c6ca6_row8_col0\" class=\"data row8 col0\" >Preprocess</td>\n",
       "      <td id=\"T_c6ca6_row8_col1\" class=\"data row8 col1\" >True</td>\n",
       "    </tr>\n",
       "    <tr>\n",
       "      <th id=\"T_c6ca6_level0_row9\" class=\"row_heading level0 row9\" >9</th>\n",
       "      <td id=\"T_c6ca6_row9_col0\" class=\"data row9 col0\" >Imputation type</td>\n",
       "      <td id=\"T_c6ca6_row9_col1\" class=\"data row9 col1\" >simple</td>\n",
       "    </tr>\n",
       "    <tr>\n",
       "      <th id=\"T_c6ca6_level0_row10\" class=\"row_heading level0 row10\" >10</th>\n",
       "      <td id=\"T_c6ca6_row10_col0\" class=\"data row10 col0\" >Numeric imputation</td>\n",
       "      <td id=\"T_c6ca6_row10_col1\" class=\"data row10 col1\" >mean</td>\n",
       "    </tr>\n",
       "    <tr>\n",
       "      <th id=\"T_c6ca6_level0_row11\" class=\"row_heading level0 row11\" >11</th>\n",
       "      <td id=\"T_c6ca6_row11_col0\" class=\"data row11 col0\" >Categorical imputation</td>\n",
       "      <td id=\"T_c6ca6_row11_col1\" class=\"data row11 col1\" >mode</td>\n",
       "    </tr>\n",
       "    <tr>\n",
       "      <th id=\"T_c6ca6_level0_row12\" class=\"row_heading level0 row12\" >12</th>\n",
       "      <td id=\"T_c6ca6_row12_col0\" class=\"data row12 col0\" >Fold Generator</td>\n",
       "      <td id=\"T_c6ca6_row12_col1\" class=\"data row12 col1\" >StratifiedKFold</td>\n",
       "    </tr>\n",
       "    <tr>\n",
       "      <th id=\"T_c6ca6_level0_row13\" class=\"row_heading level0 row13\" >13</th>\n",
       "      <td id=\"T_c6ca6_row13_col0\" class=\"data row13 col0\" >Fold Number</td>\n",
       "      <td id=\"T_c6ca6_row13_col1\" class=\"data row13 col1\" >10</td>\n",
       "    </tr>\n",
       "    <tr>\n",
       "      <th id=\"T_c6ca6_level0_row14\" class=\"row_heading level0 row14\" >14</th>\n",
       "      <td id=\"T_c6ca6_row14_col0\" class=\"data row14 col0\" >CPU Jobs</td>\n",
       "      <td id=\"T_c6ca6_row14_col1\" class=\"data row14 col1\" >-1</td>\n",
       "    </tr>\n",
       "    <tr>\n",
       "      <th id=\"T_c6ca6_level0_row15\" class=\"row_heading level0 row15\" >15</th>\n",
       "      <td id=\"T_c6ca6_row15_col0\" class=\"data row15 col0\" >Use GPU</td>\n",
       "      <td id=\"T_c6ca6_row15_col1\" class=\"data row15 col1\" >False</td>\n",
       "    </tr>\n",
       "    <tr>\n",
       "      <th id=\"T_c6ca6_level0_row16\" class=\"row_heading level0 row16\" >16</th>\n",
       "      <td id=\"T_c6ca6_row16_col0\" class=\"data row16 col0\" >Log Experiment</td>\n",
       "      <td id=\"T_c6ca6_row16_col1\" class=\"data row16 col1\" >False</td>\n",
       "    </tr>\n",
       "    <tr>\n",
       "      <th id=\"T_c6ca6_level0_row17\" class=\"row_heading level0 row17\" >17</th>\n",
       "      <td id=\"T_c6ca6_row17_col0\" class=\"data row17 col0\" >Experiment Name</td>\n",
       "      <td id=\"T_c6ca6_row17_col1\" class=\"data row17 col1\" >clf-default-name</td>\n",
       "    </tr>\n",
       "    <tr>\n",
       "      <th id=\"T_c6ca6_level0_row18\" class=\"row_heading level0 row18\" >18</th>\n",
       "      <td id=\"T_c6ca6_row18_col0\" class=\"data row18 col0\" >USI</td>\n",
       "      <td id=\"T_c6ca6_row18_col1\" class=\"data row18 col1\" >bba7</td>\n",
       "    </tr>\n",
       "  </tbody>\n",
       "</table>\n"
      ],
      "text/plain": [
       "<pandas.io.formats.style.Styler at 0x7f2ee96c24a0>"
      ]
     },
     "metadata": {},
     "output_type": "display_data"
    }
   ],
   "source": [
    "# import pycaret classification and init setup\n",
    "from pycaret.classification import *\n",
    "s = setup(data, target = 'Class variable', session_id = 123)"
   ]
  },
  {
   "attachments": {},
   "cell_type": "markdown",
   "id": "3c583864",
   "metadata": {},
   "source": [
    "Once the setup has been successfully executed it shows the information grid containing experiment level information. \n",
    "\n",
    "- **Session id:**  A pseudo-random number distributed as a seed in all functions for later reproducibility. If no `session_id` is passed, a random number is automatically generated that is distributed to all functions.<br/>\n",
    "<br/>\n",
    "- **Target type:**  Binary, Multiclass, or Regression. The Target type is automatically detected. <br/>\n",
    "<br/>\n",
    "- **Label Encoding:**  When the Target variable is of type string (i.e. 'Yes' or 'No') instead of 1 or 0, it automatically encodes the label into 1 and 0 and displays the mapping (0 : No, 1 : Yes) for reference. In this tutorial, no label encoding is required since the target variable is of numeric type. <br/>\n",
    "<br/>\n",
    "- **Original data shape:**  Shape of the original data prior to any transformations. <br/>\n",
    "<br/>\n",
    "- **Transformed train set shape :**  Shape of transformed train set <br/>\n",
    "<br/>\n",
    "- **Transformed test set shape :**  Shape of transformed test set <br/>\n",
    "<br/>\n",
    "- **Numeric features :**  The number of features considered as numerical. <br/>\n",
    "<br/>\n",
    "- **Categorical features :**  The number of features considered as categorical. <br/>"
   ]
  },
  {
   "attachments": {},
   "cell_type": "markdown",
   "id": "ada19398",
   "metadata": {},
   "source": [
    "PyCaret has two set of API's that you can work with. (1) Functional (as seen above) and (2) Object Oriented API.\n",
    "\n",
    "With Object Oriented API instead of executing functions directly you will import a class and execute methods of class."
   ]
  },
  {
   "cell_type": "code",
   "execution_count": 4,
   "id": "32ee91c9",
   "metadata": {
    "execution": {
     "iopub.execute_input": "2025-05-27T05:07:45.386606Z",
     "iopub.status.busy": "2025-05-27T05:07:45.386223Z",
     "iopub.status.idle": "2025-05-27T05:07:45.389094Z",
     "shell.execute_reply": "2025-05-27T05:07:45.388767Z",
     "shell.execute_reply.started": "2025-05-27T05:07:45.386587Z"
    }
   },
   "outputs": [],
   "source": [
    "# import ClassificationExperiment and init the class\n",
    "from pycaret.classification import ClassificationExperiment\n",
    "exp = ClassificationExperiment()"
   ]
  },
  {
   "cell_type": "code",
   "execution_count": 5,
   "id": "3ead9fb5",
   "metadata": {
    "execution": {
     "iopub.execute_input": "2025-05-27T05:07:45.390133Z",
     "iopub.status.busy": "2025-05-27T05:07:45.389993Z",
     "iopub.status.idle": "2025-05-27T05:07:45.488925Z",
     "shell.execute_reply": "2025-05-27T05:07:45.488184Z",
     "shell.execute_reply.started": "2025-05-27T05:07:45.390121Z"
    }
   },
   "outputs": [
    {
     "data": {
      "text/plain": [
       "pycaret.classification.oop.ClassificationExperiment"
      ]
     },
     "execution_count": 5,
     "metadata": {},
     "output_type": "execute_result"
    }
   ],
   "source": [
    "# check the type of exp\n",
    "type(exp)"
   ]
  },
  {
   "cell_type": "code",
   "execution_count": 6,
   "id": "f05b8590",
   "metadata": {
    "execution": {
     "iopub.execute_input": "2025-05-27T05:07:45.489870Z",
     "iopub.status.busy": "2025-05-27T05:07:45.489620Z",
     "iopub.status.idle": "2025-05-27T05:07:46.071821Z",
     "shell.execute_reply": "2025-05-27T05:07:46.071467Z",
     "shell.execute_reply.started": "2025-05-27T05:07:45.489837Z"
    }
   },
   "outputs": [
    {
     "data": {
      "text/html": [
       "<style type=\"text/css\">\n",
       "#T_5f502_row8_col1 {\n",
       "  background-color: lightgreen;\n",
       "}\n",
       "</style>\n",
       "<table id=\"T_5f502\">\n",
       "  <thead>\n",
       "    <tr>\n",
       "      <th class=\"blank level0\" >&nbsp;</th>\n",
       "      <th id=\"T_5f502_level0_col0\" class=\"col_heading level0 col0\" >Description</th>\n",
       "      <th id=\"T_5f502_level0_col1\" class=\"col_heading level0 col1\" >Value</th>\n",
       "    </tr>\n",
       "  </thead>\n",
       "  <tbody>\n",
       "    <tr>\n",
       "      <th id=\"T_5f502_level0_row0\" class=\"row_heading level0 row0\" >0</th>\n",
       "      <td id=\"T_5f502_row0_col0\" class=\"data row0 col0\" >Session id</td>\n",
       "      <td id=\"T_5f502_row0_col1\" class=\"data row0 col1\" >123</td>\n",
       "    </tr>\n",
       "    <tr>\n",
       "      <th id=\"T_5f502_level0_row1\" class=\"row_heading level0 row1\" >1</th>\n",
       "      <td id=\"T_5f502_row1_col0\" class=\"data row1 col0\" >Target</td>\n",
       "      <td id=\"T_5f502_row1_col1\" class=\"data row1 col1\" >Class variable</td>\n",
       "    </tr>\n",
       "    <tr>\n",
       "      <th id=\"T_5f502_level0_row2\" class=\"row_heading level0 row2\" >2</th>\n",
       "      <td id=\"T_5f502_row2_col0\" class=\"data row2 col0\" >Target type</td>\n",
       "      <td id=\"T_5f502_row2_col1\" class=\"data row2 col1\" >Binary</td>\n",
       "    </tr>\n",
       "    <tr>\n",
       "      <th id=\"T_5f502_level0_row3\" class=\"row_heading level0 row3\" >3</th>\n",
       "      <td id=\"T_5f502_row3_col0\" class=\"data row3 col0\" >Original data shape</td>\n",
       "      <td id=\"T_5f502_row3_col1\" class=\"data row3 col1\" >(768, 9)</td>\n",
       "    </tr>\n",
       "    <tr>\n",
       "      <th id=\"T_5f502_level0_row4\" class=\"row_heading level0 row4\" >4</th>\n",
       "      <td id=\"T_5f502_row4_col0\" class=\"data row4 col0\" >Transformed data shape</td>\n",
       "      <td id=\"T_5f502_row4_col1\" class=\"data row4 col1\" >(768, 9)</td>\n",
       "    </tr>\n",
       "    <tr>\n",
       "      <th id=\"T_5f502_level0_row5\" class=\"row_heading level0 row5\" >5</th>\n",
       "      <td id=\"T_5f502_row5_col0\" class=\"data row5 col0\" >Transformed train set shape</td>\n",
       "      <td id=\"T_5f502_row5_col1\" class=\"data row5 col1\" >(537, 9)</td>\n",
       "    </tr>\n",
       "    <tr>\n",
       "      <th id=\"T_5f502_level0_row6\" class=\"row_heading level0 row6\" >6</th>\n",
       "      <td id=\"T_5f502_row6_col0\" class=\"data row6 col0\" >Transformed test set shape</td>\n",
       "      <td id=\"T_5f502_row6_col1\" class=\"data row6 col1\" >(231, 9)</td>\n",
       "    </tr>\n",
       "    <tr>\n",
       "      <th id=\"T_5f502_level0_row7\" class=\"row_heading level0 row7\" >7</th>\n",
       "      <td id=\"T_5f502_row7_col0\" class=\"data row7 col0\" >Numeric features</td>\n",
       "      <td id=\"T_5f502_row7_col1\" class=\"data row7 col1\" >8</td>\n",
       "    </tr>\n",
       "    <tr>\n",
       "      <th id=\"T_5f502_level0_row8\" class=\"row_heading level0 row8\" >8</th>\n",
       "      <td id=\"T_5f502_row8_col0\" class=\"data row8 col0\" >Preprocess</td>\n",
       "      <td id=\"T_5f502_row8_col1\" class=\"data row8 col1\" >True</td>\n",
       "    </tr>\n",
       "    <tr>\n",
       "      <th id=\"T_5f502_level0_row9\" class=\"row_heading level0 row9\" >9</th>\n",
       "      <td id=\"T_5f502_row9_col0\" class=\"data row9 col0\" >Imputation type</td>\n",
       "      <td id=\"T_5f502_row9_col1\" class=\"data row9 col1\" >simple</td>\n",
       "    </tr>\n",
       "    <tr>\n",
       "      <th id=\"T_5f502_level0_row10\" class=\"row_heading level0 row10\" >10</th>\n",
       "      <td id=\"T_5f502_row10_col0\" class=\"data row10 col0\" >Numeric imputation</td>\n",
       "      <td id=\"T_5f502_row10_col1\" class=\"data row10 col1\" >mean</td>\n",
       "    </tr>\n",
       "    <tr>\n",
       "      <th id=\"T_5f502_level0_row11\" class=\"row_heading level0 row11\" >11</th>\n",
       "      <td id=\"T_5f502_row11_col0\" class=\"data row11 col0\" >Categorical imputation</td>\n",
       "      <td id=\"T_5f502_row11_col1\" class=\"data row11 col1\" >mode</td>\n",
       "    </tr>\n",
       "    <tr>\n",
       "      <th id=\"T_5f502_level0_row12\" class=\"row_heading level0 row12\" >12</th>\n",
       "      <td id=\"T_5f502_row12_col0\" class=\"data row12 col0\" >Fold Generator</td>\n",
       "      <td id=\"T_5f502_row12_col1\" class=\"data row12 col1\" >StratifiedKFold</td>\n",
       "    </tr>\n",
       "    <tr>\n",
       "      <th id=\"T_5f502_level0_row13\" class=\"row_heading level0 row13\" >13</th>\n",
       "      <td id=\"T_5f502_row13_col0\" class=\"data row13 col0\" >Fold Number</td>\n",
       "      <td id=\"T_5f502_row13_col1\" class=\"data row13 col1\" >10</td>\n",
       "    </tr>\n",
       "    <tr>\n",
       "      <th id=\"T_5f502_level0_row14\" class=\"row_heading level0 row14\" >14</th>\n",
       "      <td id=\"T_5f502_row14_col0\" class=\"data row14 col0\" >CPU Jobs</td>\n",
       "      <td id=\"T_5f502_row14_col1\" class=\"data row14 col1\" >-1</td>\n",
       "    </tr>\n",
       "    <tr>\n",
       "      <th id=\"T_5f502_level0_row15\" class=\"row_heading level0 row15\" >15</th>\n",
       "      <td id=\"T_5f502_row15_col0\" class=\"data row15 col0\" >Use GPU</td>\n",
       "      <td id=\"T_5f502_row15_col1\" class=\"data row15 col1\" >False</td>\n",
       "    </tr>\n",
       "    <tr>\n",
       "      <th id=\"T_5f502_level0_row16\" class=\"row_heading level0 row16\" >16</th>\n",
       "      <td id=\"T_5f502_row16_col0\" class=\"data row16 col0\" >Log Experiment</td>\n",
       "      <td id=\"T_5f502_row16_col1\" class=\"data row16 col1\" >False</td>\n",
       "    </tr>\n",
       "    <tr>\n",
       "      <th id=\"T_5f502_level0_row17\" class=\"row_heading level0 row17\" >17</th>\n",
       "      <td id=\"T_5f502_row17_col0\" class=\"data row17 col0\" >Experiment Name</td>\n",
       "      <td id=\"T_5f502_row17_col1\" class=\"data row17 col1\" >clf-default-name</td>\n",
       "    </tr>\n",
       "    <tr>\n",
       "      <th id=\"T_5f502_level0_row18\" class=\"row_heading level0 row18\" >18</th>\n",
       "      <td id=\"T_5f502_row18_col0\" class=\"data row18 col0\" >USI</td>\n",
       "      <td id=\"T_5f502_row18_col1\" class=\"data row18 col1\" >e823</td>\n",
       "    </tr>\n",
       "  </tbody>\n",
       "</table>\n"
      ],
      "text/plain": [
       "<pandas.io.formats.style.Styler at 0x7f2ee96c13f0>"
      ]
     },
     "metadata": {},
     "output_type": "display_data"
    },
    {
     "data": {
      "text/plain": [
       "<pycaret.classification.oop.ClassificationExperiment at 0x7f2ee96c2350>"
      ]
     },
     "execution_count": 6,
     "metadata": {},
     "output_type": "execute_result"
    }
   ],
   "source": [
    "# init setup on exp\n",
    "exp.setup(data, target = 'Class variable', session_id = 123)"
   ]
  },
  {
   "attachments": {},
   "cell_type": "markdown",
   "id": "77213120",
   "metadata": {},
   "source": [
    "You can use any of the two method i.e. Functional or OOP and even switch back and forth between two set of API's. The choice of method will not impact the results and has been tested for consistency."
   ]
  },
  {
   "attachments": {},
   "cell_type": "markdown",
   "id": "f98dd435",
   "metadata": {},
   "source": [
    "## Compare Models\n",
    "\n",
    "This function trains and evaluates the performance of all the estimators available in the model library using cross-validation. The output of this function is a scoring grid with average cross-validated scores. Metrics evaluated during CV can be accessed using the `get_metrics` function. Custom metrics can be added or removed using `add_metric` and `remove_metric` function."
   ]
  },
  {
   "cell_type": "code",
   "execution_count": 8,
   "id": "65a19df4",
   "metadata": {
    "execution": {
     "iopub.execute_input": "2025-05-27T05:18:14.690865Z",
     "iopub.status.busy": "2025-05-27T05:18:14.690480Z",
     "iopub.status.idle": "2025-05-27T05:20:41.484229Z",
     "shell.execute_reply": "2025-05-27T05:20:41.483623Z",
     "shell.execute_reply.started": "2025-05-27T05:18:14.690828Z"
    }
   },
   "outputs": [
    {
     "data": {
      "text/html": [],
      "text/plain": [
       "<IPython.core.display.HTML object>"
      ]
     },
     "metadata": {},
     "output_type": "display_data"
    },
    {
     "data": {
      "text/html": [
       "<style type=\"text/css\">\n",
       "#T_4c671 th {\n",
       "  text-align: left;\n",
       "}\n",
       "#T_4c671_row0_col0, #T_4c671_row0_col2, #T_4c671_row0_col3, #T_4c671_row0_col4, #T_4c671_row1_col0, #T_4c671_row1_col1, #T_4c671_row1_col3, #T_4c671_row1_col5, #T_4c671_row1_col6, #T_4c671_row1_col7, #T_4c671_row2_col0, #T_4c671_row2_col1, #T_4c671_row2_col2, #T_4c671_row2_col3, #T_4c671_row2_col4, #T_4c671_row2_col5, #T_4c671_row2_col6, #T_4c671_row2_col7, #T_4c671_row3_col0, #T_4c671_row3_col1, #T_4c671_row3_col2, #T_4c671_row3_col3, #T_4c671_row3_col4, #T_4c671_row3_col5, #T_4c671_row3_col6, #T_4c671_row3_col7, #T_4c671_row4_col0, #T_4c671_row4_col1, #T_4c671_row4_col2, #T_4c671_row4_col4, #T_4c671_row4_col5, #T_4c671_row4_col6, #T_4c671_row4_col7, #T_4c671_row5_col0, #T_4c671_row5_col1, #T_4c671_row5_col2, #T_4c671_row5_col3, #T_4c671_row5_col4, #T_4c671_row5_col5, #T_4c671_row5_col6, #T_4c671_row5_col7, #T_4c671_row6_col0, #T_4c671_row6_col1, #T_4c671_row6_col2, #T_4c671_row6_col3, #T_4c671_row6_col4, #T_4c671_row6_col5, #T_4c671_row6_col6, #T_4c671_row6_col7, #T_4c671_row7_col0, #T_4c671_row7_col1, #T_4c671_row7_col2, #T_4c671_row7_col3, #T_4c671_row7_col4, #T_4c671_row7_col5, #T_4c671_row7_col6, #T_4c671_row7_col7, #T_4c671_row8_col0, #T_4c671_row8_col1, #T_4c671_row8_col2, #T_4c671_row8_col3, #T_4c671_row8_col4, #T_4c671_row8_col5, #T_4c671_row8_col6, #T_4c671_row8_col7, #T_4c671_row9_col0, #T_4c671_row9_col1, #T_4c671_row9_col2, #T_4c671_row9_col3, #T_4c671_row9_col4, #T_4c671_row9_col5, #T_4c671_row9_col6, #T_4c671_row9_col7, #T_4c671_row10_col0, #T_4c671_row10_col1, #T_4c671_row10_col2, #T_4c671_row10_col3, #T_4c671_row10_col4, #T_4c671_row10_col5, #T_4c671_row10_col6, #T_4c671_row10_col7, #T_4c671_row11_col0, #T_4c671_row11_col1, #T_4c671_row11_col2, #T_4c671_row11_col3, #T_4c671_row11_col4, #T_4c671_row11_col5, #T_4c671_row11_col6, #T_4c671_row11_col7, #T_4c671_row12_col0, #T_4c671_row12_col1, #T_4c671_row12_col2, #T_4c671_row12_col3, #T_4c671_row12_col4, #T_4c671_row12_col5, #T_4c671_row12_col6, #T_4c671_row12_col7, #T_4c671_row13_col0, #T_4c671_row13_col1, #T_4c671_row13_col2, #T_4c671_row13_col3, #T_4c671_row13_col4, #T_4c671_row13_col5, #T_4c671_row13_col6, #T_4c671_row13_col7, #T_4c671_row14_col0, #T_4c671_row14_col1, #T_4c671_row14_col2, #T_4c671_row14_col3, #T_4c671_row14_col4, #T_4c671_row14_col5, #T_4c671_row14_col6, #T_4c671_row14_col7 {\n",
       "  text-align: left;\n",
       "}\n",
       "#T_4c671_row0_col1, #T_4c671_row0_col5, #T_4c671_row0_col6, #T_4c671_row0_col7, #T_4c671_row1_col2, #T_4c671_row1_col4, #T_4c671_row4_col3 {\n",
       "  text-align: left;\n",
       "  background-color: yellow;\n",
       "}\n",
       "#T_4c671_row0_col8, #T_4c671_row1_col8, #T_4c671_row2_col8, #T_4c671_row3_col8, #T_4c671_row4_col8, #T_4c671_row5_col8, #T_4c671_row6_col8, #T_4c671_row7_col8, #T_4c671_row8_col8, #T_4c671_row10_col8, #T_4c671_row11_col8, #T_4c671_row12_col8, #T_4c671_row14_col8 {\n",
       "  text-align: left;\n",
       "  background-color: lightgrey;\n",
       "}\n",
       "#T_4c671_row9_col8, #T_4c671_row13_col8 {\n",
       "  text-align: left;\n",
       "  background-color: yellow;\n",
       "  background-color: lightgrey;\n",
       "}\n",
       "</style>\n",
       "<table id=\"T_4c671\">\n",
       "  <thead>\n",
       "    <tr>\n",
       "      <th class=\"blank level0\" >&nbsp;</th>\n",
       "      <th id=\"T_4c671_level0_col0\" class=\"col_heading level0 col0\" >Model</th>\n",
       "      <th id=\"T_4c671_level0_col1\" class=\"col_heading level0 col1\" >Accuracy</th>\n",
       "      <th id=\"T_4c671_level0_col2\" class=\"col_heading level0 col2\" >AUC</th>\n",
       "      <th id=\"T_4c671_level0_col3\" class=\"col_heading level0 col3\" >Recall</th>\n",
       "      <th id=\"T_4c671_level0_col4\" class=\"col_heading level0 col4\" >Prec.</th>\n",
       "      <th id=\"T_4c671_level0_col5\" class=\"col_heading level0 col5\" >F1</th>\n",
       "      <th id=\"T_4c671_level0_col6\" class=\"col_heading level0 col6\" >Kappa</th>\n",
       "      <th id=\"T_4c671_level0_col7\" class=\"col_heading level0 col7\" >MCC</th>\n",
       "      <th id=\"T_4c671_level0_col8\" class=\"col_heading level0 col8\" >TT (Sec)</th>\n",
       "    </tr>\n",
       "  </thead>\n",
       "  <tbody>\n",
       "    <tr>\n",
       "      <th id=\"T_4c671_level0_row0\" class=\"row_heading level0 row0\" >lr</th>\n",
       "      <td id=\"T_4c671_row0_col0\" class=\"data row0 col0\" >Logistic Regression</td>\n",
       "      <td id=\"T_4c671_row0_col1\" class=\"data row0 col1\" >0.7689</td>\n",
       "      <td id=\"T_4c671_row0_col2\" class=\"data row0 col2\" >0.8047</td>\n",
       "      <td id=\"T_4c671_row0_col3\" class=\"data row0 col3\" >0.5602</td>\n",
       "      <td id=\"T_4c671_row0_col4\" class=\"data row0 col4\" >0.7208</td>\n",
       "      <td id=\"T_4c671_row0_col5\" class=\"data row0 col5\" >0.6279</td>\n",
       "      <td id=\"T_4c671_row0_col6\" class=\"data row0 col6\" >0.4641</td>\n",
       "      <td id=\"T_4c671_row0_col7\" class=\"data row0 col7\" >0.4736</td>\n",
       "      <td id=\"T_4c671_row0_col8\" class=\"data row0 col8\" >1.7270</td>\n",
       "    </tr>\n",
       "    <tr>\n",
       "      <th id=\"T_4c671_level0_row1\" class=\"row_heading level0 row1\" >ridge</th>\n",
       "      <td id=\"T_4c671_row1_col0\" class=\"data row1 col0\" >Ridge Classifier</td>\n",
       "      <td id=\"T_4c671_row1_col1\" class=\"data row1 col1\" >0.7670</td>\n",
       "      <td id=\"T_4c671_row1_col2\" class=\"data row1 col2\" >0.8060</td>\n",
       "      <td id=\"T_4c671_row1_col3\" class=\"data row1 col3\" >0.5497</td>\n",
       "      <td id=\"T_4c671_row1_col4\" class=\"data row1 col4\" >0.7235</td>\n",
       "      <td id=\"T_4c671_row1_col5\" class=\"data row1 col5\" >0.6221</td>\n",
       "      <td id=\"T_4c671_row1_col6\" class=\"data row1 col6\" >0.4581</td>\n",
       "      <td id=\"T_4c671_row1_col7\" class=\"data row1 col7\" >0.4690</td>\n",
       "      <td id=\"T_4c671_row1_col8\" class=\"data row1 col8\" >0.2090</td>\n",
       "    </tr>\n",
       "    <tr>\n",
       "      <th id=\"T_4c671_level0_row2\" class=\"row_heading level0 row2\" >lda</th>\n",
       "      <td id=\"T_4c671_row2_col0\" class=\"data row2 col0\" >Linear Discriminant Analysis</td>\n",
       "      <td id=\"T_4c671_row2_col1\" class=\"data row2 col1\" >0.7670</td>\n",
       "      <td id=\"T_4c671_row2_col2\" class=\"data row2 col2\" >0.8055</td>\n",
       "      <td id=\"T_4c671_row2_col3\" class=\"data row2 col3\" >0.5550</td>\n",
       "      <td id=\"T_4c671_row2_col4\" class=\"data row2 col4\" >0.7202</td>\n",
       "      <td id=\"T_4c671_row2_col5\" class=\"data row2 col5\" >0.6243</td>\n",
       "      <td id=\"T_4c671_row2_col6\" class=\"data row2 col6\" >0.4594</td>\n",
       "      <td id=\"T_4c671_row2_col7\" class=\"data row2 col7\" >0.4695</td>\n",
       "      <td id=\"T_4c671_row2_col8\" class=\"data row2 col8\" >0.0070</td>\n",
       "    </tr>\n",
       "    <tr>\n",
       "      <th id=\"T_4c671_level0_row3\" class=\"row_heading level0 row3\" >rf</th>\n",
       "      <td id=\"T_4c671_row3_col0\" class=\"data row3 col0\" >Random Forest Classifier</td>\n",
       "      <td id=\"T_4c671_row3_col1\" class=\"data row3 col1\" >0.7485</td>\n",
       "      <td id=\"T_4c671_row3_col2\" class=\"data row3 col2\" >0.7911</td>\n",
       "      <td id=\"T_4c671_row3_col3\" class=\"data row3 col3\" >0.5284</td>\n",
       "      <td id=\"T_4c671_row3_col4\" class=\"data row3 col4\" >0.6811</td>\n",
       "      <td id=\"T_4c671_row3_col5\" class=\"data row3 col5\" >0.5924</td>\n",
       "      <td id=\"T_4c671_row3_col6\" class=\"data row3 col6\" >0.4150</td>\n",
       "      <td id=\"T_4c671_row3_col7\" class=\"data row3 col7\" >0.4238</td>\n",
       "      <td id=\"T_4c671_row3_col8\" class=\"data row3 col8\" >0.2300</td>\n",
       "    </tr>\n",
       "    <tr>\n",
       "      <th id=\"T_4c671_level0_row4\" class=\"row_heading level0 row4\" >nb</th>\n",
       "      <td id=\"T_4c671_row4_col0\" class=\"data row4 col0\" >Naive Bayes</td>\n",
       "      <td id=\"T_4c671_row4_col1\" class=\"data row4 col1\" >0.7427</td>\n",
       "      <td id=\"T_4c671_row4_col2\" class=\"data row4 col2\" >0.7955</td>\n",
       "      <td id=\"T_4c671_row4_col3\" class=\"data row4 col3\" >0.5702</td>\n",
       "      <td id=\"T_4c671_row4_col4\" class=\"data row4 col4\" >0.6543</td>\n",
       "      <td id=\"T_4c671_row4_col5\" class=\"data row4 col5\" >0.6043</td>\n",
       "      <td id=\"T_4c671_row4_col6\" class=\"data row4 col6\" >0.4156</td>\n",
       "      <td id=\"T_4c671_row4_col7\" class=\"data row4 col7\" >0.4215</td>\n",
       "      <td id=\"T_4c671_row4_col8\" class=\"data row4 col8\" >0.2050</td>\n",
       "    </tr>\n",
       "    <tr>\n",
       "      <th id=\"T_4c671_level0_row5\" class=\"row_heading level0 row5\" >catboost</th>\n",
       "      <td id=\"T_4c671_row5_col0\" class=\"data row5 col0\" >CatBoost Classifier</td>\n",
       "      <td id=\"T_4c671_row5_col1\" class=\"data row5 col1\" >0.7410</td>\n",
       "      <td id=\"T_4c671_row5_col2\" class=\"data row5 col2\" >0.7993</td>\n",
       "      <td id=\"T_4c671_row5_col3\" class=\"data row5 col3\" >0.5278</td>\n",
       "      <td id=\"T_4c671_row5_col4\" class=\"data row5 col4\" >0.6630</td>\n",
       "      <td id=\"T_4c671_row5_col5\" class=\"data row5 col5\" >0.5851</td>\n",
       "      <td id=\"T_4c671_row5_col6\" class=\"data row5 col6\" >0.4005</td>\n",
       "      <td id=\"T_4c671_row5_col7\" class=\"data row5 col7\" >0.4078</td>\n",
       "      <td id=\"T_4c671_row5_col8\" class=\"data row5 col8\" >11.2340</td>\n",
       "    </tr>\n",
       "    <tr>\n",
       "      <th id=\"T_4c671_level0_row6\" class=\"row_heading level0 row6\" >gbc</th>\n",
       "      <td id=\"T_4c671_row6_col0\" class=\"data row6 col0\" >Gradient Boosting Classifier</td>\n",
       "      <td id=\"T_4c671_row6_col1\" class=\"data row6 col1\" >0.7373</td>\n",
       "      <td id=\"T_4c671_row6_col2\" class=\"data row6 col2\" >0.7909</td>\n",
       "      <td id=\"T_4c671_row6_col3\" class=\"data row6 col3\" >0.5550</td>\n",
       "      <td id=\"T_4c671_row6_col4\" class=\"data row6 col4\" >0.6445</td>\n",
       "      <td id=\"T_4c671_row6_col5\" class=\"data row6 col5\" >0.5931</td>\n",
       "      <td id=\"T_4c671_row6_col6\" class=\"data row6 col6\" >0.4013</td>\n",
       "      <td id=\"T_4c671_row6_col7\" class=\"data row6 col7\" >0.4059</td>\n",
       "      <td id=\"T_4c671_row6_col8\" class=\"data row6 col8\" >0.0170</td>\n",
       "    </tr>\n",
       "    <tr>\n",
       "      <th id=\"T_4c671_level0_row7\" class=\"row_heading level0 row7\" >ada</th>\n",
       "      <td id=\"T_4c671_row7_col0\" class=\"data row7 col0\" >Ada Boost Classifier</td>\n",
       "      <td id=\"T_4c671_row7_col1\" class=\"data row7 col1\" >0.7372</td>\n",
       "      <td id=\"T_4c671_row7_col2\" class=\"data row7 col2\" >0.7799</td>\n",
       "      <td id=\"T_4c671_row7_col3\" class=\"data row7 col3\" >0.5275</td>\n",
       "      <td id=\"T_4c671_row7_col4\" class=\"data row7 col4\" >0.6585</td>\n",
       "      <td id=\"T_4c671_row7_col5\" class=\"data row7 col5\" >0.5796</td>\n",
       "      <td id=\"T_4c671_row7_col6\" class=\"data row7 col6\" >0.3926</td>\n",
       "      <td id=\"T_4c671_row7_col7\" class=\"data row7 col7\" >0.4017</td>\n",
       "      <td id=\"T_4c671_row7_col8\" class=\"data row7 col8\" >0.0130</td>\n",
       "    </tr>\n",
       "    <tr>\n",
       "      <th id=\"T_4c671_level0_row8\" class=\"row_heading level0 row8\" >et</th>\n",
       "      <td id=\"T_4c671_row8_col0\" class=\"data row8 col0\" >Extra Trees Classifier</td>\n",
       "      <td id=\"T_4c671_row8_col1\" class=\"data row8 col1\" >0.7299</td>\n",
       "      <td id=\"T_4c671_row8_col2\" class=\"data row8 col2\" >0.7788</td>\n",
       "      <td id=\"T_4c671_row8_col3\" class=\"data row8 col3\" >0.4965</td>\n",
       "      <td id=\"T_4c671_row8_col4\" class=\"data row8 col4\" >0.6516</td>\n",
       "      <td id=\"T_4c671_row8_col5\" class=\"data row8 col5\" >0.5596</td>\n",
       "      <td id=\"T_4c671_row8_col6\" class=\"data row8 col6\" >0.3706</td>\n",
       "      <td id=\"T_4c671_row8_col7\" class=\"data row8 col7\" >0.3802</td>\n",
       "      <td id=\"T_4c671_row8_col8\" class=\"data row8 col8\" >0.0360</td>\n",
       "    </tr>\n",
       "    <tr>\n",
       "      <th id=\"T_4c671_level0_row9\" class=\"row_heading level0 row9\" >qda</th>\n",
       "      <td id=\"T_4c671_row9_col0\" class=\"data row9 col0\" >Quadratic Discriminant Analysis</td>\n",
       "      <td id=\"T_4c671_row9_col1\" class=\"data row9 col1\" >0.7282</td>\n",
       "      <td id=\"T_4c671_row9_col2\" class=\"data row9 col2\" >0.7894</td>\n",
       "      <td id=\"T_4c671_row9_col3\" class=\"data row9 col3\" >0.5281</td>\n",
       "      <td id=\"T_4c671_row9_col4\" class=\"data row9 col4\" >0.6558</td>\n",
       "      <td id=\"T_4c671_row9_col5\" class=\"data row9 col5\" >0.5736</td>\n",
       "      <td id=\"T_4c671_row9_col6\" class=\"data row9 col6\" >0.3785</td>\n",
       "      <td id=\"T_4c671_row9_col7\" class=\"data row9 col7\" >0.3910</td>\n",
       "      <td id=\"T_4c671_row9_col8\" class=\"data row9 col8\" >0.0060</td>\n",
       "    </tr>\n",
       "    <tr>\n",
       "      <th id=\"T_4c671_level0_row10\" class=\"row_heading level0 row10\" >knn</th>\n",
       "      <td id=\"T_4c671_row10_col0\" class=\"data row10 col0\" >K Neighbors Classifier</td>\n",
       "      <td id=\"T_4c671_row10_col1\" class=\"data row10 col1\" >0.7001</td>\n",
       "      <td id=\"T_4c671_row10_col2\" class=\"data row10 col2\" >0.7164</td>\n",
       "      <td id=\"T_4c671_row10_col3\" class=\"data row10 col3\" >0.5020</td>\n",
       "      <td id=\"T_4c671_row10_col4\" class=\"data row10 col4\" >0.5982</td>\n",
       "      <td id=\"T_4c671_row10_col5\" class=\"data row10 col5\" >0.5413</td>\n",
       "      <td id=\"T_4c671_row10_col6\" class=\"data row10 col6\" >0.3209</td>\n",
       "      <td id=\"T_4c671_row10_col7\" class=\"data row10 col7\" >0.3271</td>\n",
       "      <td id=\"T_4c671_row10_col8\" class=\"data row10 col8\" >0.2290</td>\n",
       "    </tr>\n",
       "    <tr>\n",
       "      <th id=\"T_4c671_level0_row11\" class=\"row_heading level0 row11\" >dt</th>\n",
       "      <td id=\"T_4c671_row11_col0\" class=\"data row11 col0\" >Decision Tree Classifier</td>\n",
       "      <td id=\"T_4c671_row11_col1\" class=\"data row11 col1\" >0.6928</td>\n",
       "      <td id=\"T_4c671_row11_col2\" class=\"data row11 col2\" >0.6512</td>\n",
       "      <td id=\"T_4c671_row11_col3\" class=\"data row11 col3\" >0.5137</td>\n",
       "      <td id=\"T_4c671_row11_col4\" class=\"data row11 col4\" >0.5636</td>\n",
       "      <td id=\"T_4c671_row11_col5\" class=\"data row11 col5\" >0.5328</td>\n",
       "      <td id=\"T_4c671_row11_col6\" class=\"data row11 col6\" >0.3070</td>\n",
       "      <td id=\"T_4c671_row11_col7\" class=\"data row11 col7\" >0.3098</td>\n",
       "      <td id=\"T_4c671_row11_col8\" class=\"data row11 col8\" >0.2100</td>\n",
       "    </tr>\n",
       "    <tr>\n",
       "      <th id=\"T_4c671_level0_row12\" class=\"row_heading level0 row12\" >xgboost</th>\n",
       "      <td id=\"T_4c671_row12_col0\" class=\"data row12 col0\" >Extreme Gradient Boosting</td>\n",
       "      <td id=\"T_4c671_row12_col1\" class=\"data row12 col1\" >0.6928</td>\n",
       "      <td id=\"T_4c671_row12_col2\" class=\"data row12 col2\" >0.7571</td>\n",
       "      <td id=\"T_4c671_row12_col3\" class=\"data row12 col3\" >0.5070</td>\n",
       "      <td id=\"T_4c671_row12_col4\" class=\"data row12 col4\" >0.5779</td>\n",
       "      <td id=\"T_4c671_row12_col5\" class=\"data row12 col5\" >0.5335</td>\n",
       "      <td id=\"T_4c671_row12_col6\" class=\"data row12 col6\" >0.3068</td>\n",
       "      <td id=\"T_4c671_row12_col7\" class=\"data row12 col7\" >0.3131</td>\n",
       "      <td id=\"T_4c671_row12_col8\" class=\"data row12 col8\" >0.0350</td>\n",
       "    </tr>\n",
       "    <tr>\n",
       "      <th id=\"T_4c671_level0_row13\" class=\"row_heading level0 row13\" >dummy</th>\n",
       "      <td id=\"T_4c671_row13_col0\" class=\"data row13 col0\" >Dummy Classifier</td>\n",
       "      <td id=\"T_4c671_row13_col1\" class=\"data row13 col1\" >0.6518</td>\n",
       "      <td id=\"T_4c671_row13_col2\" class=\"data row13 col2\" >0.5000</td>\n",
       "      <td id=\"T_4c671_row13_col3\" class=\"data row13 col3\" >0.0000</td>\n",
       "      <td id=\"T_4c671_row13_col4\" class=\"data row13 col4\" >0.0000</td>\n",
       "      <td id=\"T_4c671_row13_col5\" class=\"data row13 col5\" >0.0000</td>\n",
       "      <td id=\"T_4c671_row13_col6\" class=\"data row13 col6\" >0.0000</td>\n",
       "      <td id=\"T_4c671_row13_col7\" class=\"data row13 col7\" >0.0000</td>\n",
       "      <td id=\"T_4c671_row13_col8\" class=\"data row13 col8\" >0.0060</td>\n",
       "    </tr>\n",
       "    <tr>\n",
       "      <th id=\"T_4c671_level0_row14\" class=\"row_heading level0 row14\" >svm</th>\n",
       "      <td id=\"T_4c671_row14_col0\" class=\"data row14 col0\" >SVM - Linear Kernel</td>\n",
       "      <td id=\"T_4c671_row14_col1\" class=\"data row14 col1\" >0.5954</td>\n",
       "      <td id=\"T_4c671_row14_col2\" class=\"data row14 col2\" >0.5914</td>\n",
       "      <td id=\"T_4c671_row14_col3\" class=\"data row14 col3\" >0.3395</td>\n",
       "      <td id=\"T_4c671_row14_col4\" class=\"data row14 col4\" >0.4090</td>\n",
       "      <td id=\"T_4c671_row14_col5\" class=\"data row14 col5\" >0.2671</td>\n",
       "      <td id=\"T_4c671_row14_col6\" class=\"data row14 col6\" >0.0720</td>\n",
       "      <td id=\"T_4c671_row14_col7\" class=\"data row14 col7\" >0.0912</td>\n",
       "      <td id=\"T_4c671_row14_col8\" class=\"data row14 col8\" >0.2040</td>\n",
       "    </tr>\n",
       "  </tbody>\n",
       "</table>\n"
      ],
      "text/plain": [
       "<pandas.io.formats.style.Styler at 0x7f3035e90220>"
      ]
     },
     "metadata": {},
     "output_type": "display_data"
    },
    {
     "data": {
      "text/html": [],
      "text/plain": [
       "<IPython.core.display.HTML object>"
      ]
     },
     "metadata": {},
     "output_type": "display_data"
    }
   ],
   "source": [
    "# compare baseline models\n",
    "best = compare_models(exclude = ['lightgbm'])"
   ]
  },
  {
   "cell_type": "code",
   "execution_count": 9,
   "id": "87477aa4",
   "metadata": {
    "execution": {
     "iopub.execute_input": "2025-05-27T05:24:44.620269Z",
     "iopub.status.busy": "2025-05-27T05:24:44.619838Z",
     "iopub.status.idle": "2025-05-27T05:26:45.181769Z",
     "shell.execute_reply": "2025-05-27T05:26:45.178759Z",
     "shell.execute_reply.started": "2025-05-27T05:24:44.620233Z"
    }
   },
   "outputs": [
    {
     "data": {
      "text/html": [
       "<div>\n",
       "<style scoped>\n",
       "    .dataframe tbody tr th:only-of-type {\n",
       "        vertical-align: middle;\n",
       "    }\n",
       "\n",
       "    .dataframe tbody tr th {\n",
       "        vertical-align: top;\n",
       "    }\n",
       "\n",
       "    .dataframe thead th {\n",
       "        text-align: right;\n",
       "    }\n",
       "</style>\n",
       "<table border=\"1\" class=\"dataframe\">\n",
       "  <thead>\n",
       "    <tr style=\"text-align: right;\">\n",
       "      <th></th>\n",
       "      <th></th>\n",
       "      <th></th>\n",
       "    </tr>\n",
       "    <tr>\n",
       "      <th></th>\n",
       "      <th></th>\n",
       "      <th></th>\n",
       "    </tr>\n",
       "  </thead>\n",
       "  <tbody>\n",
       "    <tr>\n",
       "      <th>Initiated</th>\n",
       "      <td>. . . . . . . . . . . . . . . . . .</td>\n",
       "      <td>14:24:44</td>\n",
       "    </tr>\n",
       "    <tr>\n",
       "      <th>Status</th>\n",
       "      <td>. . . . . . . . . . . . . . . . . .</td>\n",
       "      <td>Fitting 10 Folds</td>\n",
       "    </tr>\n",
       "    <tr>\n",
       "      <th>Estimator</th>\n",
       "      <td>. . . . . . . . . . . . . . . . . .</td>\n",
       "      <td>Light Gradient Boosting Machine</td>\n",
       "    </tr>\n",
       "  </tbody>\n",
       "</table>\n",
       "</div>"
      ],
      "text/plain": [
       "                                                \\\n",
       "                                                 \n",
       "Initiated  . . . . . . . . . . . . . . . . . .   \n",
       "Status     . . . . . . . . . . . . . . . . . .   \n",
       "Estimator  . . . . . . . . . . . . . . . . . .   \n",
       "\n",
       "                                            \n",
       "                                            \n",
       "Initiated                         14:24:44  \n",
       "Status                    Fitting 10 Folds  \n",
       "Estimator  Light Gradient Boosting Machine  "
      ]
     },
     "metadata": {},
     "output_type": "display_data"
    },
    {
     "data": {
      "text/html": [
       "<style type=\"text/css\">\n",
       "#T_ad649 th {\n",
       "  text-align: left;\n",
       "}\n",
       "#T_ad649_row0_col0, #T_ad649_row0_col1, #T_ad649_row0_col2, #T_ad649_row0_col3, #T_ad649_row0_col4, #T_ad649_row0_col5, #T_ad649_row0_col6, #T_ad649_row0_col7, #T_ad649_row0_col8, #T_ad649_row1_col0, #T_ad649_row1_col1, #T_ad649_row1_col2, #T_ad649_row1_col3, #T_ad649_row1_col4, #T_ad649_row1_col5, #T_ad649_row1_col6, #T_ad649_row1_col7, #T_ad649_row1_col8, #T_ad649_row2_col0, #T_ad649_row2_col1, #T_ad649_row2_col2, #T_ad649_row2_col3, #T_ad649_row2_col4, #T_ad649_row2_col5, #T_ad649_row2_col6, #T_ad649_row2_col7, #T_ad649_row2_col8, #T_ad649_row3_col0, #T_ad649_row3_col1, #T_ad649_row3_col2, #T_ad649_row3_col3, #T_ad649_row3_col4, #T_ad649_row3_col5, #T_ad649_row3_col6, #T_ad649_row3_col7, #T_ad649_row3_col8, #T_ad649_row4_col0, #T_ad649_row4_col1, #T_ad649_row4_col2, #T_ad649_row4_col3, #T_ad649_row4_col4, #T_ad649_row4_col5, #T_ad649_row4_col6, #T_ad649_row4_col7, #T_ad649_row4_col8, #T_ad649_row5_col0, #T_ad649_row5_col1, #T_ad649_row5_col2, #T_ad649_row5_col3, #T_ad649_row5_col4, #T_ad649_row5_col5, #T_ad649_row5_col6, #T_ad649_row5_col7, #T_ad649_row5_col8, #T_ad649_row6_col0, #T_ad649_row6_col1, #T_ad649_row6_col2, #T_ad649_row6_col3, #T_ad649_row6_col4, #T_ad649_row6_col5, #T_ad649_row6_col6, #T_ad649_row6_col7, #T_ad649_row6_col8, #T_ad649_row7_col0, #T_ad649_row7_col1, #T_ad649_row7_col2, #T_ad649_row7_col3, #T_ad649_row7_col4, #T_ad649_row7_col5, #T_ad649_row7_col6, #T_ad649_row7_col7, #T_ad649_row7_col8, #T_ad649_row8_col0, #T_ad649_row8_col1, #T_ad649_row8_col2, #T_ad649_row8_col3, #T_ad649_row8_col4, #T_ad649_row8_col5, #T_ad649_row8_col6, #T_ad649_row8_col7, #T_ad649_row8_col8, #T_ad649_row9_col0, #T_ad649_row9_col1, #T_ad649_row9_col2, #T_ad649_row9_col3, #T_ad649_row9_col4, #T_ad649_row9_col5, #T_ad649_row9_col6, #T_ad649_row9_col7, #T_ad649_row9_col8, #T_ad649_row10_col0, #T_ad649_row10_col1, #T_ad649_row10_col2, #T_ad649_row10_col3, #T_ad649_row10_col4, #T_ad649_row10_col5, #T_ad649_row10_col6, #T_ad649_row10_col7, #T_ad649_row10_col8, #T_ad649_row11_col0, #T_ad649_row11_col1, #T_ad649_row11_col2, #T_ad649_row11_col3, #T_ad649_row11_col4, #T_ad649_row11_col5, #T_ad649_row11_col6, #T_ad649_row11_col7, #T_ad649_row11_col8, #T_ad649_row12_col0, #T_ad649_row12_col1, #T_ad649_row12_col2, #T_ad649_row12_col3, #T_ad649_row12_col4, #T_ad649_row12_col5, #T_ad649_row12_col6, #T_ad649_row12_col7, #T_ad649_row12_col8 {\n",
       "  text-align: left;\n",
       "}\n",
       "</style>\n",
       "<table id=\"T_ad649\">\n",
       "  <thead>\n",
       "    <tr>\n",
       "      <th class=\"blank level0\" >&nbsp;</th>\n",
       "      <th id=\"T_ad649_level0_col0\" class=\"col_heading level0 col0\" >Model</th>\n",
       "      <th id=\"T_ad649_level0_col1\" class=\"col_heading level0 col1\" >Accuracy</th>\n",
       "      <th id=\"T_ad649_level0_col2\" class=\"col_heading level0 col2\" >AUC</th>\n",
       "      <th id=\"T_ad649_level0_col3\" class=\"col_heading level0 col3\" >Recall</th>\n",
       "      <th id=\"T_ad649_level0_col4\" class=\"col_heading level0 col4\" >Prec.</th>\n",
       "      <th id=\"T_ad649_level0_col5\" class=\"col_heading level0 col5\" >F1</th>\n",
       "      <th id=\"T_ad649_level0_col6\" class=\"col_heading level0 col6\" >Kappa</th>\n",
       "      <th id=\"T_ad649_level0_col7\" class=\"col_heading level0 col7\" >MCC</th>\n",
       "      <th id=\"T_ad649_level0_col8\" class=\"col_heading level0 col8\" >TT (Sec)</th>\n",
       "    </tr>\n",
       "  </thead>\n",
       "  <tbody>\n",
       "    <tr>\n",
       "      <th id=\"T_ad649_level0_row0\" class=\"row_heading level0 row0\" >lr</th>\n",
       "      <td id=\"T_ad649_row0_col0\" class=\"data row0 col0\" >Logistic Regression</td>\n",
       "      <td id=\"T_ad649_row0_col1\" class=\"data row0 col1\" >0.7689</td>\n",
       "      <td id=\"T_ad649_row0_col2\" class=\"data row0 col2\" >0.8047</td>\n",
       "      <td id=\"T_ad649_row0_col3\" class=\"data row0 col3\" >0.5602</td>\n",
       "      <td id=\"T_ad649_row0_col4\" class=\"data row0 col4\" >0.7208</td>\n",
       "      <td id=\"T_ad649_row0_col5\" class=\"data row0 col5\" >0.6279</td>\n",
       "      <td id=\"T_ad649_row0_col6\" class=\"data row0 col6\" >0.4641</td>\n",
       "      <td id=\"T_ad649_row0_col7\" class=\"data row0 col7\" >0.4736</td>\n",
       "      <td id=\"T_ad649_row0_col8\" class=\"data row0 col8\" >0.0410</td>\n",
       "    </tr>\n",
       "    <tr>\n",
       "      <th id=\"T_ad649_level0_row1\" class=\"row_heading level0 row1\" >ridge</th>\n",
       "      <td id=\"T_ad649_row1_col0\" class=\"data row1 col0\" >Ridge Classifier</td>\n",
       "      <td id=\"T_ad649_row1_col1\" class=\"data row1 col1\" >0.7670</td>\n",
       "      <td id=\"T_ad649_row1_col2\" class=\"data row1 col2\" >0.8060</td>\n",
       "      <td id=\"T_ad649_row1_col3\" class=\"data row1 col3\" >0.5497</td>\n",
       "      <td id=\"T_ad649_row1_col4\" class=\"data row1 col4\" >0.7235</td>\n",
       "      <td id=\"T_ad649_row1_col5\" class=\"data row1 col5\" >0.6221</td>\n",
       "      <td id=\"T_ad649_row1_col6\" class=\"data row1 col6\" >0.4581</td>\n",
       "      <td id=\"T_ad649_row1_col7\" class=\"data row1 col7\" >0.4690</td>\n",
       "      <td id=\"T_ad649_row1_col8\" class=\"data row1 col8\" >0.0060</td>\n",
       "    </tr>\n",
       "    <tr>\n",
       "      <th id=\"T_ad649_level0_row2\" class=\"row_heading level0 row2\" >lda</th>\n",
       "      <td id=\"T_ad649_row2_col0\" class=\"data row2 col0\" >Linear Discriminant Analysis</td>\n",
       "      <td id=\"T_ad649_row2_col1\" class=\"data row2 col1\" >0.7670</td>\n",
       "      <td id=\"T_ad649_row2_col2\" class=\"data row2 col2\" >0.8055</td>\n",
       "      <td id=\"T_ad649_row2_col3\" class=\"data row2 col3\" >0.5550</td>\n",
       "      <td id=\"T_ad649_row2_col4\" class=\"data row2 col4\" >0.7202</td>\n",
       "      <td id=\"T_ad649_row2_col5\" class=\"data row2 col5\" >0.6243</td>\n",
       "      <td id=\"T_ad649_row2_col6\" class=\"data row2 col6\" >0.4594</td>\n",
       "      <td id=\"T_ad649_row2_col7\" class=\"data row2 col7\" >0.4695</td>\n",
       "      <td id=\"T_ad649_row2_col8\" class=\"data row2 col8\" >0.0050</td>\n",
       "    </tr>\n",
       "    <tr>\n",
       "      <th id=\"T_ad649_level0_row3\" class=\"row_heading level0 row3\" >rf</th>\n",
       "      <td id=\"T_ad649_row3_col0\" class=\"data row3 col0\" >Random Forest Classifier</td>\n",
       "      <td id=\"T_ad649_row3_col1\" class=\"data row3 col1\" >0.7485</td>\n",
       "      <td id=\"T_ad649_row3_col2\" class=\"data row3 col2\" >0.7911</td>\n",
       "      <td id=\"T_ad649_row3_col3\" class=\"data row3 col3\" >0.5284</td>\n",
       "      <td id=\"T_ad649_row3_col4\" class=\"data row3 col4\" >0.6811</td>\n",
       "      <td id=\"T_ad649_row3_col5\" class=\"data row3 col5\" >0.5924</td>\n",
       "      <td id=\"T_ad649_row3_col6\" class=\"data row3 col6\" >0.4150</td>\n",
       "      <td id=\"T_ad649_row3_col7\" class=\"data row3 col7\" >0.4238</td>\n",
       "      <td id=\"T_ad649_row3_col8\" class=\"data row3 col8\" >0.0380</td>\n",
       "    </tr>\n",
       "    <tr>\n",
       "      <th id=\"T_ad649_level0_row4\" class=\"row_heading level0 row4\" >nb</th>\n",
       "      <td id=\"T_ad649_row4_col0\" class=\"data row4 col0\" >Naive Bayes</td>\n",
       "      <td id=\"T_ad649_row4_col1\" class=\"data row4 col1\" >0.7427</td>\n",
       "      <td id=\"T_ad649_row4_col2\" class=\"data row4 col2\" >0.7955</td>\n",
       "      <td id=\"T_ad649_row4_col3\" class=\"data row4 col3\" >0.5702</td>\n",
       "      <td id=\"T_ad649_row4_col4\" class=\"data row4 col4\" >0.6543</td>\n",
       "      <td id=\"T_ad649_row4_col5\" class=\"data row4 col5\" >0.6043</td>\n",
       "      <td id=\"T_ad649_row4_col6\" class=\"data row4 col6\" >0.4156</td>\n",
       "      <td id=\"T_ad649_row4_col7\" class=\"data row4 col7\" >0.4215</td>\n",
       "      <td id=\"T_ad649_row4_col8\" class=\"data row4 col8\" >0.0080</td>\n",
       "    </tr>\n",
       "    <tr>\n",
       "      <th id=\"T_ad649_level0_row5\" class=\"row_heading level0 row5\" >gbc</th>\n",
       "      <td id=\"T_ad649_row5_col0\" class=\"data row5 col0\" >Gradient Boosting Classifier</td>\n",
       "      <td id=\"T_ad649_row5_col1\" class=\"data row5 col1\" >0.7373</td>\n",
       "      <td id=\"T_ad649_row5_col2\" class=\"data row5 col2\" >0.7909</td>\n",
       "      <td id=\"T_ad649_row5_col3\" class=\"data row5 col3\" >0.5550</td>\n",
       "      <td id=\"T_ad649_row5_col4\" class=\"data row5 col4\" >0.6445</td>\n",
       "      <td id=\"T_ad649_row5_col5\" class=\"data row5 col5\" >0.5931</td>\n",
       "      <td id=\"T_ad649_row5_col6\" class=\"data row5 col6\" >0.4013</td>\n",
       "      <td id=\"T_ad649_row5_col7\" class=\"data row5 col7\" >0.4059</td>\n",
       "      <td id=\"T_ad649_row5_col8\" class=\"data row5 col8\" >0.0180</td>\n",
       "    </tr>\n",
       "    <tr>\n",
       "      <th id=\"T_ad649_level0_row6\" class=\"row_heading level0 row6\" >ada</th>\n",
       "      <td id=\"T_ad649_row6_col0\" class=\"data row6 col0\" >Ada Boost Classifier</td>\n",
       "      <td id=\"T_ad649_row6_col1\" class=\"data row6 col1\" >0.7372</td>\n",
       "      <td id=\"T_ad649_row6_col2\" class=\"data row6 col2\" >0.7799</td>\n",
       "      <td id=\"T_ad649_row6_col3\" class=\"data row6 col3\" >0.5275</td>\n",
       "      <td id=\"T_ad649_row6_col4\" class=\"data row6 col4\" >0.6585</td>\n",
       "      <td id=\"T_ad649_row6_col5\" class=\"data row6 col5\" >0.5796</td>\n",
       "      <td id=\"T_ad649_row6_col6\" class=\"data row6 col6\" >0.3926</td>\n",
       "      <td id=\"T_ad649_row6_col7\" class=\"data row6 col7\" >0.4017</td>\n",
       "      <td id=\"T_ad649_row6_col8\" class=\"data row6 col8\" >0.0160</td>\n",
       "    </tr>\n",
       "    <tr>\n",
       "      <th id=\"T_ad649_level0_row7\" class=\"row_heading level0 row7\" >et</th>\n",
       "      <td id=\"T_ad649_row7_col0\" class=\"data row7 col0\" >Extra Trees Classifier</td>\n",
       "      <td id=\"T_ad649_row7_col1\" class=\"data row7 col1\" >0.7299</td>\n",
       "      <td id=\"T_ad649_row7_col2\" class=\"data row7 col2\" >0.7788</td>\n",
       "      <td id=\"T_ad649_row7_col3\" class=\"data row7 col3\" >0.4965</td>\n",
       "      <td id=\"T_ad649_row7_col4\" class=\"data row7 col4\" >0.6516</td>\n",
       "      <td id=\"T_ad649_row7_col5\" class=\"data row7 col5\" >0.5596</td>\n",
       "      <td id=\"T_ad649_row7_col6\" class=\"data row7 col6\" >0.3706</td>\n",
       "      <td id=\"T_ad649_row7_col7\" class=\"data row7 col7\" >0.3802</td>\n",
       "      <td id=\"T_ad649_row7_col8\" class=\"data row7 col8\" >1.6580</td>\n",
       "    </tr>\n",
       "    <tr>\n",
       "      <th id=\"T_ad649_level0_row8\" class=\"row_heading level0 row8\" >qda</th>\n",
       "      <td id=\"T_ad649_row8_col0\" class=\"data row8 col0\" >Quadratic Discriminant Analysis</td>\n",
       "      <td id=\"T_ad649_row8_col1\" class=\"data row8 col1\" >0.7282</td>\n",
       "      <td id=\"T_ad649_row8_col2\" class=\"data row8 col2\" >0.7894</td>\n",
       "      <td id=\"T_ad649_row8_col3\" class=\"data row8 col3\" >0.5281</td>\n",
       "      <td id=\"T_ad649_row8_col4\" class=\"data row8 col4\" >0.6558</td>\n",
       "      <td id=\"T_ad649_row8_col5\" class=\"data row8 col5\" >0.5736</td>\n",
       "      <td id=\"T_ad649_row8_col6\" class=\"data row8 col6\" >0.3785</td>\n",
       "      <td id=\"T_ad649_row8_col7\" class=\"data row8 col7\" >0.3910</td>\n",
       "      <td id=\"T_ad649_row8_col8\" class=\"data row8 col8\" >0.0090</td>\n",
       "    </tr>\n",
       "    <tr>\n",
       "      <th id=\"T_ad649_level0_row9\" class=\"row_heading level0 row9\" >knn</th>\n",
       "      <td id=\"T_ad649_row9_col0\" class=\"data row9 col0\" >K Neighbors Classifier</td>\n",
       "      <td id=\"T_ad649_row9_col1\" class=\"data row9 col1\" >0.7001</td>\n",
       "      <td id=\"T_ad649_row9_col2\" class=\"data row9 col2\" >0.7164</td>\n",
       "      <td id=\"T_ad649_row9_col3\" class=\"data row9 col3\" >0.5020</td>\n",
       "      <td id=\"T_ad649_row9_col4\" class=\"data row9 col4\" >0.5982</td>\n",
       "      <td id=\"T_ad649_row9_col5\" class=\"data row9 col5\" >0.5413</td>\n",
       "      <td id=\"T_ad649_row9_col6\" class=\"data row9 col6\" >0.3209</td>\n",
       "      <td id=\"T_ad649_row9_col7\" class=\"data row9 col7\" >0.3271</td>\n",
       "      <td id=\"T_ad649_row9_col8\" class=\"data row9 col8\" >0.0230</td>\n",
       "    </tr>\n",
       "    <tr>\n",
       "      <th id=\"T_ad649_level0_row10\" class=\"row_heading level0 row10\" >dt</th>\n",
       "      <td id=\"T_ad649_row10_col0\" class=\"data row10 col0\" >Decision Tree Classifier</td>\n",
       "      <td id=\"T_ad649_row10_col1\" class=\"data row10 col1\" >0.6928</td>\n",
       "      <td id=\"T_ad649_row10_col2\" class=\"data row10 col2\" >0.6512</td>\n",
       "      <td id=\"T_ad649_row10_col3\" class=\"data row10 col3\" >0.5137</td>\n",
       "      <td id=\"T_ad649_row10_col4\" class=\"data row10 col4\" >0.5636</td>\n",
       "      <td id=\"T_ad649_row10_col5\" class=\"data row10 col5\" >0.5328</td>\n",
       "      <td id=\"T_ad649_row10_col6\" class=\"data row10 col6\" >0.3070</td>\n",
       "      <td id=\"T_ad649_row10_col7\" class=\"data row10 col7\" >0.3098</td>\n",
       "      <td id=\"T_ad649_row10_col8\" class=\"data row10 col8\" >0.0060</td>\n",
       "    </tr>\n",
       "    <tr>\n",
       "      <th id=\"T_ad649_level0_row11\" class=\"row_heading level0 row11\" >xgboost</th>\n",
       "      <td id=\"T_ad649_row11_col0\" class=\"data row11 col0\" >Extreme Gradient Boosting</td>\n",
       "      <td id=\"T_ad649_row11_col1\" class=\"data row11 col1\" >0.6928</td>\n",
       "      <td id=\"T_ad649_row11_col2\" class=\"data row11 col2\" >0.7571</td>\n",
       "      <td id=\"T_ad649_row11_col3\" class=\"data row11 col3\" >0.5070</td>\n",
       "      <td id=\"T_ad649_row11_col4\" class=\"data row11 col4\" >0.5779</td>\n",
       "      <td id=\"T_ad649_row11_col5\" class=\"data row11 col5\" >0.5335</td>\n",
       "      <td id=\"T_ad649_row11_col6\" class=\"data row11 col6\" >0.3068</td>\n",
       "      <td id=\"T_ad649_row11_col7\" class=\"data row11 col7\" >0.3131</td>\n",
       "      <td id=\"T_ad649_row11_col8\" class=\"data row11 col8\" >0.2210</td>\n",
       "    </tr>\n",
       "    <tr>\n",
       "      <th id=\"T_ad649_level0_row12\" class=\"row_heading level0 row12\" >svm</th>\n",
       "      <td id=\"T_ad649_row12_col0\" class=\"data row12 col0\" >SVM - Linear Kernel</td>\n",
       "      <td id=\"T_ad649_row12_col1\" class=\"data row12 col1\" >0.5954</td>\n",
       "      <td id=\"T_ad649_row12_col2\" class=\"data row12 col2\" >0.5914</td>\n",
       "      <td id=\"T_ad649_row12_col3\" class=\"data row12 col3\" >0.3395</td>\n",
       "      <td id=\"T_ad649_row12_col4\" class=\"data row12 col4\" >0.4090</td>\n",
       "      <td id=\"T_ad649_row12_col5\" class=\"data row12 col5\" >0.2671</td>\n",
       "      <td id=\"T_ad649_row12_col6\" class=\"data row12 col6\" >0.0720</td>\n",
       "      <td id=\"T_ad649_row12_col7\" class=\"data row12 col7\" >0.0912</td>\n",
       "      <td id=\"T_ad649_row12_col8\" class=\"data row12 col8\" >0.0090</td>\n",
       "    </tr>\n",
       "  </tbody>\n",
       "</table>\n"
      ],
      "text/plain": [
       "<pandas.io.formats.style.Styler at 0x7f3035c88130>"
      ]
     },
     "metadata": {},
     "output_type": "display_data"
    },
    {
     "data": {
      "application/vnd.jupyter.widget-view+json": {
       "model_id": "63f4114d60354e6a922588ebae9164ee",
       "version_major": 2,
       "version_minor": 0
      },
      "text/plain": [
       "Processing:   0%|          | 0/69 [00:00<?, ?it/s]"
      ]
     },
     "metadata": {},
     "output_type": "display_data"
    },
    {
     "ename": "KeyboardInterrupt",
     "evalue": "",
     "output_type": "error",
     "traceback": [
      "\u001b[0;31m---------------------------------------------------------------------------\u001b[0m",
      "\u001b[0;31mKeyboardInterrupt\u001b[0m                         Traceback (most recent call last)",
      "Cell \u001b[0;32mIn[9], line 2\u001b[0m\n\u001b[1;32m      1\u001b[0m \u001b[38;5;66;03m# compare models using OOP\u001b[39;00m\n\u001b[0;32m----> 2\u001b[0m \u001b[43mexp\u001b[49m\u001b[38;5;241;43m.\u001b[39;49m\u001b[43mcompare_models\u001b[49m\u001b[43m(\u001b[49m\u001b[43m)\u001b[49m\n",
      "File \u001b[0;32m~/miniconda3/envs/pycaret/lib/python3.10/site-packages/pycaret/classification/oop.py:1180\u001b[0m, in \u001b[0;36mClassificationExperiment.compare_models\u001b[0;34m(self, include, exclude, fold, round, cross_validation, sort, n_select, budget_time, turbo, errors, fit_kwargs, groups, experiment_custom_tags, probability_threshold, engine, verbose, parallel)\u001b[0m\n\u001b[1;32m   1177\u001b[0m         \u001b[38;5;28mself\u001b[39m\u001b[38;5;241m.\u001b[39m_set_engine(estimator\u001b[38;5;241m=\u001b[39mestimator, engine\u001b[38;5;241m=\u001b[39meng, severity\u001b[38;5;241m=\u001b[39m\u001b[38;5;124m\"\u001b[39m\u001b[38;5;124merror\u001b[39m\u001b[38;5;124m\"\u001b[39m)\n\u001b[1;32m   1179\u001b[0m \u001b[38;5;28;01mtry\u001b[39;00m:\n\u001b[0;32m-> 1180\u001b[0m     return_values \u001b[38;5;241m=\u001b[39m \u001b[38;5;28;43msuper\u001b[39;49m\u001b[43m(\u001b[49m\u001b[43m)\u001b[49m\u001b[38;5;241;43m.\u001b[39;49m\u001b[43mcompare_models\u001b[49m\u001b[43m(\u001b[49m\n\u001b[1;32m   1181\u001b[0m \u001b[43m        \u001b[49m\u001b[43minclude\u001b[49m\u001b[38;5;241;43m=\u001b[39;49m\u001b[43minclude\u001b[49m\u001b[43m,\u001b[49m\n\u001b[1;32m   1182\u001b[0m \u001b[43m        \u001b[49m\u001b[43mexclude\u001b[49m\u001b[38;5;241;43m=\u001b[39;49m\u001b[43mexclude\u001b[49m\u001b[43m,\u001b[49m\n\u001b[1;32m   1183\u001b[0m \u001b[43m        \u001b[49m\u001b[43mfold\u001b[49m\u001b[38;5;241;43m=\u001b[39;49m\u001b[43mfold\u001b[49m\u001b[43m,\u001b[49m\n\u001b[1;32m   1184\u001b[0m \u001b[43m        \u001b[49m\u001b[38;5;28;43mround\u001b[39;49m\u001b[38;5;241;43m=\u001b[39;49m\u001b[38;5;28;43mround\u001b[39;49m\u001b[43m,\u001b[49m\n\u001b[1;32m   1185\u001b[0m \u001b[43m        \u001b[49m\u001b[43mcross_validation\u001b[49m\u001b[38;5;241;43m=\u001b[39;49m\u001b[43mcross_validation\u001b[49m\u001b[43m,\u001b[49m\n\u001b[1;32m   1186\u001b[0m \u001b[43m        \u001b[49m\u001b[43msort\u001b[49m\u001b[38;5;241;43m=\u001b[39;49m\u001b[43msort\u001b[49m\u001b[43m,\u001b[49m\n\u001b[1;32m   1187\u001b[0m \u001b[43m        \u001b[49m\u001b[43mn_select\u001b[49m\u001b[38;5;241;43m=\u001b[39;49m\u001b[43mn_select\u001b[49m\u001b[43m,\u001b[49m\n\u001b[1;32m   1188\u001b[0m \u001b[43m        \u001b[49m\u001b[43mbudget_time\u001b[49m\u001b[38;5;241;43m=\u001b[39;49m\u001b[43mbudget_time\u001b[49m\u001b[43m,\u001b[49m\n\u001b[1;32m   1189\u001b[0m \u001b[43m        \u001b[49m\u001b[43mturbo\u001b[49m\u001b[38;5;241;43m=\u001b[39;49m\u001b[43mturbo\u001b[49m\u001b[43m,\u001b[49m\n\u001b[1;32m   1190\u001b[0m \u001b[43m        \u001b[49m\u001b[43merrors\u001b[49m\u001b[38;5;241;43m=\u001b[39;49m\u001b[43merrors\u001b[49m\u001b[43m,\u001b[49m\n\u001b[1;32m   1191\u001b[0m \u001b[43m        \u001b[49m\u001b[43mfit_kwargs\u001b[49m\u001b[38;5;241;43m=\u001b[39;49m\u001b[43mfit_kwargs\u001b[49m\u001b[43m,\u001b[49m\n\u001b[1;32m   1192\u001b[0m \u001b[43m        \u001b[49m\u001b[43mgroups\u001b[49m\u001b[38;5;241;43m=\u001b[39;49m\u001b[43mgroups\u001b[49m\u001b[43m,\u001b[49m\n\u001b[1;32m   1193\u001b[0m \u001b[43m        \u001b[49m\u001b[43mexperiment_custom_tags\u001b[49m\u001b[38;5;241;43m=\u001b[39;49m\u001b[43mexperiment_custom_tags\u001b[49m\u001b[43m,\u001b[49m\n\u001b[1;32m   1194\u001b[0m \u001b[43m        \u001b[49m\u001b[43mverbose\u001b[49m\u001b[38;5;241;43m=\u001b[39;49m\u001b[43mverbose\u001b[49m\u001b[43m,\u001b[49m\n\u001b[1;32m   1195\u001b[0m \u001b[43m        \u001b[49m\u001b[43mprobability_threshold\u001b[49m\u001b[38;5;241;43m=\u001b[39;49m\u001b[43mprobability_threshold\u001b[49m\u001b[43m,\u001b[49m\n\u001b[1;32m   1196\u001b[0m \u001b[43m        \u001b[49m\u001b[43mparallel\u001b[49m\u001b[38;5;241;43m=\u001b[39;49m\u001b[43mparallel\u001b[49m\u001b[43m,\u001b[49m\n\u001b[1;32m   1197\u001b[0m \u001b[43m        \u001b[49m\u001b[43mcaller_params\u001b[49m\u001b[38;5;241;43m=\u001b[39;49m\u001b[43mcaller_params\u001b[49m\u001b[43m,\u001b[49m\n\u001b[1;32m   1198\u001b[0m \u001b[43m    \u001b[49m\u001b[43m)\u001b[49m\n\u001b[1;32m   1199\u001b[0m \u001b[38;5;28;01mfinally\u001b[39;00m:\n\u001b[1;32m   1200\u001b[0m     \u001b[38;5;28;01mif\u001b[39;00m engine \u001b[38;5;129;01mis\u001b[39;00m \u001b[38;5;129;01mnot\u001b[39;00m \u001b[38;5;28;01mNone\u001b[39;00m:\n\u001b[1;32m   1201\u001b[0m         \u001b[38;5;66;03m# Reset the models back to the default engines\u001b[39;00m\n",
      "File \u001b[0;32m~/miniconda3/envs/pycaret/lib/python3.10/site-packages/pycaret/internal/pycaret_experiment/supervised_experiment.py:794\u001b[0m, in \u001b[0;36m_SupervisedExperiment.compare_models\u001b[0;34m(self, include, exclude, fold, round, cross_validation, sort, n_select, budget_time, turbo, errors, fit_kwargs, groups, experiment_custom_tags, probability_threshold, verbose, parallel, caller_params)\u001b[0m\n\u001b[1;32m    791\u001b[0m results_columns_to_ignore \u001b[38;5;241m=\u001b[39m [\u001b[38;5;124m\"\u001b[39m\u001b[38;5;124mObject\u001b[39m\u001b[38;5;124m\"\u001b[39m, \u001b[38;5;124m\"\u001b[39m\u001b[38;5;124mruntime\u001b[39m\u001b[38;5;124m\"\u001b[39m, \u001b[38;5;124m\"\u001b[39m\u001b[38;5;124mcutoff\u001b[39m\u001b[38;5;124m\"\u001b[39m]\n\u001b[1;32m    793\u001b[0m \u001b[38;5;28;01mtry\u001b[39;00m:\n\u001b[0;32m--> 794\u001b[0m     model, model_fit_time \u001b[38;5;241m=\u001b[39m \u001b[38;5;28;43mself\u001b[39;49m\u001b[38;5;241;43m.\u001b[39;49m\u001b[43m_create_model\u001b[49m\u001b[43m(\u001b[49m\u001b[38;5;241;43m*\u001b[39;49m\u001b[38;5;241;43m*\u001b[39;49m\u001b[43mcreate_model_args\u001b[49m\u001b[43m)\u001b[49m\n\u001b[1;32m    795\u001b[0m     model_results \u001b[38;5;241m=\u001b[39m \u001b[38;5;28mself\u001b[39m\u001b[38;5;241m.\u001b[39mpull(pop\u001b[38;5;241m=\u001b[39m\u001b[38;5;28;01mTrue\u001b[39;00m)\n\u001b[1;32m    796\u001b[0m     \u001b[38;5;28;01massert\u001b[39;00m (\n\u001b[1;32m    797\u001b[0m         np\u001b[38;5;241m.\u001b[39msum(\n\u001b[1;32m    798\u001b[0m             model_results\u001b[38;5;241m.\u001b[39mdrop(\n\u001b[0;32m   (...)\u001b[0m\n\u001b[1;32m    802\u001b[0m         \u001b[38;5;241m!=\u001b[39m \u001b[38;5;241m0.0\u001b[39m\n\u001b[1;32m    803\u001b[0m     )\n",
      "File \u001b[0;32m~/miniconda3/envs/pycaret/lib/python3.10/site-packages/pycaret/internal/pycaret_experiment/supervised_experiment.py:1533\u001b[0m, in \u001b[0;36m_SupervisedExperiment._create_model\u001b[0;34m(self, estimator, fold, round, cross_validation, predict, fit_kwargs, groups, refit, probability_threshold, experiment_custom_tags, verbose, system, add_to_model_list, X_train_data, y_train_data, metrics, display, model_only, return_train_score, error_score, **kwargs)\u001b[0m\n\u001b[1;32m   1530\u001b[0m         \u001b[38;5;28;01mreturn\u001b[39;00m model, model_fit_time\n\u001b[1;32m   1531\u001b[0m     \u001b[38;5;28;01mreturn\u001b[39;00m model\n\u001b[0;32m-> 1533\u001b[0m model, model_fit_time, model_results, _ \u001b[38;5;241m=\u001b[39m \u001b[38;5;28;43mself\u001b[39;49m\u001b[38;5;241;43m.\u001b[39;49m\u001b[43m_create_model_with_cv\u001b[49m\u001b[43m(\u001b[49m\n\u001b[1;32m   1534\u001b[0m \u001b[43m    \u001b[49m\u001b[43mmodel\u001b[49m\u001b[38;5;241;43m=\u001b[39;49m\u001b[43mmodel\u001b[49m\u001b[43m,\u001b[49m\n\u001b[1;32m   1535\u001b[0m \u001b[43m    \u001b[49m\u001b[43mdata_X\u001b[49m\u001b[38;5;241;43m=\u001b[39;49m\u001b[43mdata_X\u001b[49m\u001b[43m,\u001b[49m\n\u001b[1;32m   1536\u001b[0m \u001b[43m    \u001b[49m\u001b[43mdata_y\u001b[49m\u001b[38;5;241;43m=\u001b[39;49m\u001b[43mdata_y\u001b[49m\u001b[43m,\u001b[49m\n\u001b[1;32m   1537\u001b[0m \u001b[43m    \u001b[49m\u001b[43mfit_kwargs\u001b[49m\u001b[38;5;241;43m=\u001b[39;49m\u001b[43mfit_kwargs\u001b[49m\u001b[43m,\u001b[49m\n\u001b[1;32m   1538\u001b[0m \u001b[43m    \u001b[49m\u001b[38;5;28;43mround\u001b[39;49m\u001b[38;5;241;43m=\u001b[39;49m\u001b[38;5;28;43mround\u001b[39;49m\u001b[43m,\u001b[49m\n\u001b[1;32m   1539\u001b[0m \u001b[43m    \u001b[49m\u001b[43mcv\u001b[49m\u001b[38;5;241;43m=\u001b[39;49m\u001b[43mcv\u001b[49m\u001b[43m,\u001b[49m\n\u001b[1;32m   1540\u001b[0m \u001b[43m    \u001b[49m\u001b[43mgroups\u001b[49m\u001b[38;5;241;43m=\u001b[39;49m\u001b[43mgroups\u001b[49m\u001b[43m,\u001b[49m\n\u001b[1;32m   1541\u001b[0m \u001b[43m    \u001b[49m\u001b[43mmetrics\u001b[49m\u001b[38;5;241;43m=\u001b[39;49m\u001b[43mmetrics\u001b[49m\u001b[43m,\u001b[49m\n\u001b[1;32m   1542\u001b[0m \u001b[43m    \u001b[49m\u001b[43mrefit\u001b[49m\u001b[38;5;241;43m=\u001b[39;49m\u001b[43mrefit\u001b[49m\u001b[43m,\u001b[49m\n\u001b[1;32m   1543\u001b[0m \u001b[43m    \u001b[49m\u001b[43msystem\u001b[49m\u001b[38;5;241;43m=\u001b[39;49m\u001b[43msystem\u001b[49m\u001b[43m,\u001b[49m\n\u001b[1;32m   1544\u001b[0m \u001b[43m    \u001b[49m\u001b[43mdisplay\u001b[49m\u001b[38;5;241;43m=\u001b[39;49m\u001b[43mdisplay\u001b[49m\u001b[43m,\u001b[49m\n\u001b[1;32m   1545\u001b[0m \u001b[43m    \u001b[49m\u001b[43merror_score\u001b[49m\u001b[38;5;241;43m=\u001b[39;49m\u001b[43merror_score\u001b[49m\u001b[43m,\u001b[49m\n\u001b[1;32m   1546\u001b[0m \u001b[43m    \u001b[49m\u001b[43mreturn_train_score\u001b[49m\u001b[38;5;241;43m=\u001b[39;49m\u001b[43mreturn_train_score\u001b[49m\u001b[43m,\u001b[49m\n\u001b[1;32m   1547\u001b[0m \u001b[43m\u001b[49m\u001b[43m)\u001b[49m\n\u001b[1;32m   1549\u001b[0m \u001b[38;5;66;03m# end runtime\u001b[39;00m\n\u001b[1;32m   1550\u001b[0m runtime_end \u001b[38;5;241m=\u001b[39m time\u001b[38;5;241m.\u001b[39mtime()\n",
      "File \u001b[0;32m~/miniconda3/envs/pycaret/lib/python3.10/site-packages/pycaret/internal/pycaret_experiment/supervised_experiment.py:1126\u001b[0m, in \u001b[0;36m_SupervisedExperiment._create_model_with_cv\u001b[0;34m(self, model, data_X, data_y, fit_kwargs, round, cv, groups, metrics, refit, system, display, error_score, return_train_score)\u001b[0m\n\u001b[1;32m   1124\u001b[0m     model_fit_start \u001b[38;5;241m=\u001b[39m time\u001b[38;5;241m.\u001b[39mtime()\n\u001b[1;32m   1125\u001b[0m     \u001b[38;5;28;01mwith\u001b[39;00m redirect_output(\u001b[38;5;28mself\u001b[39m\u001b[38;5;241m.\u001b[39mlogger):\n\u001b[0;32m-> 1126\u001b[0m         scores \u001b[38;5;241m=\u001b[39m \u001b[43mcross_validate\u001b[49m\u001b[43m(\u001b[49m\n\u001b[1;32m   1127\u001b[0m \u001b[43m            \u001b[49m\u001b[43mpipeline_with_model\u001b[49m\u001b[43m,\u001b[49m\n\u001b[1;32m   1128\u001b[0m \u001b[43m            \u001b[49m\u001b[43mdata_X\u001b[49m\u001b[43m,\u001b[49m\n\u001b[1;32m   1129\u001b[0m \u001b[43m            \u001b[49m\u001b[43mdata_y\u001b[49m\u001b[43m,\u001b[49m\n\u001b[1;32m   1130\u001b[0m \u001b[43m            \u001b[49m\u001b[43mcv\u001b[49m\u001b[38;5;241;43m=\u001b[39;49m\u001b[43mcv\u001b[49m\u001b[43m,\u001b[49m\n\u001b[1;32m   1131\u001b[0m \u001b[43m            \u001b[49m\u001b[43mgroups\u001b[49m\u001b[38;5;241;43m=\u001b[39;49m\u001b[43mgroups\u001b[49m\u001b[43m,\u001b[49m\n\u001b[1;32m   1132\u001b[0m \u001b[43m            \u001b[49m\u001b[43mscoring\u001b[49m\u001b[38;5;241;43m=\u001b[39;49m\u001b[43mmetrics_dict\u001b[49m\u001b[43m,\u001b[49m\n\u001b[1;32m   1133\u001b[0m \u001b[43m            \u001b[49m\u001b[43mparams\u001b[49m\u001b[38;5;241;43m=\u001b[39;49m\u001b[43mfit_kwargs\u001b[49m\u001b[43m,\u001b[49m\n\u001b[1;32m   1134\u001b[0m \u001b[43m            \u001b[49m\u001b[43mn_jobs\u001b[49m\u001b[38;5;241;43m=\u001b[39;49m\u001b[43mn_jobs\u001b[49m\u001b[43m,\u001b[49m\n\u001b[1;32m   1135\u001b[0m \u001b[43m            \u001b[49m\u001b[43mreturn_train_score\u001b[49m\u001b[38;5;241;43m=\u001b[39;49m\u001b[43mreturn_train_score\u001b[49m\u001b[43m,\u001b[49m\n\u001b[1;32m   1136\u001b[0m \u001b[43m            \u001b[49m\u001b[43merror_score\u001b[49m\u001b[38;5;241;43m=\u001b[39;49m\u001b[43merror_score\u001b[49m\u001b[43m,\u001b[49m\n\u001b[1;32m   1137\u001b[0m \u001b[43m        \u001b[49m\u001b[43m)\u001b[49m\n\u001b[1;32m   1139\u001b[0m model_fit_end \u001b[38;5;241m=\u001b[39m time\u001b[38;5;241m.\u001b[39mtime()\n\u001b[1;32m   1140\u001b[0m model_fit_time \u001b[38;5;241m=\u001b[39m np\u001b[38;5;241m.\u001b[39marray(model_fit_end \u001b[38;5;241m-\u001b[39m model_fit_start)\u001b[38;5;241m.\u001b[39mround(\u001b[38;5;241m2\u001b[39m)\n",
      "File \u001b[0;32m~/miniconda3/envs/pycaret/lib/python3.10/site-packages/sklearn/utils/_param_validation.py:213\u001b[0m, in \u001b[0;36mvalidate_params.<locals>.decorator.<locals>.wrapper\u001b[0;34m(*args, **kwargs)\u001b[0m\n\u001b[1;32m    207\u001b[0m \u001b[38;5;28;01mtry\u001b[39;00m:\n\u001b[1;32m    208\u001b[0m     \u001b[38;5;28;01mwith\u001b[39;00m config_context(\n\u001b[1;32m    209\u001b[0m         skip_parameter_validation\u001b[38;5;241m=\u001b[39m(\n\u001b[1;32m    210\u001b[0m             prefer_skip_nested_validation \u001b[38;5;129;01mor\u001b[39;00m global_skip_validation\n\u001b[1;32m    211\u001b[0m         )\n\u001b[1;32m    212\u001b[0m     ):\n\u001b[0;32m--> 213\u001b[0m         \u001b[38;5;28;01mreturn\u001b[39;00m \u001b[43mfunc\u001b[49m\u001b[43m(\u001b[49m\u001b[38;5;241;43m*\u001b[39;49m\u001b[43margs\u001b[49m\u001b[43m,\u001b[49m\u001b[43m \u001b[49m\u001b[38;5;241;43m*\u001b[39;49m\u001b[38;5;241;43m*\u001b[39;49m\u001b[43mkwargs\u001b[49m\u001b[43m)\u001b[49m\n\u001b[1;32m    214\u001b[0m \u001b[38;5;28;01mexcept\u001b[39;00m InvalidParameterError \u001b[38;5;28;01mas\u001b[39;00m e:\n\u001b[1;32m    215\u001b[0m     \u001b[38;5;66;03m# When the function is just a wrapper around an estimator, we allow\u001b[39;00m\n\u001b[1;32m    216\u001b[0m     \u001b[38;5;66;03m# the function to delegate validation to the estimator, but we replace\u001b[39;00m\n\u001b[1;32m    217\u001b[0m     \u001b[38;5;66;03m# the name of the estimator by the name of the function in the error\u001b[39;00m\n\u001b[1;32m    218\u001b[0m     \u001b[38;5;66;03m# message to avoid confusion.\u001b[39;00m\n\u001b[1;32m    219\u001b[0m     msg \u001b[38;5;241m=\u001b[39m re\u001b[38;5;241m.\u001b[39msub(\n\u001b[1;32m    220\u001b[0m         \u001b[38;5;124mr\u001b[39m\u001b[38;5;124m\"\u001b[39m\u001b[38;5;124mparameter of \u001b[39m\u001b[38;5;124m\\\u001b[39m\u001b[38;5;124mw+ must be\u001b[39m\u001b[38;5;124m\"\u001b[39m,\n\u001b[1;32m    221\u001b[0m         \u001b[38;5;124mf\u001b[39m\u001b[38;5;124m\"\u001b[39m\u001b[38;5;124mparameter of \u001b[39m\u001b[38;5;132;01m{\u001b[39;00mfunc\u001b[38;5;241m.\u001b[39m\u001b[38;5;18m__qualname__\u001b[39m\u001b[38;5;132;01m}\u001b[39;00m\u001b[38;5;124m must be\u001b[39m\u001b[38;5;124m\"\u001b[39m,\n\u001b[1;32m    222\u001b[0m         \u001b[38;5;28mstr\u001b[39m(e),\n\u001b[1;32m    223\u001b[0m     )\n",
      "File \u001b[0;32m~/miniconda3/envs/pycaret/lib/python3.10/site-packages/sklearn/model_selection/_validation.py:430\u001b[0m, in \u001b[0;36mcross_validate\u001b[0;34m(estimator, X, y, groups, scoring, cv, n_jobs, verbose, fit_params, params, pre_dispatch, return_train_score, return_estimator, return_indices, error_score)\u001b[0m\n\u001b[1;32m    427\u001b[0m \u001b[38;5;66;03m# We clone the estimator to make sure that all the folds are\u001b[39;00m\n\u001b[1;32m    428\u001b[0m \u001b[38;5;66;03m# independent, and that it is pickle-able.\u001b[39;00m\n\u001b[1;32m    429\u001b[0m parallel \u001b[38;5;241m=\u001b[39m Parallel(n_jobs\u001b[38;5;241m=\u001b[39mn_jobs, verbose\u001b[38;5;241m=\u001b[39mverbose, pre_dispatch\u001b[38;5;241m=\u001b[39mpre_dispatch)\n\u001b[0;32m--> 430\u001b[0m results \u001b[38;5;241m=\u001b[39m \u001b[43mparallel\u001b[49m\u001b[43m(\u001b[49m\n\u001b[1;32m    431\u001b[0m \u001b[43m    \u001b[49m\u001b[43mdelayed\u001b[49m\u001b[43m(\u001b[49m\u001b[43m_fit_and_score\u001b[49m\u001b[43m)\u001b[49m\u001b[43m(\u001b[49m\n\u001b[1;32m    432\u001b[0m \u001b[43m        \u001b[49m\u001b[43mclone\u001b[49m\u001b[43m(\u001b[49m\u001b[43mestimator\u001b[49m\u001b[43m)\u001b[49m\u001b[43m,\u001b[49m\n\u001b[1;32m    433\u001b[0m \u001b[43m        \u001b[49m\u001b[43mX\u001b[49m\u001b[43m,\u001b[49m\n\u001b[1;32m    434\u001b[0m \u001b[43m        \u001b[49m\u001b[43my\u001b[49m\u001b[43m,\u001b[49m\n\u001b[1;32m    435\u001b[0m \u001b[43m        \u001b[49m\u001b[43mscorer\u001b[49m\u001b[38;5;241;43m=\u001b[39;49m\u001b[43mscorers\u001b[49m\u001b[43m,\u001b[49m\n\u001b[1;32m    436\u001b[0m \u001b[43m        \u001b[49m\u001b[43mtrain\u001b[49m\u001b[38;5;241;43m=\u001b[39;49m\u001b[43mtrain\u001b[49m\u001b[43m,\u001b[49m\n\u001b[1;32m    437\u001b[0m \u001b[43m        \u001b[49m\u001b[43mtest\u001b[49m\u001b[38;5;241;43m=\u001b[39;49m\u001b[43mtest\u001b[49m\u001b[43m,\u001b[49m\n\u001b[1;32m    438\u001b[0m \u001b[43m        \u001b[49m\u001b[43mverbose\u001b[49m\u001b[38;5;241;43m=\u001b[39;49m\u001b[43mverbose\u001b[49m\u001b[43m,\u001b[49m\n\u001b[1;32m    439\u001b[0m \u001b[43m        \u001b[49m\u001b[43mparameters\u001b[49m\u001b[38;5;241;43m=\u001b[39;49m\u001b[38;5;28;43;01mNone\u001b[39;49;00m\u001b[43m,\u001b[49m\n\u001b[1;32m    440\u001b[0m \u001b[43m        \u001b[49m\u001b[43mfit_params\u001b[49m\u001b[38;5;241;43m=\u001b[39;49m\u001b[43mrouted_params\u001b[49m\u001b[38;5;241;43m.\u001b[39;49m\u001b[43mestimator\u001b[49m\u001b[38;5;241;43m.\u001b[39;49m\u001b[43mfit\u001b[49m\u001b[43m,\u001b[49m\n\u001b[1;32m    441\u001b[0m \u001b[43m        \u001b[49m\u001b[43mscore_params\u001b[49m\u001b[38;5;241;43m=\u001b[39;49m\u001b[43mrouted_params\u001b[49m\u001b[38;5;241;43m.\u001b[39;49m\u001b[43mscorer\u001b[49m\u001b[38;5;241;43m.\u001b[39;49m\u001b[43mscore\u001b[49m\u001b[43m,\u001b[49m\n\u001b[1;32m    442\u001b[0m \u001b[43m        \u001b[49m\u001b[43mreturn_train_score\u001b[49m\u001b[38;5;241;43m=\u001b[39;49m\u001b[43mreturn_train_score\u001b[49m\u001b[43m,\u001b[49m\n\u001b[1;32m    443\u001b[0m \u001b[43m        \u001b[49m\u001b[43mreturn_times\u001b[49m\u001b[38;5;241;43m=\u001b[39;49m\u001b[38;5;28;43;01mTrue\u001b[39;49;00m\u001b[43m,\u001b[49m\n\u001b[1;32m    444\u001b[0m \u001b[43m        \u001b[49m\u001b[43mreturn_estimator\u001b[49m\u001b[38;5;241;43m=\u001b[39;49m\u001b[43mreturn_estimator\u001b[49m\u001b[43m,\u001b[49m\n\u001b[1;32m    445\u001b[0m \u001b[43m        \u001b[49m\u001b[43merror_score\u001b[49m\u001b[38;5;241;43m=\u001b[39;49m\u001b[43merror_score\u001b[49m\u001b[43m,\u001b[49m\n\u001b[1;32m    446\u001b[0m \u001b[43m    \u001b[49m\u001b[43m)\u001b[49m\n\u001b[1;32m    447\u001b[0m \u001b[43m    \u001b[49m\u001b[38;5;28;43;01mfor\u001b[39;49;00m\u001b[43m \u001b[49m\u001b[43mtrain\u001b[49m\u001b[43m,\u001b[49m\u001b[43m \u001b[49m\u001b[43mtest\u001b[49m\u001b[43m \u001b[49m\u001b[38;5;129;43;01min\u001b[39;49;00m\u001b[43m \u001b[49m\u001b[43mindices\u001b[49m\n\u001b[1;32m    448\u001b[0m \u001b[43m\u001b[49m\u001b[43m)\u001b[49m\n\u001b[1;32m    450\u001b[0m _warn_or_raise_about_fit_failures(results, error_score)\n\u001b[1;32m    452\u001b[0m \u001b[38;5;66;03m# For callable scoring, the return type is only know after calling. If the\u001b[39;00m\n\u001b[1;32m    453\u001b[0m \u001b[38;5;66;03m# return type is a dictionary, the error scores can now be inserted with\u001b[39;00m\n\u001b[1;32m    454\u001b[0m \u001b[38;5;66;03m# the correct key.\u001b[39;00m\n",
      "File \u001b[0;32m~/miniconda3/envs/pycaret/lib/python3.10/site-packages/sklearn/utils/parallel.py:67\u001b[0m, in \u001b[0;36mParallel.__call__\u001b[0;34m(self, iterable)\u001b[0m\n\u001b[1;32m     62\u001b[0m config \u001b[38;5;241m=\u001b[39m get_config()\n\u001b[1;32m     63\u001b[0m iterable_with_config \u001b[38;5;241m=\u001b[39m (\n\u001b[1;32m     64\u001b[0m     (_with_config(delayed_func, config), args, kwargs)\n\u001b[1;32m     65\u001b[0m     \u001b[38;5;28;01mfor\u001b[39;00m delayed_func, args, kwargs \u001b[38;5;129;01min\u001b[39;00m iterable\n\u001b[1;32m     66\u001b[0m )\n\u001b[0;32m---> 67\u001b[0m \u001b[38;5;28;01mreturn\u001b[39;00m \u001b[38;5;28;43msuper\u001b[39;49m\u001b[43m(\u001b[49m\u001b[43m)\u001b[49m\u001b[38;5;241;43m.\u001b[39;49m\u001b[38;5;21;43m__call__\u001b[39;49m\u001b[43m(\u001b[49m\u001b[43miterable_with_config\u001b[49m\u001b[43m)\u001b[49m\n",
      "File \u001b[0;32m~/miniconda3/envs/pycaret/lib/python3.10/site-packages/joblib/parallel.py:1952\u001b[0m, in \u001b[0;36mParallel.__call__\u001b[0;34m(self, iterable)\u001b[0m\n\u001b[1;32m   1946\u001b[0m \u001b[38;5;66;03m# The first item from the output is blank, but it makes the interpreter\u001b[39;00m\n\u001b[1;32m   1947\u001b[0m \u001b[38;5;66;03m# progress until it enters the Try/Except block of the generator and\u001b[39;00m\n\u001b[1;32m   1948\u001b[0m \u001b[38;5;66;03m# reach the first `yield` statement. This starts the aynchronous\u001b[39;00m\n\u001b[1;32m   1949\u001b[0m \u001b[38;5;66;03m# dispatch of the tasks to the workers.\u001b[39;00m\n\u001b[1;32m   1950\u001b[0m \u001b[38;5;28mnext\u001b[39m(output)\n\u001b[0;32m-> 1952\u001b[0m \u001b[38;5;28;01mreturn\u001b[39;00m output \u001b[38;5;28;01mif\u001b[39;00m \u001b[38;5;28mself\u001b[39m\u001b[38;5;241m.\u001b[39mreturn_generator \u001b[38;5;28;01melse\u001b[39;00m \u001b[38;5;28;43mlist\u001b[39;49m\u001b[43m(\u001b[49m\u001b[43moutput\u001b[49m\u001b[43m)\u001b[49m\n",
      "File \u001b[0;32m~/miniconda3/envs/pycaret/lib/python3.10/site-packages/joblib/parallel.py:1595\u001b[0m, in \u001b[0;36mParallel._get_outputs\u001b[0;34m(self, iterator, pre_dispatch)\u001b[0m\n\u001b[1;32m   1592\u001b[0m     \u001b[38;5;28;01myield\u001b[39;00m\n\u001b[1;32m   1594\u001b[0m     \u001b[38;5;28;01mwith\u001b[39;00m \u001b[38;5;28mself\u001b[39m\u001b[38;5;241m.\u001b[39m_backend\u001b[38;5;241m.\u001b[39mretrieval_context():\n\u001b[0;32m-> 1595\u001b[0m         \u001b[38;5;28;01myield from\u001b[39;00m \u001b[38;5;28mself\u001b[39m\u001b[38;5;241m.\u001b[39m_retrieve()\n\u001b[1;32m   1597\u001b[0m \u001b[38;5;28;01mexcept\u001b[39;00m \u001b[38;5;167;01mGeneratorExit\u001b[39;00m:\n\u001b[1;32m   1598\u001b[0m     \u001b[38;5;66;03m# The generator has been garbage collected before being fully\u001b[39;00m\n\u001b[1;32m   1599\u001b[0m     \u001b[38;5;66;03m# consumed. This aborts the remaining tasks if possible and warn\u001b[39;00m\n\u001b[1;32m   1600\u001b[0m     \u001b[38;5;66;03m# the user if necessary.\u001b[39;00m\n\u001b[1;32m   1601\u001b[0m     \u001b[38;5;28mself\u001b[39m\u001b[38;5;241m.\u001b[39m_exception \u001b[38;5;241m=\u001b[39m \u001b[38;5;28;01mTrue\u001b[39;00m\n",
      "File \u001b[0;32m~/miniconda3/envs/pycaret/lib/python3.10/site-packages/joblib/parallel.py:1707\u001b[0m, in \u001b[0;36mParallel._retrieve\u001b[0;34m(self)\u001b[0m\n\u001b[1;32m   1702\u001b[0m \u001b[38;5;66;03m# If the next job is not ready for retrieval yet, we just wait for\u001b[39;00m\n\u001b[1;32m   1703\u001b[0m \u001b[38;5;66;03m# async callbacks to progress.\u001b[39;00m\n\u001b[1;32m   1704\u001b[0m \u001b[38;5;28;01mif\u001b[39;00m ((\u001b[38;5;28mlen\u001b[39m(\u001b[38;5;28mself\u001b[39m\u001b[38;5;241m.\u001b[39m_jobs) \u001b[38;5;241m==\u001b[39m \u001b[38;5;241m0\u001b[39m) \u001b[38;5;129;01mor\u001b[39;00m\n\u001b[1;32m   1705\u001b[0m     (\u001b[38;5;28mself\u001b[39m\u001b[38;5;241m.\u001b[39m_jobs[\u001b[38;5;241m0\u001b[39m]\u001b[38;5;241m.\u001b[39mget_status(\n\u001b[1;32m   1706\u001b[0m         timeout\u001b[38;5;241m=\u001b[39m\u001b[38;5;28mself\u001b[39m\u001b[38;5;241m.\u001b[39mtimeout) \u001b[38;5;241m==\u001b[39m TASK_PENDING)):\n\u001b[0;32m-> 1707\u001b[0m     \u001b[43mtime\u001b[49m\u001b[38;5;241;43m.\u001b[39;49m\u001b[43msleep\u001b[49m\u001b[43m(\u001b[49m\u001b[38;5;241;43m0.01\u001b[39;49m\u001b[43m)\u001b[49m\n\u001b[1;32m   1708\u001b[0m     \u001b[38;5;28;01mcontinue\u001b[39;00m\n\u001b[1;32m   1710\u001b[0m \u001b[38;5;66;03m# We need to be careful: the job list can be filling up as\u001b[39;00m\n\u001b[1;32m   1711\u001b[0m \u001b[38;5;66;03m# we empty it and Python list are not thread-safe by\u001b[39;00m\n\u001b[1;32m   1712\u001b[0m \u001b[38;5;66;03m# default hence the use of the lock\u001b[39;00m\n",
      "\u001b[0;31mKeyboardInterrupt\u001b[0m: "
     ]
    }
   ],
   "source": [
    "# compare models using OOP\n",
    "exp.compare_models()"
   ]
  },
  {
   "attachments": {},
   "cell_type": "markdown",
   "id": "340de1e2",
   "metadata": {},
   "source": [
    "Notice that the output between functional and OOP API is consistent. Rest of the functions in this notebook will only be shown using functional API only. "
   ]
  },
  {
   "attachments": {},
   "cell_type": "markdown",
   "id": "6a77ec0c",
   "metadata": {},
   "source": [
    "## Analyze Model"
   ]
  },
  {
   "attachments": {},
   "cell_type": "markdown",
   "id": "595ea108",
   "metadata": {},
   "source": [
    "You can use the `plot_model` function to analyzes the performance of a trained model on the test set. It may require re-training the model in certain cases."
   ]
  },
  {
   "cell_type": "code",
   "execution_count": null,
   "id": "0ec7fad6",
   "metadata": {
    "execution": {
     "iopub.status.busy": "2025-05-27T05:26:45.182123Z",
     "iopub.status.idle": "2025-05-27T05:26:45.182304Z",
     "shell.execute_reply": "2025-05-27T05:26:45.182221Z",
     "shell.execute_reply.started": "2025-05-27T05:26:45.182213Z"
    }
   },
   "outputs": [],
   "source": [
    "# plot confusion matrix\n",
    "plot_model(best, plot = 'confusion_matrix')"
   ]
  },
  {
   "cell_type": "code",
   "execution_count": null,
   "id": "9fc4b9b1",
   "metadata": {
    "execution": {
     "iopub.status.busy": "2025-05-27T05:26:45.182824Z",
     "iopub.status.idle": "2025-05-27T05:26:45.183076Z",
     "shell.execute_reply": "2025-05-27T05:26:45.182982Z",
     "shell.execute_reply.started": "2025-05-27T05:26:45.182974Z"
    }
   },
   "outputs": [],
   "source": [
    "# plot AUC\n",
    "plot_model(best, plot = 'auc')"
   ]
  },
  {
   "cell_type": "code",
   "execution_count": null,
   "id": "bbc790e4",
   "metadata": {
    "execution": {
     "iopub.status.busy": "2025-05-27T05:26:45.183568Z",
     "iopub.status.idle": "2025-05-27T05:26:45.183857Z",
     "shell.execute_reply": "2025-05-27T05:26:45.183772Z",
     "shell.execute_reply.started": "2025-05-27T05:26:45.183764Z"
    }
   },
   "outputs": [],
   "source": [
    "# plot feature importance\n",
    "plot_model(best, plot = 'feature')"
   ]
  },
  {
   "cell_type": "code",
   "execution_count": null,
   "id": "da718984",
   "metadata": {
    "execution": {
     "iopub.status.busy": "2025-05-27T05:26:45.184219Z",
     "iopub.status.idle": "2025-05-27T05:26:45.184439Z",
     "shell.execute_reply": "2025-05-27T05:26:45.184364Z",
     "shell.execute_reply.started": "2025-05-27T05:26:45.184357Z"
    }
   },
   "outputs": [],
   "source": [
    "# check docstring to see available plots \n",
    "# help(plot_model)"
   ]
  },
  {
   "attachments": {},
   "cell_type": "markdown",
   "id": "6bd66179",
   "metadata": {},
   "source": [
    "An alternate to `plot_model` function is `evaluate_model`. It can only be used in Notebook since it uses ipywidget."
   ]
  },
  {
   "cell_type": "code",
   "execution_count": null,
   "id": "c75f07a8",
   "metadata": {
    "execution": {
     "iopub.status.busy": "2025-05-27T05:26:45.184790Z",
     "iopub.status.idle": "2025-05-27T05:26:45.184940Z",
     "shell.execute_reply": "2025-05-27T05:26:45.184869Z",
     "shell.execute_reply.started": "2025-05-27T05:26:45.184862Z"
    }
   },
   "outputs": [],
   "source": [
    "evaluate_model(best)"
   ]
  },
  {
   "attachments": {},
   "cell_type": "markdown",
   "id": "ab3d2f1e",
   "metadata": {},
   "source": [
    "___"
   ]
  },
  {
   "attachments": {},
   "cell_type": "markdown",
   "id": "954cbeff",
   "metadata": {},
   "source": [
    "## Prediction\n",
    "The `predict_model` function returns `prediction_label` and `prediction_score` (probability of the predicted class) as new columns in dataframe. When data is `None` (default), it uses the test set (created during the setup function) for scoring."
   ]
  },
  {
   "cell_type": "code",
   "execution_count": null,
   "id": "87c1a007",
   "metadata": {
    "execution": {
     "iopub.status.busy": "2025-05-27T05:26:45.185419Z",
     "iopub.status.idle": "2025-05-27T05:26:45.185592Z",
     "shell.execute_reply": "2025-05-27T05:26:45.185519Z",
     "shell.execute_reply.started": "2025-05-27T05:26:45.185511Z"
    }
   },
   "outputs": [],
   "source": [
    "# predict on test set\n",
    "holdout_pred = predict_model(best)"
   ]
  },
  {
   "cell_type": "code",
   "execution_count": null,
   "id": "5c01ac77",
   "metadata": {
    "execution": {
     "iopub.status.busy": "2025-05-27T05:26:45.186021Z",
     "iopub.status.idle": "2025-05-27T05:26:45.186273Z",
     "shell.execute_reply": "2025-05-27T05:26:45.186198Z",
     "shell.execute_reply.started": "2025-05-27T05:26:45.186191Z"
    }
   },
   "outputs": [],
   "source": [
    "# show predictions df\n",
    "holdout_pred.head()"
   ]
  },
  {
   "attachments": {},
   "cell_type": "markdown",
   "id": "d4baf825",
   "metadata": {},
   "source": [
    "The same function works for predicting the labels on unseen dataset. Let's create a copy of original data and drop the `Class variable`. We can then use the new data frame without labels for scoring."
   ]
  },
  {
   "cell_type": "code",
   "execution_count": null,
   "id": "fb1cb86d",
   "metadata": {
    "execution": {
     "iopub.status.busy": "2025-05-27T05:26:45.186655Z",
     "iopub.status.idle": "2025-05-27T05:26:45.186904Z",
     "shell.execute_reply": "2025-05-27T05:26:45.186829Z",
     "shell.execute_reply.started": "2025-05-27T05:26:45.186821Z"
    }
   },
   "outputs": [],
   "source": [
    "# copy data and drop Class variable\n",
    "\n",
    "new_data = data.copy()\n",
    "new_data.drop('Class variable', axis=1, inplace=True)\n",
    "new_data.head()"
   ]
  },
  {
   "cell_type": "code",
   "execution_count": null,
   "id": "c5803df9",
   "metadata": {
    "execution": {
     "iopub.status.busy": "2025-05-27T05:26:45.187226Z",
     "iopub.status.idle": "2025-05-27T05:26:45.187486Z",
     "shell.execute_reply": "2025-05-27T05:26:45.187411Z",
     "shell.execute_reply.started": "2025-05-27T05:26:45.187403Z"
    }
   },
   "outputs": [],
   "source": [
    "# predict model on new_data\n",
    "predictions = predict_model(best, data = new_data)\n",
    "predictions.head()"
   ]
  },
  {
   "attachments": {},
   "cell_type": "markdown",
   "id": "e4384735",
   "metadata": {},
   "source": [
    "## Save Model"
   ]
  },
  {
   "attachments": {},
   "cell_type": "markdown",
   "id": "cd63f053",
   "metadata": {},
   "source": [
    "Finally, you can save the entire pipeline on disk for later use, using pycaret's `save_model` function."
   ]
  },
  {
   "cell_type": "code",
   "execution_count": null,
   "id": "4181de41",
   "metadata": {
    "execution": {
     "iopub.status.busy": "2025-05-27T05:26:45.187813Z",
     "iopub.status.idle": "2025-05-27T05:26:45.188060Z",
     "shell.execute_reply": "2025-05-27T05:26:45.187986Z",
     "shell.execute_reply.started": "2025-05-27T05:26:45.187979Z"
    }
   },
   "outputs": [],
   "source": [
    "# save pipeline\n",
    "save_model(best, 'my_first_pipeline')"
   ]
  },
  {
   "cell_type": "code",
   "execution_count": null,
   "id": "40ed5152",
   "metadata": {
    "execution": {
     "iopub.status.busy": "2025-05-27T05:26:45.188413Z",
     "iopub.status.idle": "2025-05-27T05:26:45.188670Z",
     "shell.execute_reply": "2025-05-27T05:26:45.188596Z",
     "shell.execute_reply.started": "2025-05-27T05:26:45.188589Z"
    }
   },
   "outputs": [],
   "source": [
    "# load pipeline\n",
    "loaded_best_pipeline = load_model('my_first_pipeline')\n",
    "loaded_best_pipeline"
   ]
  },
  {
   "attachments": {},
   "cell_type": "markdown",
   "id": "b2c7d62e",
   "metadata": {},
   "source": [
    "# 👇 Detailed function-by-function overview"
   ]
  },
  {
   "attachments": {},
   "cell_type": "markdown",
   "id": "e05937f5",
   "metadata": {},
   "source": [
    "## ✅ Setup\n",
    "This function initializes the experiment in PyCaret and creates the transformation pipeline based on all the parameters passed in the function. Setup function must be called before executing any other function. It takes two required parameters: `data` and `target`. All the other parameters are optional and are used for configuring data preprocessing pipeline."
   ]
  },
  {
   "cell_type": "code",
   "execution_count": null,
   "id": "24e503be",
   "metadata": {
    "execution": {
     "iopub.status.busy": "2025-05-27T05:26:45.188991Z",
     "iopub.status.idle": "2025-05-27T05:26:45.189161Z",
     "shell.execute_reply": "2025-05-27T05:26:45.189089Z",
     "shell.execute_reply.started": "2025-05-27T05:26:45.189082Z"
    }
   },
   "outputs": [],
   "source": [
    "# init setup function\n",
    "s = setup(data, target = 'Class variable', session_id = 123)"
   ]
  },
  {
   "attachments": {},
   "cell_type": "markdown",
   "id": "924d198b",
   "metadata": {},
   "source": [
    "To access all the variables created by the setup function such as transformed dataset, random_state, etc. you can use `get_config` method."
   ]
  },
  {
   "cell_type": "code",
   "execution_count": null,
   "id": "76128b08",
   "metadata": {
    "execution": {
     "iopub.status.busy": "2025-05-27T05:26:45.189577Z",
     "iopub.status.idle": "2025-05-27T05:26:45.189745Z",
     "shell.execute_reply": "2025-05-27T05:26:45.189673Z",
     "shell.execute_reply.started": "2025-05-27T05:26:45.189665Z"
    }
   },
   "outputs": [],
   "source": [
    "# check all available config\n",
    "get_config()"
   ]
  },
  {
   "cell_type": "code",
   "execution_count": null,
   "id": "dbc43292",
   "metadata": {
    "execution": {
     "iopub.status.busy": "2025-05-27T05:26:45.190159Z",
     "iopub.status.idle": "2025-05-27T05:26:45.190401Z",
     "shell.execute_reply": "2025-05-27T05:26:45.190329Z",
     "shell.execute_reply.started": "2025-05-27T05:26:45.190322Z"
    }
   },
   "outputs": [],
   "source": [
    "# lets access X_train_transformed\n",
    "get_config('X_train_transformed')"
   ]
  },
  {
   "cell_type": "code",
   "execution_count": null,
   "id": "ef9cd061",
   "metadata": {
    "execution": {
     "iopub.status.busy": "2025-05-27T05:26:45.190743Z",
     "iopub.status.idle": "2025-05-27T05:26:45.190992Z",
     "shell.execute_reply": "2025-05-27T05:26:45.190920Z",
     "shell.execute_reply.started": "2025-05-27T05:26:45.190913Z"
    }
   },
   "outputs": [],
   "source": [
    "# another example: let's access seed\n",
    "print(\"The current seed is: {}\".format(get_config('seed')))\n",
    "\n",
    "# now lets change it using set_config\n",
    "set_config('seed', 786)\n",
    "print(\"The new seed is: {}\".format(get_config('seed')))"
   ]
  },
  {
   "attachments": {},
   "cell_type": "markdown",
   "id": "7afbe41d",
   "metadata": {},
   "source": [
    "All the preprocessing configurations and experiment settings/parameters are passed into the `setup` function. To see all available parameters, check the docstring:"
   ]
  },
  {
   "cell_type": "code",
   "execution_count": null,
   "id": "2885a14f",
   "metadata": {
    "execution": {
     "iopub.status.busy": "2025-05-27T05:26:45.191308Z",
     "iopub.status.idle": "2025-05-27T05:26:45.191547Z",
     "shell.execute_reply": "2025-05-27T05:26:45.191473Z",
     "shell.execute_reply.started": "2025-05-27T05:26:45.191466Z"
    }
   },
   "outputs": [],
   "source": [
    "# help(setup)"
   ]
  },
  {
   "cell_type": "code",
   "execution_count": null,
   "id": "34ae0fce",
   "metadata": {
    "execution": {
     "iopub.status.busy": "2025-05-27T05:26:45.191887Z",
     "iopub.status.idle": "2025-05-27T05:26:45.192164Z",
     "shell.execute_reply": "2025-05-27T05:26:45.192091Z",
     "shell.execute_reply.started": "2025-05-27T05:26:45.192084Z"
    }
   },
   "outputs": [],
   "source": [
    "# init setup with normalize = True\n",
    "\n",
    "s = setup(data, target = 'Class variable', session_id = 123,\n",
    "          normalize = True, normalize_method = 'minmax')"
   ]
  },
  {
   "cell_type": "code",
   "execution_count": null,
   "id": "04204ae7",
   "metadata": {
    "execution": {
     "iopub.status.busy": "2025-05-27T05:26:45.192475Z",
     "iopub.status.idle": "2025-05-27T05:26:45.192747Z",
     "shell.execute_reply": "2025-05-27T05:26:45.192674Z",
     "shell.execute_reply.started": "2025-05-27T05:26:45.192667Z"
    }
   },
   "outputs": [],
   "source": [
    "# lets check the X_train_transformed to see effect of params passed\n",
    "get_config('X_train_transformed')['Number of times pregnant'].hist()"
   ]
  },
  {
   "attachments": {},
   "cell_type": "markdown",
   "id": "d28a3e4e",
   "metadata": {},
   "source": [
    "Notice that all the values are between 0 and 1 - that is because we passed `normalize=True` in the `setup` function. If you don't remember how it compares to actual data, no problem - we can also access non-transformed values using `get_config` and then compare. See below and notice the range of values on x-axis and compare it with histogram above."
   ]
  },
  {
   "cell_type": "code",
   "execution_count": null,
   "id": "68cc1c63",
   "metadata": {
    "execution": {
     "iopub.status.busy": "2025-05-27T05:26:45.193054Z",
     "iopub.status.idle": "2025-05-27T05:26:45.193223Z",
     "shell.execute_reply": "2025-05-27T05:26:45.193151Z",
     "shell.execute_reply.started": "2025-05-27T05:26:45.193143Z"
    }
   },
   "outputs": [],
   "source": [
    "get_config('X_train')['Number of times pregnant'].hist()"
   ]
  },
  {
   "attachments": {},
   "cell_type": "markdown",
   "id": "b3776fbf",
   "metadata": {},
   "source": [
    "___"
   ]
  },
  {
   "attachments": {},
   "cell_type": "markdown",
   "id": "36b8b803",
   "metadata": {},
   "source": [
    "## ✅ Compare Models\n",
    "This function trains and evaluates the performance of all estimators available in the model library using cross-validation. The output of this function is a scoring grid with average cross-validated scores. Metrics evaluated during CV can be accessed using the `get_metrics` function. Custom metrics can be added or removed using `add_metric` and `remove_metric` function."
   ]
  },
  {
   "cell_type": "code",
   "execution_count": null,
   "id": "a3350418",
   "metadata": {
    "execution": {
     "iopub.status.busy": "2025-05-27T05:26:45.193662Z",
     "iopub.status.idle": "2025-05-27T05:26:45.193953Z",
     "shell.execute_reply": "2025-05-27T05:26:45.193792Z",
     "shell.execute_reply.started": "2025-05-27T05:26:45.193776Z"
    }
   },
   "outputs": [],
   "source": [
    "best = compare_models()"
   ]
  },
  {
   "attachments": {},
   "cell_type": "markdown",
   "id": "cd18dcf6",
   "metadata": {},
   "source": [
    "`compare_models` by default uses all the estimators in model library (all except models with `Turbo=False`) . To see all available models you can use the function `models()`"
   ]
  },
  {
   "cell_type": "code",
   "execution_count": null,
   "id": "432e93d7",
   "metadata": {
    "execution": {
     "iopub.status.busy": "2025-05-27T05:26:45.194701Z",
     "iopub.status.idle": "2025-05-27T05:26:45.195222Z",
     "shell.execute_reply": "2025-05-27T05:26:45.195085Z",
     "shell.execute_reply.started": "2025-05-27T05:26:45.195072Z"
    }
   },
   "outputs": [],
   "source": [
    "# check available models\n",
    "models()"
   ]
  },
  {
   "attachments": {},
   "cell_type": "markdown",
   "id": "f588f54b",
   "metadata": {},
   "source": [
    "You can use the `include` and `exclude` parameter in the `compare_models` to train only select model or exclude specific models from training by passing the model id's in `exclude` parameter."
   ]
  },
  {
   "cell_type": "code",
   "execution_count": null,
   "id": "f2a7e578",
   "metadata": {
    "execution": {
     "iopub.status.busy": "2025-05-27T05:26:45.195937Z",
     "iopub.status.idle": "2025-05-27T05:26:45.196258Z",
     "shell.execute_reply": "2025-05-27T05:26:45.196123Z",
     "shell.execute_reply.started": "2025-05-27T05:26:45.196109Z"
    }
   },
   "outputs": [],
   "source": [
    "compare_tree_models = compare_models(include = ['dt', 'rf', 'et', 'gbc', 'xgboost', 'lightgbm', 'catboost'])"
   ]
  },
  {
   "cell_type": "code",
   "execution_count": null,
   "id": "c15a467e",
   "metadata": {
    "execution": {
     "iopub.status.busy": "2025-05-27T05:26:45.197024Z",
     "iopub.status.idle": "2025-05-27T05:26:45.197335Z",
     "shell.execute_reply": "2025-05-27T05:26:45.197201Z",
     "shell.execute_reply.started": "2025-05-27T05:26:45.197188Z"
    }
   },
   "outputs": [],
   "source": [
    "compare_tree_models"
   ]
  },
  {
   "attachments": {},
   "cell_type": "markdown",
   "id": "af9ae6cd",
   "metadata": {},
   "source": [
    "The function above has return trained model object as an output. The scoring grid is only displayed and not returned. If you need access to the scoring grid you can use `pull` function to access the dataframe."
   ]
  },
  {
   "cell_type": "code",
   "execution_count": null,
   "id": "fc529e25",
   "metadata": {
    "execution": {
     "iopub.status.busy": "2025-05-27T05:26:45.198125Z",
     "iopub.status.idle": "2025-05-27T05:26:45.198449Z",
     "shell.execute_reply": "2025-05-27T05:26:45.198308Z",
     "shell.execute_reply.started": "2025-05-27T05:26:45.198295Z"
    }
   },
   "outputs": [],
   "source": [
    "compare_tree_models_results = pull()\n",
    "compare_tree_models_results"
   ]
  },
  {
   "attachments": {},
   "cell_type": "markdown",
   "id": "05a72fc2",
   "metadata": {},
   "source": [
    "By default `compare_models` return the single best performing model based on the metric defined in the `sort` parameter. Let's change our code to return 3 top models based on `Recall`."
   ]
  },
  {
   "cell_type": "code",
   "execution_count": null,
   "id": "1066dd07",
   "metadata": {
    "execution": {
     "iopub.status.busy": "2025-05-27T05:26:45.199319Z",
     "iopub.status.idle": "2025-05-27T05:26:45.199594Z",
     "shell.execute_reply": "2025-05-27T05:26:45.199504Z",
     "shell.execute_reply.started": "2025-05-27T05:26:45.199495Z"
    }
   },
   "outputs": [],
   "source": [
    "best_recall_models_top3 = compare_models(sort = 'Recall', n_select = 3)"
   ]
  },
  {
   "cell_type": "code",
   "execution_count": null,
   "id": "aa259708",
   "metadata": {
    "execution": {
     "iopub.status.busy": "2025-05-27T05:26:45.199995Z",
     "iopub.status.idle": "2025-05-27T05:26:45.200431Z",
     "shell.execute_reply": "2025-05-27T05:26:45.200340Z",
     "shell.execute_reply.started": "2025-05-27T05:26:45.200331Z"
    }
   },
   "outputs": [],
   "source": [
    "# list of top 3 models by Recall\n",
    "best_recall_models_top3"
   ]
  },
  {
   "attachments": {},
   "cell_type": "markdown",
   "id": "1d91d27e",
   "metadata": {},
   "source": [
    "Some other parameters that you might find very useful in `compare_models` are:\n",
    "\n",
    "- fold\n",
    "- cross_validation\n",
    "- budget_time\n",
    "- errors\n",
    "- probability_threshold\n",
    "- parallel\n",
    "\n",
    "You can check the docstring of the function for more info."
   ]
  },
  {
   "cell_type": "code",
   "execution_count": null,
   "id": "f0c49e0b",
   "metadata": {
    "execution": {
     "iopub.status.busy": "2025-05-27T05:26:45.200802Z",
     "iopub.status.idle": "2025-05-27T05:26:45.201112Z",
     "shell.execute_reply": "2025-05-27T05:26:45.201022Z",
     "shell.execute_reply.started": "2025-05-27T05:26:45.201013Z"
    }
   },
   "outputs": [],
   "source": [
    "# help(compare_models)"
   ]
  },
  {
   "attachments": {},
   "cell_type": "markdown",
   "id": "f4ec411d",
   "metadata": {},
   "source": [
    "## ✅ Set Custom Metrics"
   ]
  },
  {
   "cell_type": "code",
   "execution_count": null,
   "id": "bd9d6395",
   "metadata": {
    "execution": {
     "iopub.status.busy": "2025-05-27T05:26:45.201464Z",
     "iopub.status.idle": "2025-05-27T05:26:45.201750Z",
     "shell.execute_reply": "2025-05-27T05:26:45.201660Z",
     "shell.execute_reply.started": "2025-05-27T05:26:45.201651Z"
    }
   },
   "outputs": [],
   "source": [
    "# check available metrics used in CV\n",
    "get_metrics()"
   ]
  },
  {
   "cell_type": "code",
   "execution_count": null,
   "id": "0d92512d",
   "metadata": {
    "execution": {
     "iopub.status.busy": "2025-05-27T05:26:45.202174Z",
     "iopub.status.idle": "2025-05-27T05:26:45.202450Z",
     "shell.execute_reply": "2025-05-27T05:26:45.202361Z",
     "shell.execute_reply.started": "2025-05-27T05:26:45.202351Z"
    }
   },
   "outputs": [],
   "source": [
    "# create a custom function\n",
    "import numpy as np\n",
    "\n",
    "def custom_metric(y, y_pred):\n",
    "    tp = np.where((y_pred==1) & (y==1), (100), 0)\n",
    "    fp = np.where((y_pred==1) & (y==0), -5, 0)\n",
    "    return np.sum([tp,fp])\n",
    "\n",
    "# add metric to PyCaret\n",
    "add_metric('custom_metric', 'Custom Metric', custom_metric)"
   ]
  },
  {
   "cell_type": "code",
   "execution_count": null,
   "id": "e4740319",
   "metadata": {
    "execution": {
     "iopub.status.busy": "2025-05-27T05:26:45.202846Z",
     "iopub.status.idle": "2025-05-27T05:26:45.203155Z",
     "shell.execute_reply": "2025-05-27T05:26:45.203067Z",
     "shell.execute_reply.started": "2025-05-27T05:26:45.203058Z"
    }
   },
   "outputs": [],
   "source": [
    "# now let's run compare_models again\n",
    "compare_models()"
   ]
  },
  {
   "cell_type": "code",
   "execution_count": null,
   "id": "6ee60c4e",
   "metadata": {
    "execution": {
     "iopub.status.busy": "2025-05-27T05:26:45.203511Z",
     "iopub.status.idle": "2025-05-27T05:26:45.203820Z",
     "shell.execute_reply": "2025-05-27T05:26:45.203731Z",
     "shell.execute_reply.started": "2025-05-27T05:26:45.203721Z"
    }
   },
   "outputs": [],
   "source": [
    "# remove custom metric\n",
    "remove_metric('custom_metric')"
   ]
  },
  {
   "attachments": {},
   "cell_type": "markdown",
   "id": "9e6c47cb",
   "metadata": {},
   "source": [
    "## ✅ Experiment Logging\n",
    "PyCaret integrates with many different type of experiment loggers (default = 'mlflow'). To turn on experiment tracking in PyCaret you can set `log_experiment` and `experiment_name` parameter. It will automatically track all the metrics, hyperparameters, and artifacts based on the defined logger."
   ]
  },
  {
   "cell_type": "code",
   "execution_count": null,
   "id": "1af63fd0",
   "metadata": {
    "execution": {
     "iopub.status.busy": "2025-05-27T05:26:45.204168Z",
     "iopub.status.idle": "2025-05-27T05:26:45.204465Z",
     "shell.execute_reply": "2025-05-27T05:26:45.204375Z",
     "shell.execute_reply.started": "2025-05-27T05:26:45.204366Z"
    }
   },
   "outputs": [],
   "source": [
    "# from pycaret.classification import *\n",
    "# s = setup(data, target = 'Class variable', log_experiment='mlflow', experiment_name='diabetes_experiment')"
   ]
  },
  {
   "cell_type": "code",
   "execution_count": null,
   "id": "42cd6120",
   "metadata": {
    "execution": {
     "iopub.status.busy": "2025-05-27T05:26:45.204841Z",
     "iopub.status.idle": "2025-05-27T05:26:45.205154Z",
     "shell.execute_reply": "2025-05-27T05:26:45.205063Z",
     "shell.execute_reply.started": "2025-05-27T05:26:45.205054Z"
    }
   },
   "outputs": [],
   "source": [
    "# compare models\n",
    "# best = compare_models()"
   ]
  },
  {
   "cell_type": "code",
   "execution_count": null,
   "id": "adc82ce5",
   "metadata": {
    "execution": {
     "iopub.status.busy": "2025-05-27T05:26:45.205504Z",
     "iopub.status.idle": "2025-05-27T05:26:45.205816Z",
     "shell.execute_reply": "2025-05-27T05:26:45.205727Z",
     "shell.execute_reply.started": "2025-05-27T05:26:45.205718Z"
    }
   },
   "outputs": [],
   "source": [
    "# start mlflow server on localhost:5000\n",
    "# !mlflow ui"
   ]
  },
  {
   "attachments": {},
   "cell_type": "markdown",
   "id": "a06f9df7",
   "metadata": {},
   "source": [
    "By default PyCaret uses `MLFlow` logger that can be changed using `log_experiment` parameter. Following loggers are available:\n",
    "    \n",
    "    - mlflow\n",
    "    - wandb\n",
    "    - comet_ml\n",
    "    - dagshub\n",
    "    \n",
    "Other logging related parameters that you may find useful are:\n",
    "\n",
    "- experiment_custom_tags\n",
    "- log_plots\n",
    "- log_data\n",
    "- log_profile\n",
    "\n",
    "For more information check out the docstring of the `setup` function."
   ]
  },
  {
   "cell_type": "code",
   "execution_count": null,
   "id": "2f8b6aa1",
   "metadata": {
    "execution": {
     "iopub.status.busy": "2025-05-27T05:26:45.206177Z",
     "iopub.status.idle": "2025-05-27T05:26:45.206455Z",
     "shell.execute_reply": "2025-05-27T05:26:45.206365Z",
     "shell.execute_reply.started": "2025-05-27T05:26:45.206356Z"
    }
   },
   "outputs": [],
   "source": [
    "# help(setup)"
   ]
  },
  {
   "attachments": {},
   "cell_type": "markdown",
   "id": "6ce0b555",
   "metadata": {},
   "source": [
    "## ✅ Create Model\n",
    "This function trains and evaluates the performance of a given estimator using cross-validation. The output of this function is a scoring grid with CV scores by fold. Metrics evaluated during CV can be accessed using the `get_metrics` function. Custom metrics can be added or removed using `add_metric` and `remove_metric` function. All the available models can be accessed using the models function."
   ]
  },
  {
   "cell_type": "code",
   "execution_count": null,
   "id": "837cebfa",
   "metadata": {
    "execution": {
     "iopub.status.busy": "2025-05-27T05:26:45.206836Z",
     "iopub.status.idle": "2025-05-27T05:26:45.207110Z",
     "shell.execute_reply": "2025-05-27T05:26:45.207021Z",
     "shell.execute_reply.started": "2025-05-27T05:26:45.207012Z"
    }
   },
   "outputs": [],
   "source": [
    "# check all the available models\n",
    "models()"
   ]
  },
  {
   "cell_type": "code",
   "execution_count": null,
   "id": "16641cab",
   "metadata": {
    "execution": {
     "iopub.status.busy": "2025-05-27T05:26:45.207493Z",
     "iopub.status.idle": "2025-05-27T05:26:45.207764Z",
     "shell.execute_reply": "2025-05-27T05:26:45.207676Z",
     "shell.execute_reply.started": "2025-05-27T05:26:45.207667Z"
    }
   },
   "outputs": [],
   "source": [
    "# train logistic regression with default fold=10\n",
    "lr = create_model('lr')"
   ]
  },
  {
   "attachments": {},
   "cell_type": "markdown",
   "id": "074b4572",
   "metadata": {},
   "source": [
    "The function above has return trained model object as an output. The scoring grid is only displayed and not returned. If you need access to the scoring grid you can use `pull` function to access the dataframe."
   ]
  },
  {
   "cell_type": "code",
   "execution_count": null,
   "id": "fe277e1b",
   "metadata": {
    "execution": {
     "iopub.status.busy": "2025-05-27T05:26:45.208142Z",
     "iopub.status.idle": "2025-05-27T05:26:45.208415Z",
     "shell.execute_reply": "2025-05-27T05:26:45.208323Z",
     "shell.execute_reply.started": "2025-05-27T05:26:45.208314Z"
    }
   },
   "outputs": [],
   "source": [
    "lr_results = pull()\n",
    "print(type(lr_results))\n",
    "lr_results"
   ]
  },
  {
   "cell_type": "code",
   "execution_count": null,
   "id": "148a74c4",
   "metadata": {
    "execution": {
     "iopub.status.busy": "2025-05-27T05:26:45.208799Z",
     "iopub.status.idle": "2025-05-27T05:26:45.209069Z",
     "shell.execute_reply": "2025-05-27T05:26:45.208980Z",
     "shell.execute_reply.started": "2025-05-27T05:26:45.208971Z"
    }
   },
   "outputs": [],
   "source": [
    "# train logistic regression with fold=3\n",
    "lr = create_model('lr', fold=3)"
   ]
  },
  {
   "cell_type": "code",
   "execution_count": null,
   "id": "5a8906a8",
   "metadata": {
    "execution": {
     "iopub.status.busy": "2025-05-27T05:26:45.209450Z",
     "iopub.status.idle": "2025-05-27T05:26:45.209714Z",
     "shell.execute_reply": "2025-05-27T05:26:45.209626Z",
     "shell.execute_reply.started": "2025-05-27T05:26:45.209617Z"
    }
   },
   "outputs": [],
   "source": [
    "# train logistic regression with specific model parameters\n",
    "create_model('lr', C = 0.5, l1_ratio = 0.15)"
   ]
  },
  {
   "cell_type": "code",
   "execution_count": null,
   "id": "b85af29b",
   "metadata": {
    "execution": {
     "iopub.status.busy": "2025-05-27T05:26:45.210114Z",
     "iopub.status.idle": "2025-05-27T05:26:45.210365Z",
     "shell.execute_reply": "2025-05-27T05:26:45.210276Z",
     "shell.execute_reply.started": "2025-05-27T05:26:45.210267Z"
    }
   },
   "outputs": [],
   "source": [
    "# train lr and return train score as well alongwith CV\n",
    "create_model('lr', return_train_score=True)"
   ]
  },
  {
   "cell_type": "code",
   "execution_count": null,
   "id": "3b9d9ac6",
   "metadata": {
    "execution": {
     "iopub.status.busy": "2025-05-27T05:26:45.210778Z",
     "iopub.status.idle": "2025-05-27T05:26:45.211053Z",
     "shell.execute_reply": "2025-05-27T05:26:45.210965Z",
     "shell.execute_reply.started": "2025-05-27T05:26:45.210956Z"
    }
   },
   "outputs": [],
   "source": [
    "# change the probability threshold of classifier from 0.5 to 0.66\n",
    "create_model('lr', probability_threshold = 0.66)"
   ]
  },
  {
   "attachments": {},
   "cell_type": "markdown",
   "id": "08634e9e",
   "metadata": {},
   "source": [
    "Some other parameters that you might find very useful in `create_model` are:\n",
    "\n",
    "- cross_validation\n",
    "- engine\n",
    "- fit_kwargs\n",
    "- groups\n",
    "\n",
    "You can check the docstring of the function for more info."
   ]
  },
  {
   "cell_type": "code",
   "execution_count": null,
   "id": "3fb32c74",
   "metadata": {
    "execution": {
     "iopub.status.busy": "2025-05-27T05:26:45.211439Z",
     "iopub.status.idle": "2025-05-27T05:26:45.211706Z",
     "shell.execute_reply": "2025-05-27T05:26:45.211618Z",
     "shell.execute_reply.started": "2025-05-27T05:26:45.211609Z"
    }
   },
   "outputs": [],
   "source": [
    "# help(create_model)"
   ]
  },
  {
   "attachments": {},
   "cell_type": "markdown",
   "id": "d5378836",
   "metadata": {},
   "source": [
    "## ✅ Tune Model\n",
    "\n",
    "This function tunes the hyperparameters of the model. The output of this function is a scoring grid with cross-validated scores by fold. The best model is selected based on the metric defined in optimize parameter. Metrics evaluated during cross-validation can be accessed using the `get_metrics` function. Custom metrics can be added or removed using `add_metric` and `remove_metric` function."
   ]
  },
  {
   "cell_type": "code",
   "execution_count": null,
   "id": "402597f2",
   "metadata": {
    "execution": {
     "iopub.status.busy": "2025-05-27T05:26:45.212053Z",
     "iopub.status.idle": "2025-05-27T05:26:45.212260Z",
     "shell.execute_reply": "2025-05-27T05:26:45.212186Z",
     "shell.execute_reply.started": "2025-05-27T05:26:45.212179Z"
    }
   },
   "outputs": [],
   "source": [
    "# train a dt model with default params\n",
    "dt = create_model('dt')"
   ]
  },
  {
   "cell_type": "code",
   "execution_count": null,
   "id": "90dc451d",
   "metadata": {
    "execution": {
     "iopub.status.busy": "2025-05-27T05:26:45.212591Z",
     "iopub.status.idle": "2025-05-27T05:26:45.212808Z",
     "shell.execute_reply": "2025-05-27T05:26:45.212670Z",
     "shell.execute_reply.started": "2025-05-27T05:26:45.212662Z"
    }
   },
   "outputs": [],
   "source": [
    "# tune hyperparameters of dt\n",
    "tuned_dt = tune_model(dt)"
   ]
  },
  {
   "attachments": {},
   "cell_type": "markdown",
   "id": "805b66b9",
   "metadata": {},
   "source": [
    "Metric to optimize can be defined in `optimize` parameter (default = 'Accuracy'). Also, a custom tuned grid can be passed with `custom_grid` parameter. "
   ]
  },
  {
   "cell_type": "code",
   "execution_count": null,
   "id": "cca8e640",
   "metadata": {
    "execution": {
     "iopub.status.busy": "2025-05-27T05:26:45.213243Z",
     "iopub.status.idle": "2025-05-27T05:26:45.213482Z",
     "shell.execute_reply": "2025-05-27T05:26:45.213408Z",
     "shell.execute_reply.started": "2025-05-27T05:26:45.213400Z"
    }
   },
   "outputs": [],
   "source": [
    "dt"
   ]
  },
  {
   "cell_type": "code",
   "execution_count": null,
   "id": "31e050ff",
   "metadata": {
    "execution": {
     "iopub.status.busy": "2025-05-27T05:26:45.213841Z",
     "iopub.status.idle": "2025-05-27T05:26:45.214106Z",
     "shell.execute_reply": "2025-05-27T05:26:45.214027Z",
     "shell.execute_reply.started": "2025-05-27T05:26:45.214019Z"
    }
   },
   "outputs": [],
   "source": [
    "# define tuning grid\n",
    "dt_grid = {'max_depth' : [None, 2, 4, 6, 8, 10, 12]}\n",
    "\n",
    "# tune model with custom grid and metric = F1\n",
    "tuned_dt = tune_model(dt, custom_grid = dt_grid, optimize = 'F1')"
   ]
  },
  {
   "cell_type": "code",
   "execution_count": null,
   "id": "6cca514b",
   "metadata": {
    "execution": {
     "iopub.status.busy": "2025-05-27T05:26:45.214437Z",
     "iopub.status.idle": "2025-05-27T05:26:45.214673Z",
     "shell.execute_reply": "2025-05-27T05:26:45.214600Z",
     "shell.execute_reply.started": "2025-05-27T05:26:45.214593Z"
    }
   },
   "outputs": [],
   "source": [
    "# to access the tuner object you can set return_tuner = True\n",
    "tuned_dt, tuner = tune_model(dt, return_tuner=True)"
   ]
  },
  {
   "cell_type": "code",
   "execution_count": null,
   "id": "80cbb4a6",
   "metadata": {
    "execution": {
     "iopub.status.busy": "2025-05-27T05:26:45.215007Z",
     "iopub.status.idle": "2025-05-27T05:26:45.215216Z",
     "shell.execute_reply": "2025-05-27T05:26:45.215144Z",
     "shell.execute_reply.started": "2025-05-27T05:26:45.215137Z"
    }
   },
   "outputs": [],
   "source": [
    "# model object\n",
    "tuned_dt"
   ]
  },
  {
   "cell_type": "code",
   "execution_count": null,
   "id": "7d5e49ca",
   "metadata": {
    "execution": {
     "iopub.status.busy": "2025-05-27T05:26:45.215586Z",
     "iopub.status.idle": "2025-05-27T05:26:45.215862Z",
     "shell.execute_reply": "2025-05-27T05:26:45.215788Z",
     "shell.execute_reply.started": "2025-05-27T05:26:45.215781Z"
    }
   },
   "outputs": [],
   "source": [
    "# tuner object\n",
    "tuner"
   ]
  },
  {
   "attachments": {},
   "cell_type": "markdown",
   "id": "0a33c70b",
   "metadata": {},
   "source": [
    "The default search algorithm is `RandomizedSearchCV` from `sklearn`. This can be changed by using `search_library` and `search_algorithm` parameter."
   ]
  },
  {
   "cell_type": "code",
   "execution_count": null,
   "id": "31e33547",
   "metadata": {
    "execution": {
     "iopub.status.busy": "2025-05-27T05:26:45.216174Z",
     "iopub.status.idle": "2025-05-27T05:26:45.216345Z",
     "shell.execute_reply": "2025-05-27T05:26:45.216272Z",
     "shell.execute_reply.started": "2025-05-27T05:26:45.216264Z"
    }
   },
   "outputs": [],
   "source": [
    "# tune dt using optuna\n",
    "tuned_dt = tune_model(dt, search_library = 'optuna')"
   ]
  },
  {
   "attachments": {},
   "cell_type": "markdown",
   "id": "a1e2875b",
   "metadata": {},
   "source": [
    "For more details on all available `search_library` and `search_algorithm` please check the docstring. Some other parameters that you might find very useful in `tune_model` are:\n",
    "\n",
    "- choose_better\n",
    "- n_iter\n",
    "- early_stopping\n",
    "- groups\n",
    "\n",
    "You can check the docstring of the function for more info."
   ]
  },
  {
   "cell_type": "code",
   "execution_count": null,
   "id": "94f9c86e",
   "metadata": {
    "execution": {
     "iopub.status.busy": "2025-05-27T05:26:45.216752Z",
     "iopub.status.idle": "2025-05-27T05:26:45.216922Z",
     "shell.execute_reply": "2025-05-27T05:26:45.216849Z",
     "shell.execute_reply.started": "2025-05-27T05:26:45.216842Z"
    }
   },
   "outputs": [],
   "source": [
    "# help(tune_model)"
   ]
  },
  {
   "attachments": {},
   "cell_type": "markdown",
   "id": "2ca8ee07",
   "metadata": {},
   "source": [
    "## ✅ Ensemble Model"
   ]
  },
  {
   "attachments": {},
   "cell_type": "markdown",
   "id": "ce321d4c",
   "metadata": {},
   "source": [
    "This function ensembles a given estimator. The output of this function is a scoring grid with CV scores by fold. Metrics evaluated during CV can be accessed using the `get_metrics` function. Custom metrics can be added or removed using `add_metric` and `remove_metric` function."
   ]
  },
  {
   "cell_type": "code",
   "execution_count": null,
   "id": "c8ee936d",
   "metadata": {
    "execution": {
     "iopub.status.busy": "2025-05-27T05:26:45.217326Z",
     "iopub.status.idle": "2025-05-27T05:26:45.217570Z",
     "shell.execute_reply": "2025-05-27T05:26:45.217496Z",
     "shell.execute_reply.started": "2025-05-27T05:26:45.217489Z"
    }
   },
   "outputs": [],
   "source": [
    "# ensemble with bagging\n",
    "ensemble_model(dt, method = 'Bagging')"
   ]
  },
  {
   "cell_type": "code",
   "execution_count": null,
   "id": "79279394",
   "metadata": {
    "execution": {
     "iopub.status.busy": "2025-05-27T05:26:45.217913Z",
     "iopub.status.idle": "2025-05-27T05:26:45.218128Z",
     "shell.execute_reply": "2025-05-27T05:26:45.218053Z",
     "shell.execute_reply.started": "2025-05-27T05:26:45.218045Z"
    }
   },
   "outputs": [],
   "source": [
    "# ensemble with boosting\n",
    "ensemble_model(dt, method = 'Boosting')"
   ]
  },
  {
   "attachments": {},
   "cell_type": "markdown",
   "id": "d0fa1ce2",
   "metadata": {},
   "source": [
    "Some other parameters that you might find very useful in `ensemble_model` are:\n",
    "\n",
    "- choose_better\n",
    "- n_estimators\n",
    "- groups\n",
    "- fit_kwargs\n",
    "- probability_threshold\n",
    "- return_train_score\n",
    "\n",
    "You can check the docstring of the function for more info."
   ]
  },
  {
   "cell_type": "code",
   "execution_count": null,
   "id": "78130ed1",
   "metadata": {
    "execution": {
     "iopub.status.busy": "2025-05-27T05:26:45.218504Z",
     "iopub.status.idle": "2025-05-27T05:26:45.218745Z",
     "shell.execute_reply": "2025-05-27T05:26:45.218670Z",
     "shell.execute_reply.started": "2025-05-27T05:26:45.218663Z"
    }
   },
   "outputs": [],
   "source": [
    "# help(ensemble_model)"
   ]
  },
  {
   "attachments": {},
   "cell_type": "markdown",
   "id": "ea8a9a4e",
   "metadata": {},
   "source": [
    "## ✅ Blend Models"
   ]
  },
  {
   "attachments": {},
   "cell_type": "markdown",
   "id": "2ede29c4",
   "metadata": {},
   "source": [
    "This function trains a Soft Voting / Majority Rule classifier for select models passed in the estimator_list parameter. The output of this function is a scoring grid with CV scores by fold. Metrics evaluated during CV can be accessed using the `get_metrics` function. Custom metrics can be added or removed using `add_metric` and `remove_metric` function."
   ]
  },
  {
   "cell_type": "code",
   "execution_count": null,
   "id": "61a7a1c5",
   "metadata": {
    "execution": {
     "iopub.status.busy": "2025-05-27T05:26:45.219090Z",
     "iopub.status.idle": "2025-05-27T05:26:45.219334Z",
     "shell.execute_reply": "2025-05-27T05:26:45.219261Z",
     "shell.execute_reply.started": "2025-05-27T05:26:45.219253Z"
    }
   },
   "outputs": [],
   "source": [
    "# top 3 models based on recall\n",
    "best_recall_models_top3"
   ]
  },
  {
   "cell_type": "code",
   "execution_count": null,
   "id": "04f65f2f",
   "metadata": {
    "execution": {
     "iopub.status.busy": "2025-05-27T05:26:45.219681Z",
     "iopub.status.idle": "2025-05-27T05:26:45.219956Z",
     "shell.execute_reply": "2025-05-27T05:26:45.219883Z",
     "shell.execute_reply.started": "2025-05-27T05:26:45.219876Z"
    }
   },
   "outputs": [],
   "source": [
    "# blend top 3 models\n",
    "blend_models(best_recall_models_top3)"
   ]
  },
  {
   "attachments": {},
   "cell_type": "markdown",
   "id": "9e788c9c",
   "metadata": {},
   "source": [
    "Some other parameters that you might find very useful in `blend_models` are:\n",
    "\n",
    "- choose_better\n",
    "- method\n",
    "- weights\n",
    "- fit_kwargs\n",
    "- probability_threshold\n",
    "- return_train_score\n",
    "\n",
    "You can check the docstring of the function for more info."
   ]
  },
  {
   "cell_type": "code",
   "execution_count": null,
   "id": "99b549a6",
   "metadata": {
    "execution": {
     "iopub.status.busy": "2025-05-27T05:26:45.220259Z",
     "iopub.status.idle": "2025-05-27T05:26:45.220495Z",
     "shell.execute_reply": "2025-05-27T05:26:45.220422Z",
     "shell.execute_reply.started": "2025-05-27T05:26:45.220415Z"
    }
   },
   "outputs": [],
   "source": [
    "# help(blend_models)"
   ]
  },
  {
   "attachments": {},
   "cell_type": "markdown",
   "id": "e76969b0",
   "metadata": {},
   "source": [
    "## ✅ Stack Models"
   ]
  },
  {
   "attachments": {},
   "cell_type": "markdown",
   "id": "55909804",
   "metadata": {},
   "source": [
    "This function trains a meta-model over select estimators passed in the estimator_list parameter. The output of this function is a scoring grid with CV scores by fold. Metrics evaluated during CV can be accessed using the `get_metrics` function. Custom metrics can be added or removed using `add_metric` and `remove_metric` function."
   ]
  },
  {
   "cell_type": "code",
   "execution_count": null,
   "id": "201c681e",
   "metadata": {
    "execution": {
     "iopub.status.busy": "2025-05-27T05:26:45.220841Z",
     "iopub.status.idle": "2025-05-27T05:26:45.221115Z",
     "shell.execute_reply": "2025-05-27T05:26:45.221043Z",
     "shell.execute_reply.started": "2025-05-27T05:26:45.221035Z"
    }
   },
   "outputs": [],
   "source": [
    "# stack models\n",
    "stack_models(best_recall_models_top3)"
   ]
  },
  {
   "attachments": {},
   "cell_type": "markdown",
   "id": "af78cda8",
   "metadata": {},
   "source": [
    "Some other parameters that you might find very useful in `stack_models` are:\n",
    "\n",
    "- choose_better\n",
    "- meta_model\n",
    "- method\n",
    "- restack\n",
    "- probability_threshold\n",
    "- return_train_score\n",
    "\n",
    "You can check the docstring of the function for more info."
   ]
  },
  {
   "cell_type": "code",
   "execution_count": null,
   "id": "3305e597",
   "metadata": {
    "execution": {
     "iopub.status.busy": "2025-05-27T05:26:45.221418Z",
     "iopub.status.idle": "2025-05-27T05:26:45.221659Z",
     "shell.execute_reply": "2025-05-27T05:26:45.221586Z",
     "shell.execute_reply.started": "2025-05-27T05:26:45.221578Z"
    }
   },
   "outputs": [],
   "source": [
    "# help(stack_models)"
   ]
  },
  {
   "attachments": {},
   "cell_type": "markdown",
   "id": "279a3127",
   "metadata": {},
   "source": [
    "## ✅ Plot Model"
   ]
  },
  {
   "attachments": {},
   "cell_type": "markdown",
   "id": "862bd3e9",
   "metadata": {},
   "source": [
    "This function analyzes the performance of a trained model on the hold-out set. It may require re-training the model in certain cases."
   ]
  },
  {
   "cell_type": "code",
   "execution_count": null,
   "id": "9c8da9b4",
   "metadata": {
    "execution": {
     "iopub.status.busy": "2025-05-27T05:26:45.222014Z",
     "iopub.status.idle": "2025-05-27T05:26:45.222187Z",
     "shell.execute_reply": "2025-05-27T05:26:45.222115Z",
     "shell.execute_reply.started": "2025-05-27T05:26:45.222108Z"
    }
   },
   "outputs": [],
   "source": [
    "# plot class report\n",
    "plot_model(best, plot = 'class_report')"
   ]
  },
  {
   "cell_type": "code",
   "execution_count": null,
   "id": "952b6f24",
   "metadata": {
    "execution": {
     "iopub.status.busy": "2025-05-27T05:26:45.222610Z",
     "iopub.status.idle": "2025-05-27T05:26:45.222847Z",
     "shell.execute_reply": "2025-05-27T05:26:45.222775Z",
     "shell.execute_reply.started": "2025-05-27T05:26:45.222767Z"
    }
   },
   "outputs": [],
   "source": [
    "# to control the scale of plot\n",
    "plot_model(best, plot = 'class_report', scale = 2)"
   ]
  },
  {
   "cell_type": "code",
   "execution_count": null,
   "id": "54389270",
   "metadata": {
    "execution": {
     "iopub.status.busy": "2025-05-27T05:26:45.223186Z",
     "iopub.status.idle": "2025-05-27T05:26:45.223461Z",
     "shell.execute_reply": "2025-05-27T05:26:45.223390Z",
     "shell.execute_reply.started": "2025-05-27T05:26:45.223382Z"
    }
   },
   "outputs": [],
   "source": [
    "# to save the plot\n",
    "plot_model(best, plot = 'class_report', save=True)"
   ]
  },
  {
   "attachments": {},
   "cell_type": "markdown",
   "id": "2fef279d",
   "metadata": {},
   "source": [
    "Some other parameters that you might find very useful in `plot_model` are:\n",
    "\n",
    "- fit_kwargs\n",
    "- plot_kwargs\n",
    "- groups\n",
    "- display_format\n",
    "\n",
    "You can check the docstring of the function for more info."
   ]
  },
  {
   "cell_type": "code",
   "execution_count": null,
   "id": "54b09b8e",
   "metadata": {
    "execution": {
     "iopub.status.busy": "2025-05-27T05:26:45.223760Z",
     "iopub.status.idle": "2025-05-27T05:26:45.224030Z",
     "shell.execute_reply": "2025-05-27T05:26:45.223959Z",
     "shell.execute_reply.started": "2025-05-27T05:26:45.223952Z"
    }
   },
   "outputs": [],
   "source": [
    "# help(plot_model)"
   ]
  },
  {
   "attachments": {},
   "cell_type": "markdown",
   "id": "b724ca46",
   "metadata": {},
   "source": [
    "## ✅ Interpret Model"
   ]
  },
  {
   "attachments": {},
   "cell_type": "markdown",
   "id": "52f8fb33",
   "metadata": {},
   "source": [
    "This function analyzes the predictions generated from a trained model. Most plots in this function are implemented based on the SHAP (Shapley Additive exPlanations). For more info on this, please see https://shap.readthedocs.io/en/latest/"
   ]
  },
  {
   "cell_type": "code",
   "execution_count": null,
   "id": "6b6891b7",
   "metadata": {
    "execution": {
     "iopub.status.busy": "2025-05-27T05:26:45.224336Z",
     "iopub.status.idle": "2025-05-27T05:26:45.224606Z",
     "shell.execute_reply": "2025-05-27T05:26:45.224534Z",
     "shell.execute_reply.started": "2025-05-27T05:26:45.224527Z"
    }
   },
   "outputs": [],
   "source": [
    "# train lightgbm model\n",
    "lightgbm = create_model('lightgbm')"
   ]
  },
  {
   "cell_type": "code",
   "execution_count": null,
   "id": "3198b571",
   "metadata": {
    "execution": {
     "iopub.status.busy": "2025-05-27T05:26:45.224909Z",
     "iopub.status.idle": "2025-05-27T05:26:45.225076Z",
     "shell.execute_reply": "2025-05-27T05:26:45.225005Z",
     "shell.execute_reply.started": "2025-05-27T05:26:45.224998Z"
    }
   },
   "outputs": [],
   "source": [
    "# interpret summary model\n",
    "interpret_model(lightgbm, plot = 'summary')"
   ]
  },
  {
   "cell_type": "code",
   "execution_count": null,
   "id": "824bafdc",
   "metadata": {
    "execution": {
     "iopub.status.busy": "2025-05-27T05:26:45.225486Z",
     "iopub.status.idle": "2025-05-27T05:26:45.225657Z",
     "shell.execute_reply": "2025-05-27T05:26:45.225581Z",
     "shell.execute_reply.started": "2025-05-27T05:26:45.225574Z"
    }
   },
   "outputs": [],
   "source": [
    "# reason plot for test set observation 1\n",
    "interpret_model(lightgbm, plot = 'reason', observation = 1)"
   ]
  },
  {
   "attachments": {},
   "cell_type": "markdown",
   "id": "ca7ce2b4",
   "metadata": {},
   "source": [
    "Some other parameters that you might find very useful in `interpret_model` are:\n",
    "\n",
    "- plot\n",
    "- feature\n",
    "- use_train_data\n",
    "- X_new_sample\n",
    "- y_new_sample\n",
    "- save\n",
    "\n",
    "You can check the docstring of the function for more info."
   ]
  },
  {
   "cell_type": "code",
   "execution_count": null,
   "id": "42595030",
   "metadata": {
    "execution": {
     "iopub.status.busy": "2025-05-27T05:26:45.226076Z",
     "iopub.status.idle": "2025-05-27T05:26:45.226247Z",
     "shell.execute_reply": "2025-05-27T05:26:45.226176Z",
     "shell.execute_reply.started": "2025-05-27T05:26:45.226168Z"
    }
   },
   "outputs": [],
   "source": [
    "# help(interpret_model)"
   ]
  },
  {
   "attachments": {},
   "cell_type": "markdown",
   "id": "6704f489",
   "metadata": {},
   "source": [
    "## ✅ Calibrate Model"
   ]
  },
  {
   "attachments": {},
   "cell_type": "markdown",
   "id": "d9713f0d",
   "metadata": {},
   "source": [
    "This function calibrates the probability of a given model using isotonic or logistic regression. The output of this function is a scoring grid with CV scores by fold. Metrics evaluated during CV can be accessed using the `get_metrics` function. Custom metrics can be added or removed using `add_metric` and `remove_metric` function."
   ]
  },
  {
   "cell_type": "code",
   "execution_count": null,
   "id": "74d47dde",
   "metadata": {
    "execution": {
     "iopub.status.busy": "2025-05-27T05:26:45.226678Z",
     "iopub.status.idle": "2025-05-27T05:26:45.226849Z",
     "shell.execute_reply": "2025-05-27T05:26:45.226777Z",
     "shell.execute_reply.started": "2025-05-27T05:26:45.226770Z"
    }
   },
   "outputs": [],
   "source": [
    "# check calbiration of default dt\n",
    "plot_model(dt, plot = 'calibration')"
   ]
  },
  {
   "cell_type": "code",
   "execution_count": null,
   "id": "3d5bb544",
   "metadata": {
    "execution": {
     "iopub.status.busy": "2025-05-27T05:26:45.227238Z",
     "iopub.status.idle": "2025-05-27T05:26:45.227480Z",
     "shell.execute_reply": "2025-05-27T05:26:45.227405Z",
     "shell.execute_reply.started": "2025-05-27T05:26:45.227398Z"
    }
   },
   "outputs": [],
   "source": [
    "# calibrate default dt\n",
    "calibrated_dt = calibrate_model(dt)"
   ]
  },
  {
   "cell_type": "code",
   "execution_count": null,
   "id": "4f40500f",
   "metadata": {
    "execution": {
     "iopub.status.busy": "2025-05-27T05:26:45.227921Z",
     "iopub.status.idle": "2025-05-27T05:26:45.228168Z",
     "shell.execute_reply": "2025-05-27T05:26:45.228094Z",
     "shell.execute_reply.started": "2025-05-27T05:26:45.228087Z"
    }
   },
   "outputs": [],
   "source": [
    "# check calbiration of calibrated dt\n",
    "plot_model(calibrated_dt, plot = 'calibration')"
   ]
  },
  {
   "attachments": {},
   "cell_type": "markdown",
   "id": "fee2a997",
   "metadata": {},
   "source": [
    "Some other parameters that you might find very useful in `calibrate_model` are:\n",
    "\n",
    "- calibrate_fold\n",
    "- fit_kwargs\n",
    "- method\n",
    "- return_train_score\n",
    "- groups\n",
    "\n",
    "You can check the docstring of the function for more info."
   ]
  },
  {
   "cell_type": "code",
   "execution_count": null,
   "id": "30a5cb89",
   "metadata": {
    "execution": {
     "iopub.status.busy": "2025-05-27T05:26:45.228480Z",
     "iopub.status.idle": "2025-05-27T05:26:45.228758Z",
     "shell.execute_reply": "2025-05-27T05:26:45.228680Z",
     "shell.execute_reply.started": "2025-05-27T05:26:45.228673Z"
    }
   },
   "outputs": [],
   "source": [
    "# help(calibrate_model)"
   ]
  },
  {
   "attachments": {},
   "cell_type": "markdown",
   "id": "9f57d0c8",
   "metadata": {},
   "source": [
    "## ✅ Get Leaderboard"
   ]
  },
  {
   "attachments": {},
   "cell_type": "markdown",
   "id": "ec63b67a",
   "metadata": {},
   "source": [
    "This function returns the leaderboard of all models trained in the current setup."
   ]
  },
  {
   "cell_type": "code",
   "execution_count": null,
   "id": "307a6e3c",
   "metadata": {
    "execution": {
     "iopub.status.busy": "2025-05-27T05:26:45.229112Z",
     "iopub.status.idle": "2025-05-27T05:26:45.229380Z",
     "shell.execute_reply": "2025-05-27T05:26:45.229292Z",
     "shell.execute_reply.started": "2025-05-27T05:26:45.229283Z"
    }
   },
   "outputs": [],
   "source": [
    "# get leaderboard\n",
    "lb = get_leaderboard()\n",
    "lb"
   ]
  },
  {
   "cell_type": "code",
   "execution_count": null,
   "id": "f8a8b060",
   "metadata": {
    "execution": {
     "iopub.status.busy": "2025-05-27T05:26:45.229760Z",
     "iopub.status.idle": "2025-05-27T05:26:45.230040Z",
     "shell.execute_reply": "2025-05-27T05:26:45.229941Z",
     "shell.execute_reply.started": "2025-05-27T05:26:45.229932Z"
    }
   },
   "outputs": [],
   "source": [
    "# select the best model based on F1\n",
    "lb.sort_values(by='F1', ascending=False)['Model'].iloc[0]"
   ]
  },
  {
   "attachments": {},
   "cell_type": "markdown",
   "id": "9ecf0bfa",
   "metadata": {},
   "source": [
    "Some other parameters that you might find very useful in `get_leaderboard` are:\n",
    "\n",
    "- finalize_models\n",
    "- fit_kwargs\n",
    "- model_only\n",
    "- groups\n",
    "\n",
    "You can check the docstring of the function for more info."
   ]
  },
  {
   "cell_type": "code",
   "execution_count": null,
   "id": "dc76f0a5",
   "metadata": {
    "execution": {
     "iopub.status.busy": "2025-05-27T05:26:45.230448Z",
     "iopub.status.idle": "2025-05-27T05:26:45.230756Z",
     "shell.execute_reply": "2025-05-27T05:26:45.230668Z",
     "shell.execute_reply.started": "2025-05-27T05:26:45.230659Z"
    }
   },
   "outputs": [],
   "source": [
    "# help(get_leaderboard)"
   ]
  },
  {
   "attachments": {},
   "cell_type": "markdown",
   "id": "94669c72",
   "metadata": {},
   "source": [
    "## ✅ AutoML\n",
    "This function returns the best model out of all trained models in the current setup based on the optimize parameter. Metrics evaluated can be accessed using the `get_metrics` function."
   ]
  },
  {
   "cell_type": "code",
   "execution_count": null,
   "id": "01532054",
   "metadata": {
    "execution": {
     "iopub.status.busy": "2025-05-27T05:26:45.231117Z",
     "iopub.status.idle": "2025-05-27T05:26:45.231396Z",
     "shell.execute_reply": "2025-05-27T05:26:45.231305Z",
     "shell.execute_reply.started": "2025-05-27T05:26:45.231296Z"
    }
   },
   "outputs": [],
   "source": [
    "automl()"
   ]
  },
  {
   "attachments": {},
   "cell_type": "markdown",
   "id": "248dcc7c",
   "metadata": {},
   "source": [
    "## ✅ Check Fairness"
   ]
  },
  {
   "attachments": {},
   "cell_type": "markdown",
   "id": "93813447",
   "metadata": {},
   "source": [
    "There are many approaches to conceptualizing fairness. The check_fairness function follows the approach known as group fairness, which asks: which groups of individuals are at risk for experiencing harm. `check_fairness` provides fairness-related metrics between different groups (also called sub-population)."
   ]
  },
  {
   "cell_type": "code",
   "execution_count": null,
   "id": "316e23cb",
   "metadata": {
    "execution": {
     "iopub.status.busy": "2025-05-27T05:26:45.231794Z",
     "iopub.status.idle": "2025-05-27T05:26:45.232070Z",
     "shell.execute_reply": "2025-05-27T05:26:45.231982Z",
     "shell.execute_reply.started": "2025-05-27T05:26:45.231973Z"
    }
   },
   "outputs": [],
   "source": [
    "# check fairness\n",
    "check_fairness(best, sensitive_features = ['Number of times pregnant'])"
   ]
  },
  {
   "attachments": {},
   "cell_type": "markdown",
   "id": "726b2986",
   "metadata": {},
   "source": [
    "## ✅ Dashboard\n",
    "The dashboard function generates the interactive dashboard for a trained model. The dashboard is implemented using `ExplainerDashboard`. For more information check out [Explainer Dashboard.](explainerdashboard.readthedocs.io)"
   ]
  },
  {
   "cell_type": "code",
   "execution_count": null,
   "id": "ca75507d",
   "metadata": {
    "execution": {
     "iopub.status.busy": "2025-05-27T05:26:45.232456Z",
     "iopub.status.idle": "2025-05-27T05:26:45.232760Z",
     "shell.execute_reply": "2025-05-27T05:26:45.232673Z",
     "shell.execute_reply.started": "2025-05-27T05:26:45.232664Z"
    }
   },
   "outputs": [],
   "source": [
    "# dashboard function\n",
    "dashboard(dt, display_format ='inline')"
   ]
  },
  {
   "attachments": {},
   "cell_type": "markdown",
   "id": "58fd3e5a",
   "metadata": {},
   "source": [
    "## ✅Create App\n",
    "This function creates a basic gradio app for inference."
   ]
  },
  {
   "cell_type": "code",
   "execution_count": null,
   "id": "5cf989d3",
   "metadata": {
    "execution": {
     "iopub.status.busy": "2025-05-27T05:26:45.233117Z",
     "iopub.status.idle": "2025-05-27T05:26:45.233389Z",
     "shell.execute_reply": "2025-05-27T05:26:45.233299Z",
     "shell.execute_reply.started": "2025-05-27T05:26:45.233290Z"
    }
   },
   "outputs": [],
   "source": [
    "# create gradio app\n",
    "create_app(best)"
   ]
  },
  {
   "attachments": {},
   "cell_type": "markdown",
   "id": "a2d8e21d",
   "metadata": {},
   "source": [
    "## ✅ Create API\n",
    "This function takes an input model and creates a POST API for inference."
   ]
  },
  {
   "cell_type": "code",
   "execution_count": null,
   "id": "978413c9",
   "metadata": {
    "execution": {
     "iopub.status.busy": "2025-05-27T05:26:45.233785Z",
     "iopub.status.idle": "2025-05-27T05:26:45.234084Z",
     "shell.execute_reply": "2025-05-27T05:26:45.233993Z",
     "shell.execute_reply.started": "2025-05-27T05:26:45.233984Z"
    }
   },
   "outputs": [],
   "source": [
    "# create api\n",
    "create_api(best, api_name = 'my_first_api')"
   ]
  },
  {
   "cell_type": "code",
   "execution_count": null,
   "id": "68e539aa",
   "metadata": {
    "execution": {
     "iopub.status.busy": "2025-05-27T05:26:45.234466Z",
     "iopub.status.idle": "2025-05-27T05:26:45.234711Z",
     "shell.execute_reply": "2025-05-27T05:26:45.234623Z",
     "shell.execute_reply.started": "2025-05-27T05:26:45.234614Z"
    }
   },
   "outputs": [],
   "source": [
    "# !python my_first_api.py"
   ]
  },
  {
   "cell_type": "code",
   "execution_count": null,
   "id": "a3de3327",
   "metadata": {
    "execution": {
     "iopub.status.busy": "2025-05-27T05:26:45.235132Z",
     "iopub.status.idle": "2025-05-27T05:26:45.235374Z",
     "shell.execute_reply": "2025-05-27T05:26:45.235286Z",
     "shell.execute_reply.started": "2025-05-27T05:26:45.235277Z"
    }
   },
   "outputs": [],
   "source": [
    "# check out the .py file created with this magic command\n",
    "# %load my_first_api.py"
   ]
  },
  {
   "attachments": {},
   "cell_type": "markdown",
   "id": "1023f7df",
   "metadata": {},
   "source": [
    "## ✅ Create Docker\n",
    "This function creates a `Dockerfile` and `requirements.txt` for productionalizing API end-point."
   ]
  },
  {
   "cell_type": "code",
   "execution_count": null,
   "id": "452ced14",
   "metadata": {
    "execution": {
     "iopub.status.busy": "2025-05-27T05:26:45.235790Z",
     "iopub.status.idle": "2025-05-27T05:26:45.236099Z",
     "shell.execute_reply": "2025-05-27T05:26:45.236011Z",
     "shell.execute_reply.started": "2025-05-27T05:26:45.236003Z"
    }
   },
   "outputs": [],
   "source": [
    "create_docker('my_first_api')"
   ]
  },
  {
   "cell_type": "code",
   "execution_count": null,
   "id": "301e1fa5",
   "metadata": {
    "execution": {
     "iopub.status.busy": "2025-05-27T05:26:45.236461Z",
     "iopub.status.idle": "2025-05-27T05:26:45.236774Z",
     "shell.execute_reply": "2025-05-27T05:26:45.236687Z",
     "shell.execute_reply.started": "2025-05-27T05:26:45.236678Z"
    }
   },
   "outputs": [],
   "source": [
    "# check out the DockerFile file created with this magic command\n",
    "# %load DockerFile"
   ]
  },
  {
   "cell_type": "code",
   "execution_count": null,
   "id": "ca1e9ef7",
   "metadata": {
    "execution": {
     "iopub.status.busy": "2025-05-27T05:26:45.237081Z",
     "iopub.status.idle": "2025-05-27T05:26:45.237335Z",
     "shell.execute_reply": "2025-05-27T05:26:45.237254Z",
     "shell.execute_reply.started": "2025-05-27T05:26:45.237247Z"
    }
   },
   "outputs": [],
   "source": [
    "# check out the requirements file created with this magic command\n",
    "# %load requirements.txt"
   ]
  },
  {
   "attachments": {},
   "cell_type": "markdown",
   "id": "e27c212b",
   "metadata": {},
   "source": [
    "## ✅ Finalize Model\n",
    "This function trains a given model on the entire dataset including the hold-out set."
   ]
  },
  {
   "cell_type": "code",
   "execution_count": null,
   "id": "65225684",
   "metadata": {
    "execution": {
     "iopub.status.busy": "2025-05-27T05:26:45.237723Z",
     "iopub.status.idle": "2025-05-27T05:26:45.237944Z",
     "shell.execute_reply": "2025-05-27T05:26:45.237866Z",
     "shell.execute_reply.started": "2025-05-27T05:26:45.237859Z"
    }
   },
   "outputs": [],
   "source": [
    "final_best = finalize_model(best)"
   ]
  },
  {
   "cell_type": "code",
   "execution_count": null,
   "id": "80d17fec",
   "metadata": {
    "execution": {
     "iopub.status.busy": "2025-05-27T05:26:45.238342Z",
     "iopub.status.idle": "2025-05-27T05:26:45.238595Z",
     "shell.execute_reply": "2025-05-27T05:26:45.238518Z",
     "shell.execute_reply.started": "2025-05-27T05:26:45.238511Z"
    }
   },
   "outputs": [],
   "source": [
    "final_best"
   ]
  },
  {
   "attachments": {},
   "cell_type": "markdown",
   "id": "b4693f88",
   "metadata": {},
   "source": [
    "## ✅ Convert Model\n",
    "This function transpiles the trained machine learning model's decision function in different programming languages such as Python, C, Java, Go, C#, etc. It is very useful if you want to deploy models into environments where you can't install your normal Python stack to support model inference."
   ]
  },
  {
   "cell_type": "code",
   "execution_count": null,
   "id": "dbe0e9fe",
   "metadata": {
    "execution": {
     "iopub.status.busy": "2025-05-27T05:26:45.238939Z",
     "iopub.status.idle": "2025-05-27T05:26:45.239159Z",
     "shell.execute_reply": "2025-05-27T05:26:45.239086Z",
     "shell.execute_reply.started": "2025-05-27T05:26:45.239079Z"
    }
   },
   "outputs": [],
   "source": [
    "# transpiles learned function to java\n",
    "print(convert_model(best, language = 'java'))"
   ]
  },
  {
   "attachments": {},
   "cell_type": "markdown",
   "id": "ed00202c",
   "metadata": {},
   "source": [
    "## ✅ Deploy Model\n",
    "This function deploys the entire ML pipeline on the cloud.\n",
    "\n",
    "**AWS:**  When deploying model on AWS S3, environment variables must be configured using the command-line interface. To configure AWS environment variables, type `aws configure` in terminal. The following information is required which can be generated using the Identity and Access Management (IAM) portal of your amazon console account:\n",
    "\n",
    "- AWS Access Key ID\n",
    "- AWS Secret Key Access\n",
    "- Default Region Name (can be seen under Global settings on your AWS console)\n",
    "- Default output format (must be left blank)\n",
    "\n",
    "**GCP:** To deploy a model on Google Cloud Platform ('gcp'), the project must be created using the command-line or GCP console. Once the project is created, you must create a service account and download the service account key as a JSON file to set environment variables in your local environment. Learn more about it: https://cloud.google.com/docs/authentication/production\n",
    "\n",
    "**Azure:** To deploy a model on Microsoft Azure ('azure'), environment variables for the connection string must be set in your local environment. Go to settings of storage account on Azure portal to access the connection string required.\n",
    "AZURE_STORAGE_CONNECTION_STRING (required as environment variable)\n",
    "Learn more about it: https://docs.microsoft.com/en-us/azure/storage/blobs/storage-quickstart-blobs-python?toc=%2Fpython%2Fazure%2FTOC.json"
   ]
  },
  {
   "cell_type": "code",
   "execution_count": null,
   "id": "40b20a18",
   "metadata": {
    "execution": {
     "iopub.status.busy": "2025-05-27T05:26:45.239539Z",
     "iopub.status.idle": "2025-05-27T05:26:45.239710Z",
     "shell.execute_reply": "2025-05-27T05:26:45.239637Z",
     "shell.execute_reply.started": "2025-05-27T05:26:45.239630Z"
    }
   },
   "outputs": [],
   "source": [
    "# deploy model on aws s3\n",
    "# deploy_model(best, model_name = 'my_first_platform_on_aws',\n",
    "#             platform = 'aws', authentication = {'bucket' : 'pycaret-test'})"
   ]
  },
  {
   "cell_type": "code",
   "execution_count": null,
   "id": "9e236516",
   "metadata": {
    "execution": {
     "iopub.status.busy": "2025-05-27T05:26:45.240126Z",
     "iopub.status.idle": "2025-05-27T05:26:45.240295Z",
     "shell.execute_reply": "2025-05-27T05:26:45.240223Z",
     "shell.execute_reply.started": "2025-05-27T05:26:45.240216Z"
    }
   },
   "outputs": [],
   "source": [
    "# load model from aws s3\n",
    "# loaded_from_aws = load_model(model_name = 'my_first_platform_on_aws', platform = 'aws',\n",
    "#                              authentication = {'bucket' : 'pycaret-test'})\n",
    "\n",
    "# loaded_from_aws"
   ]
  },
  {
   "attachments": {},
   "cell_type": "markdown",
   "id": "e169ae86",
   "metadata": {},
   "source": [
    "## ✅ Save / Load Model\n",
    "This function saves the transformation pipeline and a trained model object into the current working directory as a pickle file for later use."
   ]
  },
  {
   "cell_type": "code",
   "execution_count": null,
   "id": "bc5cf24a",
   "metadata": {
    "execution": {
     "iopub.status.busy": "2025-05-27T05:26:45.240696Z",
     "iopub.status.idle": "2025-05-27T05:26:45.240954Z",
     "shell.execute_reply": "2025-05-27T05:26:45.240878Z",
     "shell.execute_reply.started": "2025-05-27T05:26:45.240871Z"
    }
   },
   "outputs": [],
   "source": [
    "# save model\n",
    "save_model(best, 'my_first_model')"
   ]
  },
  {
   "cell_type": "code",
   "execution_count": null,
   "id": "e8478d34",
   "metadata": {
    "execution": {
     "iopub.status.busy": "2025-05-27T05:26:45.241276Z",
     "iopub.status.idle": "2025-05-27T05:26:45.241517Z",
     "shell.execute_reply": "2025-05-27T05:26:45.241445Z",
     "shell.execute_reply.started": "2025-05-27T05:26:45.241437Z"
    }
   },
   "outputs": [],
   "source": [
    "# load model\n",
    "loaded_from_disk = load_model('my_first_model')\n",
    "loaded_from_disk"
   ]
  },
  {
   "attachments": {},
   "cell_type": "markdown",
   "id": "de5eee8c",
   "metadata": {},
   "source": [
    "## ✅ Save / Load Experiment\n",
    "This function saves all the experiment variables on disk, allowing to later resume without rerunning the setup function."
   ]
  },
  {
   "cell_type": "code",
   "execution_count": null,
   "id": "6a3c61b6",
   "metadata": {
    "execution": {
     "iopub.status.busy": "2025-05-27T05:26:45.241858Z",
     "iopub.status.idle": "2025-05-27T05:26:45.242150Z",
     "shell.execute_reply": "2025-05-27T05:26:45.242071Z",
     "shell.execute_reply.started": "2025-05-27T05:26:45.242064Z"
    }
   },
   "outputs": [],
   "source": [
    "# save experiment\n",
    "save_experiment('my_experiment')"
   ]
  },
  {
   "cell_type": "code",
   "execution_count": null,
   "id": "83252c09",
   "metadata": {
    "execution": {
     "iopub.status.busy": "2025-05-27T05:26:45.242458Z",
     "iopub.status.idle": "2025-05-27T05:26:45.242735Z",
     "shell.execute_reply": "2025-05-27T05:26:45.242662Z",
     "shell.execute_reply.started": "2025-05-27T05:26:45.242655Z"
    }
   },
   "outputs": [],
   "source": [
    "# load experiment from disk\n",
    "exp_from_disk = load_experiment('my_experiment', data=data)"
   ]
  },
  {
   "cell_type": "code",
   "execution_count": null,
   "id": "ac030246",
   "metadata": {},
   "outputs": [],
   "source": []
  },
  {
   "cell_type": "code",
   "execution_count": null,
   "id": "335cde8a-b05d-4078-8160-0e760658a872",
   "metadata": {},
   "outputs": [],
   "source": []
  }
 ],
 "metadata": {
  "kernelspec": {
   "display_name": "Python (pycaret)",
   "language": "python",
   "name": "pycaret"
  },
  "language_info": {
   "codemirror_mode": {
    "name": "ipython",
    "version": 3
   },
   "file_extension": ".py",
   "mimetype": "text/x-python",
   "name": "python",
   "nbconvert_exporter": "python",
   "pygments_lexer": "ipython3",
   "version": "3.10.17"
  }
 },
 "nbformat": 4,
 "nbformat_minor": 5
}
