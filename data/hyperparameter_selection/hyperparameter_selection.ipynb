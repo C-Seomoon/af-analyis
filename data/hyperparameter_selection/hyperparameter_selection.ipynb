{
 "cells": [
  {
   "cell_type": "code",
   "execution_count": 1,
   "id": "1da73acc-0b41-4194-85b9-b1e8b0a23df8",
   "metadata": {
    "execution": {
     "iopub.execute_input": "2025-05-11T07:11:54.139154Z",
     "iopub.status.busy": "2025-05-11T07:11:54.138387Z",
     "iopub.status.idle": "2025-05-11T07:12:09.129738Z",
     "shell.execute_reply": "2025-05-11T07:12:09.129132Z",
     "shell.execute_reply.started": "2025-05-11T07:11:54.139082Z"
    }
   },
   "outputs": [
    {
     "data": {
      "text/html": [
       "<div>\n",
       "<style scoped>\n",
       "    .dataframe tbody tr th:only-of-type {\n",
       "        vertical-align: middle;\n",
       "    }\n",
       "\n",
       "    .dataframe tbody tr th {\n",
       "        vertical-align: top;\n",
       "    }\n",
       "\n",
       "    .dataframe thead th {\n",
       "        text-align: right;\n",
       "    }\n",
       "</style>\n",
       "<table border=\"1\" class=\"dataframe\">\n",
       "  <thead>\n",
       "    <tr style=\"text-align: right;\">\n",
       "      <th></th>\n",
       "      <th>n_estimators</th>\n",
       "      <th>min_samples_split</th>\n",
       "      <th>min_samples_leaf</th>\n",
       "      <th>max_features</th>\n",
       "      <th>max_depth</th>\n",
       "      <th>class_weight</th>\n",
       "    </tr>\n",
       "  </thead>\n",
       "  <tbody>\n",
       "    <tr>\n",
       "      <th>Fold 1</th>\n",
       "      <td>300</td>\n",
       "      <td>2</td>\n",
       "      <td>2</td>\n",
       "      <td>log2</td>\n",
       "      <td>40</td>\n",
       "      <td>balanced</td>\n",
       "    </tr>\n",
       "    <tr>\n",
       "      <th>Fold 2</th>\n",
       "      <td>100</td>\n",
       "      <td>2</td>\n",
       "      <td>1</td>\n",
       "      <td>log2</td>\n",
       "      <td>40</td>\n",
       "      <td>None</td>\n",
       "    </tr>\n",
       "    <tr>\n",
       "      <th>Fold 3</th>\n",
       "      <td>100</td>\n",
       "      <td>5</td>\n",
       "      <td>2</td>\n",
       "      <td>log2</td>\n",
       "      <td>50</td>\n",
       "      <td>balanced_subsample</td>\n",
       "    </tr>\n",
       "    <tr>\n",
       "      <th>Fold 4</th>\n",
       "      <td>300</td>\n",
       "      <td>5</td>\n",
       "      <td>2</td>\n",
       "      <td>log2</td>\n",
       "      <td>40</td>\n",
       "      <td>None</td>\n",
       "    </tr>\n",
       "    <tr>\n",
       "      <th>Fold 5</th>\n",
       "      <td>200</td>\n",
       "      <td>5</td>\n",
       "      <td>1</td>\n",
       "      <td>log2</td>\n",
       "      <td>30</td>\n",
       "      <td>balanced_subsample</td>\n",
       "    </tr>\n",
       "  </tbody>\n",
       "</table>\n",
       "</div>"
      ],
      "text/plain": [
       "       n_estimators min_samples_split min_samples_leaf max_features max_depth  \\\n",
       "Fold 1          300                 2                2         log2        40   \n",
       "Fold 2          100                 2                1         log2        40   \n",
       "Fold 3          100                 5                2         log2        50   \n",
       "Fold 4          300                 5                2         log2        40   \n",
       "Fold 5          200                 5                1         log2        30   \n",
       "\n",
       "              class_weight  \n",
       "Fold 1            balanced  \n",
       "Fold 2                None  \n",
       "Fold 3  balanced_subsample  \n",
       "Fold 4                None  \n",
       "Fold 5  balanced_subsample  "
      ]
     },
     "execution_count": 1,
     "metadata": {},
     "output_type": "execute_result"
    }
   ],
   "source": [
    "import pandas as pd\n",
    "import matplotlib.pyplot as plt\n",
    "import numpy as np\n",
    "\n",
    "# 각 fold의 하이퍼파라미터\n",
    "rf_params_by_fold = {\n",
    "    'Fold 1': {'n_estimators': 300, 'min_samples_split': 2, 'min_samples_leaf': 2, 'max_features': 'log2', 'max_depth': 40, 'class_weight': 'balanced'},\n",
    "    'Fold 2': {'n_estimators': 100, 'min_samples_split': 2, 'min_samples_leaf': 1, 'max_features': 'log2', 'max_depth': 40, 'class_weight': None},\n",
    "    'Fold 3': {'n_estimators': 100, 'min_samples_split': 5, 'min_samples_leaf': 2, 'max_features': 'log2', 'max_depth': 50, 'class_weight': 'balanced_subsample'},\n",
    "    'Fold 4': {'n_estimators': 300, 'min_samples_split': 5, 'min_samples_leaf': 2, 'max_features': 'log2', 'max_depth': 40, 'class_weight': None},\n",
    "    'Fold 5': {'n_estimators': 200, 'min_samples_split': 5, 'min_samples_leaf': 1, 'max_features': 'log2', 'max_depth': 30, 'class_weight': 'balanced_subsample'}\n",
    "}\n",
    "\n",
    "# 데이터프레임으로 변환\n",
    "rf_params_df = pd.DataFrame(rf_params_by_fold).T\n",
    "rf_params_df"
   ]
  },
  {
   "cell_type": "code",
   "execution_count": 5,
   "id": "ccb7f793-5969-4a19-8028-469cef087539",
   "metadata": {
    "execution": {
     "iopub.execute_input": "2025-05-11T07:13:33.842946Z",
     "iopub.status.busy": "2025-05-11T07:13:33.841913Z",
     "iopub.status.idle": "2025-05-11T07:13:33.849400Z",
     "shell.execute_reply": "2025-05-11T07:13:33.848189Z",
     "shell.execute_reply.started": "2025-05-11T07:13:33.842889Z"
    }
   },
   "outputs": [],
   "source": [
    "RF_FINAL_PARAMS = {\n",
    "    'n_estimators': 200,        # 중간값 선택\n",
    "    'min_samples_split': 5,     # 가장 많이 선택됨 (3/5)\n",
    "    'min_samples_leaf': 2,      # 가장 많이 선택됨 (3/5)\n",
    "    'max_features': 'log2',     # 모든 fold에서 일관되게 선택됨\n",
    "    'max_depth': 40,            # 가장 많이 선택됨 (3/5)\n",
    "    'class_weight': 'balanced_subsample'  # 가장 많이 선택된 유효값 (2/5)\n",
    "}"
   ]
  },
  {
   "cell_type": "code",
   "execution_count": 6,
   "id": "f5509fa1-e549-4cfb-bdf1-54f55bf4235d",
   "metadata": {
    "execution": {
     "iopub.execute_input": "2025-05-11T07:13:35.928973Z",
     "iopub.status.busy": "2025-05-11T07:13:35.928106Z",
     "iopub.status.idle": "2025-05-11T07:13:35.949603Z",
     "shell.execute_reply": "2025-05-11T07:13:35.948828Z",
     "shell.execute_reply.started": "2025-05-11T07:13:35.928909Z"
    }
   },
   "outputs": [
    {
     "data": {
      "text/html": [
       "<div>\n",
       "<style scoped>\n",
       "    .dataframe tbody tr th:only-of-type {\n",
       "        vertical-align: middle;\n",
       "    }\n",
       "\n",
       "    .dataframe tbody tr th {\n",
       "        vertical-align: top;\n",
       "    }\n",
       "\n",
       "    .dataframe thead th {\n",
       "        text-align: right;\n",
       "    }\n",
       "</style>\n",
       "<table border=\"1\" class=\"dataframe\">\n",
       "  <thead>\n",
       "    <tr style=\"text-align: right;\">\n",
       "      <th></th>\n",
       "      <th>solver</th>\n",
       "      <th>penalty</th>\n",
       "      <th>max_iter</th>\n",
       "      <th>class_weight</th>\n",
       "      <th>C</th>\n",
       "    </tr>\n",
       "  </thead>\n",
       "  <tbody>\n",
       "    <tr>\n",
       "      <th>Fold 1</th>\n",
       "      <td>saga</td>\n",
       "      <td>elasticnet</td>\n",
       "      <td>2000</td>\n",
       "      <td>None</td>\n",
       "      <td>0.000774</td>\n",
       "    </tr>\n",
       "    <tr>\n",
       "      <th>Fold 2</th>\n",
       "      <td>saga</td>\n",
       "      <td>l1</td>\n",
       "      <td>2000</td>\n",
       "      <td>None</td>\n",
       "      <td>0.005995</td>\n",
       "    </tr>\n",
       "    <tr>\n",
       "      <th>Fold 3</th>\n",
       "      <td>saga</td>\n",
       "      <td>elasticnet</td>\n",
       "      <td>1000</td>\n",
       "      <td>None</td>\n",
       "      <td>0.046416</td>\n",
       "    </tr>\n",
       "    <tr>\n",
       "      <th>Fold 4</th>\n",
       "      <td>liblinear</td>\n",
       "      <td>l1</td>\n",
       "      <td>NaN</td>\n",
       "      <td>None</td>\n",
       "      <td>0.005995</td>\n",
       "    </tr>\n",
       "    <tr>\n",
       "      <th>Fold 5</th>\n",
       "      <td>liblinear</td>\n",
       "      <td>l1</td>\n",
       "      <td>NaN</td>\n",
       "      <td>None</td>\n",
       "      <td>0.005995</td>\n",
       "    </tr>\n",
       "  </tbody>\n",
       "</table>\n",
       "</div>"
      ],
      "text/plain": [
       "           solver     penalty max_iter class_weight         C\n",
       "Fold 1       saga  elasticnet     2000         None  0.000774\n",
       "Fold 2       saga          l1     2000         None  0.005995\n",
       "Fold 3       saga  elasticnet     1000         None  0.046416\n",
       "Fold 4  liblinear          l1      NaN         None  0.005995\n",
       "Fold 5  liblinear          l1      NaN         None  0.005995"
      ]
     },
     "execution_count": 6,
     "metadata": {},
     "output_type": "execute_result"
    }
   ],
   "source": [
    "# 각 fold의 하이퍼파라미터\n",
    "lr_params_by_fold = {\n",
    "    'Fold 1': {'solver': 'saga', 'penalty': 'elasticnet', 'max_iter': 2000, 'l1_ratio': 0.5, 'class_weight': None, 'C': 0.000774},\n",
    "    'Fold 2': {'solver': 'saga', 'penalty': 'l1', 'max_iter': 2000, 'class_weight': None, 'C': 0.005995},\n",
    "    'Fold 3': {'solver': 'saga', 'penalty': 'elasticnet', 'max_iter': 1000, 'l1_ratio': 0.9, 'class_weight': None, 'C': 0.046416},\n",
    "    'Fold 4': {'solver': 'liblinear', 'penalty': 'l1', 'class_weight': None, 'C': 0.005995},\n",
    "    'Fold 5': {'solver': 'liblinear', 'penalty': 'l1', 'class_weight': None, 'C': 0.005995}\n",
    "}\n",
    "\n",
    "# 데이터프레임으로 변환 (l1_ratio는 일부 fold에만 있으므로 제외)\n",
    "lr_clean_params = {}\n",
    "for fold, params in lr_params_by_fold.items():\n",
    "    lr_clean_params[fold] = {k: v for k, v in params.items() if k != 'l1_ratio'}\n",
    "    \n",
    "lr_params_df = pd.DataFrame(lr_clean_params).T\n",
    "lr_params_df"
   ]
  },
  {
   "cell_type": "code",
   "execution_count": 7,
   "id": "8c3124af-e154-431e-8950-46dbece3f1d4",
   "metadata": {
    "execution": {
     "iopub.execute_input": "2025-05-11T07:14:32.961144Z",
     "iopub.status.busy": "2025-05-11T07:14:32.960280Z",
     "iopub.status.idle": "2025-05-11T07:14:33.598612Z",
     "shell.execute_reply": "2025-05-11T07:14:33.597597Z",
     "shell.execute_reply.started": "2025-05-11T07:14:32.961081Z"
    }
   },
   "outputs": [],
   "source": [
    "# 각 하이퍼파라미터의 빈도 분석\n",
    "lr_param_freq = {}\n",
    "\n",
    "for param in ['solver', 'penalty', 'max_iter', 'class_weight', 'C']:\n",
    "    if param == 'max_iter':  # NaN 값 처리\n",
    "        values = lr_params_df[param].dropna().value_counts().to_dict()\n",
    "    else:\n",
    "        values = lr_params_df[param].value_counts().to_dict()\n",
    "    lr_param_freq[param] = values\n",
    "\n",
    "# 시각화\n",
    "fig, axes = plt.subplots(2, 3, figsize=(15, 10))\n",
    "axes = axes.flatten()\n",
    "\n",
    "for i, (param, freq) in enumerate(lr_param_freq.items()):\n",
    "    if i < len(axes):\n",
    "        axes[i].bar(freq.keys(), freq.values())\n",
    "        axes[i].set_title(f'Frequency of {param}')\n",
    "        axes[i].tick_params(axis='x', rotation=45)\n",
    "    \n",
    "plt.tight_layout()\n",
    "plt.savefig(\"lr_hyperparameter_frequency.png\")\n",
    "plt.close()"
   ]
  },
  {
   "cell_type": "code",
   "execution_count": 8,
   "id": "ced6d3a5-84e2-470c-bbf6-5b8e871ceab1",
   "metadata": {
    "execution": {
     "iopub.execute_input": "2025-05-11T07:15:11.432299Z",
     "iopub.status.busy": "2025-05-11T07:15:11.431510Z",
     "iopub.status.idle": "2025-05-11T07:15:11.439500Z",
     "shell.execute_reply": "2025-05-11T07:15:11.438299Z",
     "shell.execute_reply.started": "2025-05-11T07:15:11.432247Z"
    }
   },
   "outputs": [],
   "source": [
    "LR_FINAL_PARAMS = {\n",
    "    'C': 0.005995,         # 가장 많이 선택됨 (3/5)\n",
    "    'penalty': 'l1',       # 가장 많이 선택됨 (3/5)\n",
    "    'solver': 'liblinear', # l1 penalty와 호환되는 solver 중 가장 많이 선택됨\n",
    "    'max_iter': 2000,      # 가장 많이 선택됨\n",
    "    'class_weight': None   # 모든 fold에서 선택됨\n",
    "}"
   ]
  },
  {
   "cell_type": "code",
   "execution_count": null,
   "id": "36c489e1-5f4b-4318-a288-4fafb0e182b8",
   "metadata": {},
   "outputs": [],
   "source": []
  }
 ],
 "metadata": {
  "kernelspec": {
   "display_name": "Python [conda env:Abnb]",
   "language": "python",
   "name": "conda-env-Abnb-py"
  },
  "language_info": {
   "codemirror_mode": {
    "name": "ipython",
    "version": 3
   },
   "file_extension": ".py",
   "mimetype": "text/x-python",
   "name": "python",
   "nbconvert_exporter": "python",
   "pygments_lexer": "ipython3",
   "version": "3.10.15"
  }
 },
 "nbformat": 4,
 "nbformat_minor": 5
}
