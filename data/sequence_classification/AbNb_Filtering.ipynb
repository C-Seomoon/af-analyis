{
 "cells": [
  {
   "cell_type": "code",
   "execution_count": 1,
   "id": "89116f73-6e09-4399-8330-cfa0d9f562de",
   "metadata": {
    "execution": {
     "iopub.execute_input": "2025-05-20T17:16:37.769394Z",
     "iopub.status.busy": "2025-05-20T17:16:37.769047Z",
     "iopub.status.idle": "2025-05-20T17:16:38.586941Z",
     "shell.execute_reply": "2025-05-20T17:16:38.585164Z",
     "shell.execute_reply.started": "2025-05-20T17:16:37.769358Z"
    }
   },
   "outputs": [],
   "source": [
    "import pandas as pd\n",
    "import numpy as np\n",
    "import matplotlib.pyplot as plt"
   ]
  },
  {
   "cell_type": "markdown",
   "id": "df65ddeb-64e8-4bc4-8902-78ea3949ea4d",
   "metadata": {
    "execution": {
     "iopub.execute_input": "2025-05-20T17:23:42.573082Z",
     "iopub.status.busy": "2025-05-20T17:23:42.572412Z",
     "iopub.status.idle": "2025-05-20T17:23:42.583375Z",
     "shell.execute_reply": "2025-05-20T17:23:42.581497Z",
     "shell.execute_reply.started": "2025-05-20T17:23:42.573022Z"
    }
   },
   "source": [
    "전체 118개(appl/af_analysis-0.1.4/data/sequence_classification/AF3_Benchmark_Meta.xlsx)"
   ]
  },
  {
   "cell_type": "markdown",
   "id": "cbf5328a-3c8c-40ca-913d-9aae684f6c6d",
   "metadata": {},
   "source": [
    "항원서열 길이 50미만 제거"
   ]
  },
  {
   "cell_type": "markdown",
   "id": "ecc5ef32-207a-45fe-bc5f-dcbd702225be",
   "metadata": {},
   "source": [
    "항체 서열 결합(H-L connect) 후 CD-HIT으로 sequence identity 일치하는 경우 (1.0) 제거"
   ]
  },
  {
   "cell_type": "code",
   "execution_count": 6,
   "id": "37c68634-c43f-43e3-90e0-b3ee3ab62414",
   "metadata": {
    "execution": {
     "iopub.execute_input": "2025-05-20T17:18:45.718881Z",
     "iopub.status.busy": "2025-05-20T17:18:45.718188Z",
     "iopub.status.idle": "2025-05-20T17:18:45.734058Z",
     "shell.execute_reply": "2025-05-20T17:18:45.732273Z",
     "shell.execute_reply.started": "2025-05-20T17:18:45.718822Z"
    }
   },
   "outputs": [],
   "source": [
    "df=pd.read_csv('filtered_2_AbNb_Ab_redundancy(79).tsv',sep='\\t')"
   ]
  },
  {
   "cell_type": "code",
   "execution_count": 7,
   "id": "f2e4cd5e-3bec-4088-9cdf-67bd003a333e",
   "metadata": {
    "execution": {
     "iopub.execute_input": "2025-05-20T17:18:46.283811Z",
     "iopub.status.busy": "2025-05-20T17:18:46.283086Z",
     "iopub.status.idle": "2025-05-20T17:18:46.308817Z",
     "shell.execute_reply": "2025-05-20T17:18:46.307258Z",
     "shell.execute_reply.started": "2025-05-20T17:18:46.283755Z"
    }
   },
   "outputs": [
    {
     "name": "stdout",
     "output_type": "stream",
     "text": [
      "'A_chain' 컬럼에서 중복된 값이 있는 row:\n"
     ]
    },
    {
     "data": {
      "text/html": [
       "<div>\n",
       "<style scoped>\n",
       "    .dataframe tbody tr th:only-of-type {\n",
       "        vertical-align: middle;\n",
       "    }\n",
       "\n",
       "    .dataframe tbody tr th {\n",
       "        vertical-align: top;\n",
       "    }\n",
       "\n",
       "    .dataframe thead th {\n",
       "        text-align: right;\n",
       "    }\n",
       "</style>\n",
       "<table border=\"1\" class=\"dataframe\">\n",
       "  <thead>\n",
       "    <tr style=\"text-align: right;\">\n",
       "      <th></th>\n",
       "      <th>index</th>\n",
       "      <th>PDB</th>\n",
       "      <th>H_chain</th>\n",
       "      <th>L_chain</th>\n",
       "      <th>A_chain</th>\n",
       "      <th>H_chain_length</th>\n",
       "      <th>L_chain_length</th>\n",
       "      <th>A_chain_length</th>\n",
       "    </tr>\n",
       "  </thead>\n",
       "  <tbody>\n",
       "    <tr>\n",
       "      <th>39</th>\n",
       "      <td>47</td>\n",
       "      <td>7t7b</td>\n",
       "      <td>QVQLQQSGAEVKKPGASVKLSCKASGYTFSVFPIHWVRQAPGQRLE...</td>\n",
       "      <td>DIQVTQSPSSLSASVGDRVTITCQASQDIKNSLNWYQQKPGKAPKL...</td>\n",
       "      <td>NLCPFGEVFNATRFASVYAWNRKRISNCVADYSVLYNSASFSTFKC...</td>\n",
       "      <td>124</td>\n",
       "      <td>109</td>\n",
       "      <td>194</td>\n",
       "    </tr>\n",
       "    <tr>\n",
       "      <th>76</th>\n",
       "      <td>114</td>\n",
       "      <td>7tp3</td>\n",
       "      <td>EVRLVESGGGLVKPGGSLRLSCVASGFTFSSYEMHWVRQAPGKGLE...</td>\n",
       "      <td>DIVMTQSPDTLSLSPGETATLSCRASQSVSSYVAWYQQKPEQPPRL...</td>\n",
       "      <td>NLCPFGEVFNATRFASVYAWNRKRISNCVADYSVLYNSASFSTFKC...</td>\n",
       "      <td>124</td>\n",
       "      <td>110</td>\n",
       "      <td>194</td>\n",
       "    </tr>\n",
       "    <tr>\n",
       "      <th>60</th>\n",
       "      <td>86</td>\n",
       "      <td>7tp4</td>\n",
       "      <td>EVQLAESGGGLVKPGGSLRLSCVASGFTFSSNEMHWVRQAPGKGLE...</td>\n",
       "      <td>QAALTQPRSVSGSPGQSVTISCTGTSSDIGGYNYVSWYQQHPGTAP...</td>\n",
       "      <td>NLCPFGEVFNATRFASVYAWNRKRISNCVADYSVLYNSASFSTFKC...</td>\n",
       "      <td>124</td>\n",
       "      <td>111</td>\n",
       "      <td>194</td>\n",
       "    </tr>\n",
       "    <tr>\n",
       "      <th>73</th>\n",
       "      <td>106</td>\n",
       "      <td>7u2d</td>\n",
       "      <td>EVQLVESGGGLVKPGGSLRLSCAASGFTFSSYYMNWVRQAPGKGLE...</td>\n",
       "      <td>QPVLTQPPSVSGAPGQRITISCTGSSSNIGAGYDVHWYQQLPGTAP...</td>\n",
       "      <td>NLCPFGEVFNATRFASVYAWNRKRISNCVADYSVLYNSASFSTFKC...</td>\n",
       "      <td>124</td>\n",
       "      <td>115</td>\n",
       "      <td>194</td>\n",
       "    </tr>\n",
       "    <tr>\n",
       "      <th>61</th>\n",
       "      <td>88</td>\n",
       "      <td>7wrl</td>\n",
       "      <td>QVQLVQSGAEVKKPGSSVKVSCKASGDIYSTYASSWVRQAPGQGLE...</td>\n",
       "      <td>SALTQPASVSGSPGQSITISCTGTSSDVGGYNYVSWYQQHPDKAPK...</td>\n",
       "      <td>NLCPFDEVFNATRFASVYAWNRKRISNCVADYSVLYNLAPFFTFKC...</td>\n",
       "      <td>124</td>\n",
       "      <td>105</td>\n",
       "      <td>187</td>\n",
       "    </tr>\n",
       "    <tr>\n",
       "      <th>16</th>\n",
       "      <td>20</td>\n",
       "      <td>7wsc</td>\n",
       "      <td>QVQLVESGGGVVQPGRSLRLSCAASGFIFSRYDIHWVRQTPGKGLE...</td>\n",
       "      <td>VVMTQSPLSLPVTPGEPASISCRSSQSLLQSNGYNYLDWYLQKPGQ...</td>\n",
       "      <td>NLCPFDEVFNATRFASVYAWNRKRISNCVADYSVLYNLAPFFTFKC...</td>\n",
       "      <td>124</td>\n",
       "      <td>108</td>\n",
       "      <td>187</td>\n",
       "    </tr>\n",
       "    <tr>\n",
       "      <th>70</th>\n",
       "      <td>103</td>\n",
       "      <td>7wtf</td>\n",
       "      <td>VQLVQSGAEVKKPGSSVKVSCKASGGTFSNYALSWVRQAPGQGLEW...</td>\n",
       "      <td>DIQMTQSPSSLSASVGDRVTITCRASQAIRNDLGWYQQKPGKAPKC...</td>\n",
       "      <td>QCVNLTTRTQLPPAYTNSFTRGVYYPDKVFRSSVLHSTQDLFLPFF...</td>\n",
       "      <td>120</td>\n",
       "      <td>104</td>\n",
       "      <td>1098</td>\n",
       "    </tr>\n",
       "    <tr>\n",
       "      <th>64</th>\n",
       "      <td>93</td>\n",
       "      <td>7wti</td>\n",
       "      <td>ITLKESGPTLVKPTQTLTLTCAFSGFSLNTGGAGVGWIRQPPGKAL...</td>\n",
       "      <td>ALTQPASVSGSPGQSITVSCTGTSSDLGNFQYVSWYQHHPGKAPKL...</td>\n",
       "      <td>QCVNLTTRTQLPPAYTNSFTRGVYYPDKVFRSSVLHSTQDLFLPFF...</td>\n",
       "      <td>118</td>\n",
       "      <td>111</td>\n",
       "      <td>1098</td>\n",
       "    </tr>\n",
       "    <tr>\n",
       "      <th>26</th>\n",
       "      <td>31</td>\n",
       "      <td>8dad</td>\n",
       "      <td>QVQLVQSGPEVKKPGTSVKVSCKASQFTFSISAVQWVRQARGQRLE...</td>\n",
       "      <td>IVLTQSPGTLSLSPGERATLSCRASQSVSSSYLAWYQQKPGQAPRL...</td>\n",
       "      <td>NLCPFGEVFNATRFASVYAWNRKRISNCVADYSVLYNSASFSTFKC...</td>\n",
       "      <td>123</td>\n",
       "      <td>107</td>\n",
       "      <td>194</td>\n",
       "    </tr>\n",
       "  </tbody>\n",
       "</table>\n",
       "</div>"
      ],
      "text/plain": [
       "    index   PDB                                            H_chain  \\\n",
       "39     47  7t7b  QVQLQQSGAEVKKPGASVKLSCKASGYTFSVFPIHWVRQAPGQRLE...   \n",
       "76    114  7tp3  EVRLVESGGGLVKPGGSLRLSCVASGFTFSSYEMHWVRQAPGKGLE...   \n",
       "60     86  7tp4  EVQLAESGGGLVKPGGSLRLSCVASGFTFSSNEMHWVRQAPGKGLE...   \n",
       "73    106  7u2d  EVQLVESGGGLVKPGGSLRLSCAASGFTFSSYYMNWVRQAPGKGLE...   \n",
       "61     88  7wrl  QVQLVQSGAEVKKPGSSVKVSCKASGDIYSTYASSWVRQAPGQGLE...   \n",
       "16     20  7wsc  QVQLVESGGGVVQPGRSLRLSCAASGFIFSRYDIHWVRQTPGKGLE...   \n",
       "70    103  7wtf  VQLVQSGAEVKKPGSSVKVSCKASGGTFSNYALSWVRQAPGQGLEW...   \n",
       "64     93  7wti  ITLKESGPTLVKPTQTLTLTCAFSGFSLNTGGAGVGWIRQPPGKAL...   \n",
       "26     31  8dad  QVQLVQSGPEVKKPGTSVKVSCKASQFTFSISAVQWVRQARGQRLE...   \n",
       "\n",
       "                                              L_chain  \\\n",
       "39  DIQVTQSPSSLSASVGDRVTITCQASQDIKNSLNWYQQKPGKAPKL...   \n",
       "76  DIVMTQSPDTLSLSPGETATLSCRASQSVSSYVAWYQQKPEQPPRL...   \n",
       "60  QAALTQPRSVSGSPGQSVTISCTGTSSDIGGYNYVSWYQQHPGTAP...   \n",
       "73  QPVLTQPPSVSGAPGQRITISCTGSSSNIGAGYDVHWYQQLPGTAP...   \n",
       "61  SALTQPASVSGSPGQSITISCTGTSSDVGGYNYVSWYQQHPDKAPK...   \n",
       "16  VVMTQSPLSLPVTPGEPASISCRSSQSLLQSNGYNYLDWYLQKPGQ...   \n",
       "70  DIQMTQSPSSLSASVGDRVTITCRASQAIRNDLGWYQQKPGKAPKC...   \n",
       "64  ALTQPASVSGSPGQSITVSCTGTSSDLGNFQYVSWYQHHPGKAPKL...   \n",
       "26  IVLTQSPGTLSLSPGERATLSCRASQSVSSSYLAWYQQKPGQAPRL...   \n",
       "\n",
       "                                              A_chain  H_chain_length  \\\n",
       "39  NLCPFGEVFNATRFASVYAWNRKRISNCVADYSVLYNSASFSTFKC...             124   \n",
       "76  NLCPFGEVFNATRFASVYAWNRKRISNCVADYSVLYNSASFSTFKC...             124   \n",
       "60  NLCPFGEVFNATRFASVYAWNRKRISNCVADYSVLYNSASFSTFKC...             124   \n",
       "73  NLCPFGEVFNATRFASVYAWNRKRISNCVADYSVLYNSASFSTFKC...             124   \n",
       "61  NLCPFDEVFNATRFASVYAWNRKRISNCVADYSVLYNLAPFFTFKC...             124   \n",
       "16  NLCPFDEVFNATRFASVYAWNRKRISNCVADYSVLYNLAPFFTFKC...             124   \n",
       "70  QCVNLTTRTQLPPAYTNSFTRGVYYPDKVFRSSVLHSTQDLFLPFF...             120   \n",
       "64  QCVNLTTRTQLPPAYTNSFTRGVYYPDKVFRSSVLHSTQDLFLPFF...             118   \n",
       "26  NLCPFGEVFNATRFASVYAWNRKRISNCVADYSVLYNSASFSTFKC...             123   \n",
       "\n",
       "    L_chain_length  A_chain_length  \n",
       "39             109             194  \n",
       "76             110             194  \n",
       "60             111             194  \n",
       "73             115             194  \n",
       "61             105             187  \n",
       "16             108             187  \n",
       "70             104            1098  \n",
       "64             111            1098  \n",
       "26             107             194  "
      ]
     },
     "metadata": {},
     "output_type": "display_data"
    },
    {
     "name": "stdout",
     "output_type": "stream",
     "text": [
      "==================================================\n"
     ]
    }
   ],
   "source": [
    "for col in df.columns[:-3]:\n",
    "    # 해당 컬럼에서 중복된 값을 가진 모든 row를 찾음 (duplicated(keep=False)는 모든 중복 row를 표시)\n",
    "    duplicate_rows = df[df[col].duplicated(keep=False)]\n",
    "    if not duplicate_rows.empty:\n",
    "        print(f\"'{col}' 컬럼에서 중복된 값이 있는 row:\")\n",
    "        sorted_rows= duplicate_rows.sort_values(by='PDB')\n",
    "        display(sorted_rows)\n",
    "        print(\"=\" * 50)"
   ]
  },
  {
   "cell_type": "code",
   "execution_count": 8,
   "id": "88214e63-1fc5-4948-b5c8-c002b5a5e80c",
   "metadata": {
    "execution": {
     "iopub.execute_input": "2025-05-20T17:21:49.992230Z",
     "iopub.status.busy": "2025-05-20T17:21:49.991539Z",
     "iopub.status.idle": "2025-05-20T17:21:50.024412Z",
     "shell.execute_reply": "2025-05-20T17:21:50.022829Z",
     "shell.execute_reply.started": "2025-05-20T17:21:49.992169Z"
    }
   },
   "outputs": [
    {
     "name": "stdout",
     "output_type": "stream",
     "text": [
      "    index   PDB                                            H_chain  \\\n",
      "0       0  7wog  EVQLVESGGGLVQPGGSLRLSCAASGFTFSSYAMNWVRQAPGKGLE...   \n",
      "1       2  8ath  QVQLVQSGAEVKKPGSSVKVSCKASGYIFTNYNIHWVKKSPGQGLE...   \n",
      "2       3  8hp9  QITLKESGPTLVKPTQTLTLTCTFSGFSLSTSGVGVAWIRQPPGKA...   \n",
      "3       4  8sgn  QLQLQESGPGVVKPSETLSLTCTISGGSFSTYYWTWIRQPPGKGLE...   \n",
      "4       5  7t17  QVQLQESGPGLVKPSQTLSLTCAVSGGSISSGDSYWSWIRQHPGKG...   \n",
      "..    ...   ...                                                ...   \n",
      "68    106  7u2d  EVQLVESGGGLVKPGGSLRLSCAASGFTFSSYYMNWVRQAPGKGLE...   \n",
      "69    112  7zwi  DVKLVESGGGLVKLGGSLKLSCAASGFTFSSYYMSWVRQTPEKRLE...   \n",
      "70    113  8d9z  EVQLVESGGGFVQPGGSLRLSCAASGFTFSNFDMHWVRQSPGKGLE...   \n",
      "71    114  7tp3  EVRLVESGGGLVKPGGSLRLSCVASGFTFSSYEMHWVRQAPGKGLE...   \n",
      "72    115  7q6c  EVQLVESDGGLVQPGGSLKLSCAASGFTFSDYYMAWVRQGPGKGLE...   \n",
      "\n",
      "                                              L_chain  \\\n",
      "0   DIVMTQPHPVSESPGKTVTISCTRSSGSIASNYVQWYQQRPGSAPT...   \n",
      "1   DIQMTQSPSSLSASVGDRVTITCKASQDIDRYMAWYQDKPGKAPRL...   \n",
      "2   EIVLTQSPGTLSLSPGERATLSCRASQSFDSRYLGWYQQKSGQAPR...   \n",
      "3   QAALTQPPSVSGSPGQSVTISCTGTSSDIGGYNYVSWYQQHPGKAP...   \n",
      "4   QSVLTQPPSVSAAPGQKVTISCSGSSSNIGNNFVSWYQRLPGTPPK...   \n",
      "..                                                ...   \n",
      "68  QPVLTQPPSVSGAPGQRITISCTGSSSNIGAGYDVHWYQQLPGTAP...   \n",
      "69  QIVLSQSPAILSASPGEKVTMTCRASSSVTYIHWYQQKPGSSPKPW...   \n",
      "70  EIVLTQSPSSLSASVGDRVTITCQASQDISNYLNWYQQKPGKAPKL...   \n",
      "71  DIVMTQSPDTLSLSPGETATLSCRASQSVSSYVAWYQQKPEQPPRL...   \n",
      "72  DVVLTQTPSTLSVTPGQPASISCRSSQSLLNDVGNTYLYWYLQKPG...   \n",
      "\n",
      "                                              A_chain  H_chain_length  \\\n",
      "0   ITNLCPFDEVFNATRFASVYAWNRKRISNCVADYSVLYNLAPFFTF...             122   \n",
      "1   MAMFMVKNGNGTACIMANFSAAFSVNYDTKSGPKNMTFDLPSDATV...             118   \n",
      "2   QCVNLITRTQSYTNSFTRGVYYPDKVFRSSVLHSTQDLFLPFFSNV...             124   \n",
      "3   VCQYTIQSLIHLTGEDPGFFNVEIPEFPFYPTCNVCTADVNVTINF...             120   \n",
      "4   IRCIGVSNRDFVEGMSGGTWVDVVLEHGGCVTVMAQDKPTVDIELV...             123   \n",
      "..                                                ...             ...   \n",
      "68  NLCPFGEVFNATRFASVYAWNRKRISNCVADYSVLYNSASFSTFKC...             124   \n",
      "69  KVIHGCNFSSNVSSKHTFTDSLDISLVDDSAHISCNVHLSEPKYNH...             120   \n",
      "70  IRCFITPDVTSQACPDGHVCYTKMWCDNFCGMRGKRVDLGCAATCP...             124   \n",
      "71  NLCPFGEVFNATRFASVYAWNRKRISNCVADYSVLYNSASFSTFKC...             124   \n",
      "72  HCQLGQKQSGSECICMSPEEDCSHHSEDLCVFDTDSNDYFTSPACK...             118   \n",
      "\n",
      "    L_chain_length  A_chain_length  \n",
      "0              112             197  \n",
      "1              109             168  \n",
      "2              111            1061  \n",
      "3              113             408  \n",
      "4              110             392  \n",
      "..             ...             ...  \n",
      "68             115             194  \n",
      "69             108             136  \n",
      "70             110              68  \n",
      "71             110             194  \n",
      "72             115             163  \n",
      "\n",
      "[73 rows x 8 columns]\n"
     ]
    }
   ],
   "source": [
    "import pandas as pd\n",
    "\n",
    "# 예시로 DataFrame 불러오기\n",
    "# df = pd.read_csv(\"your_data.csv\", sep=\"\\t\")  # 혹은 적절한 방법으로 df를 생성/로딩\n",
    "\n",
    "# 제거할 PDB ID 리스트\n",
    "remove_pdbs = ['7woa', '7wti', '7wtf', '8i5h', '8cby', '7yiz']\n",
    "\n",
    "# 방법 1: 새로운 DataFrame으로 필터링\n",
    "filtered_df = df[~df['PDB'].isin(remove_pdbs)]\n",
    "\n",
    "# 방법 2: 기존 df에서 바로 제거 (inplace로는 지원하지 않으므로 다시 할당)\n",
    "df = df[~df['PDB'].isin(remove_pdbs)]\n",
    "\n",
    "# (선택) 인덱스를 0부터 다시 매기고 싶다면\n",
    "filtered_df = filtered_df.reset_index(drop=True)\n",
    "\n",
    "# 결과 확인\n",
    "print(filtered_df)"
   ]
  },
  {
   "cell_type": "code",
   "execution_count": 24,
   "id": "6226c3b5-e345-4982-b3c9-bf54be89dfa2",
   "metadata": {
    "execution": {
     "iopub.execute_input": "2025-05-20T16:49:04.775504Z",
     "iopub.status.busy": "2025-05-20T16:49:04.774788Z",
     "iopub.status.idle": "2025-05-20T16:49:04.801255Z",
     "shell.execute_reply": "2025-05-20T16:49:04.799904Z",
     "shell.execute_reply.started": "2025-05-20T16:49:04.775442Z"
    }
   },
   "outputs": [
    {
     "name": "stdout",
     "output_type": "stream",
     "text": [
      "'A_chain' 컬럼에서 중복된 값이 있는 row:\n"
     ]
    },
    {
     "data": {
      "text/html": [
       "<div>\n",
       "<style scoped>\n",
       "    .dataframe tbody tr th:only-of-type {\n",
       "        vertical-align: middle;\n",
       "    }\n",
       "\n",
       "    .dataframe tbody tr th {\n",
       "        vertical-align: top;\n",
       "    }\n",
       "\n",
       "    .dataframe thead th {\n",
       "        text-align: right;\n",
       "    }\n",
       "</style>\n",
       "<table border=\"1\" class=\"dataframe\">\n",
       "  <thead>\n",
       "    <tr style=\"text-align: right;\">\n",
       "      <th></th>\n",
       "      <th>index</th>\n",
       "      <th>PDB</th>\n",
       "      <th>H_chain</th>\n",
       "      <th>L_chain</th>\n",
       "      <th>A_chain</th>\n",
       "      <th>H_chain_length</th>\n",
       "      <th>L_chain_length</th>\n",
       "      <th>A_chain_length</th>\n",
       "    </tr>\n",
       "  </thead>\n",
       "  <tbody>\n",
       "    <tr>\n",
       "      <th>47</th>\n",
       "      <td>47</td>\n",
       "      <td>7t7b</td>\n",
       "      <td>QVQLQQSGAEVKKPGASVKLSCKASGYTFSVFPIHWVRQAPGQRLE...</td>\n",
       "      <td>DIQVTQSPSSLSASVGDRVTITCQASQDIKNSLNWYQQKPGKAPKL...</td>\n",
       "      <td>NLCPFGEVFNATRFASVYAWNRKRISNCVADYSVLYNSASFSTFKC...</td>\n",
       "      <td>124</td>\n",
       "      <td>109</td>\n",
       "      <td>194</td>\n",
       "    </tr>\n",
       "    <tr>\n",
       "      <th>114</th>\n",
       "      <td>114</td>\n",
       "      <td>7tp3</td>\n",
       "      <td>EVRLVESGGGLVKPGGSLRLSCVASGFTFSSYEMHWVRQAPGKGLE...</td>\n",
       "      <td>DIVMTQSPDTLSLSPGETATLSCRASQSVSSYVAWYQQKPEQPPRL...</td>\n",
       "      <td>NLCPFGEVFNATRFASVYAWNRKRISNCVADYSVLYNSASFSTFKC...</td>\n",
       "      <td>124</td>\n",
       "      <td>110</td>\n",
       "      <td>194</td>\n",
       "    </tr>\n",
       "    <tr>\n",
       "      <th>86</th>\n",
       "      <td>86</td>\n",
       "      <td>7tp4</td>\n",
       "      <td>EVQLAESGGGLVKPGGSLRLSCVASGFTFSSNEMHWVRQAPGKGLE...</td>\n",
       "      <td>QAALTQPRSVSGSPGQSVTISCTGTSSDIGGYNYVSWYQQHPGTAP...</td>\n",
       "      <td>NLCPFGEVFNATRFASVYAWNRKRISNCVADYSVLYNSASFSTFKC...</td>\n",
       "      <td>124</td>\n",
       "      <td>111</td>\n",
       "      <td>194</td>\n",
       "    </tr>\n",
       "    <tr>\n",
       "      <th>106</th>\n",
       "      <td>106</td>\n",
       "      <td>7u2d</td>\n",
       "      <td>EVQLVESGGGLVKPGGSLRLSCAASGFTFSSYYMNWVRQAPGKGLE...</td>\n",
       "      <td>QPVLTQPPSVSGAPGQRITISCTGSSSNIGAGYDVHWYQQLPGTAP...</td>\n",
       "      <td>NLCPFGEVFNATRFASVYAWNRKRISNCVADYSVLYNSASFSTFKC...</td>\n",
       "      <td>124</td>\n",
       "      <td>115</td>\n",
       "      <td>194</td>\n",
       "    </tr>\n",
       "    <tr>\n",
       "      <th>88</th>\n",
       "      <td>88</td>\n",
       "      <td>7wrl</td>\n",
       "      <td>QVQLVQSGAEVKKPGSSVKVSCKASGDIYSTYASSWVRQAPGQGLE...</td>\n",
       "      <td>SALTQPASVSGSPGQSITISCTGTSSDVGGYNYVSWYQQHPDKAPK...</td>\n",
       "      <td>NLCPFDEVFNATRFASVYAWNRKRISNCVADYSVLYNLAPFFTFKC...</td>\n",
       "      <td>124</td>\n",
       "      <td>105</td>\n",
       "      <td>187</td>\n",
       "    </tr>\n",
       "    <tr>\n",
       "      <th>20</th>\n",
       "      <td>20</td>\n",
       "      <td>7wsc</td>\n",
       "      <td>QVQLVESGGGVVQPGRSLRLSCAASGFIFSRYDIHWVRQTPGKGLE...</td>\n",
       "      <td>VVMTQSPLSLPVTPGEPASISCRSSQSLLQSNGYNYLDWYLQKPGQ...</td>\n",
       "      <td>NLCPFDEVFNATRFASVYAWNRKRISNCVADYSVLYNLAPFFTFKC...</td>\n",
       "      <td>124</td>\n",
       "      <td>108</td>\n",
       "      <td>187</td>\n",
       "    </tr>\n",
       "    <tr>\n",
       "      <th>31</th>\n",
       "      <td>31</td>\n",
       "      <td>8dad</td>\n",
       "      <td>QVQLVQSGPEVKKPGTSVKVSCKASQFTFSISAVQWVRQARGQRLE...</td>\n",
       "      <td>IVLTQSPGTLSLSPGERATLSCRASQSVSSSYLAWYQQKPGQAPRL...</td>\n",
       "      <td>NLCPFGEVFNATRFASVYAWNRKRISNCVADYSVLYNSASFSTFKC...</td>\n",
       "      <td>123</td>\n",
       "      <td>107</td>\n",
       "      <td>194</td>\n",
       "    </tr>\n",
       "  </tbody>\n",
       "</table>\n",
       "</div>"
      ],
      "text/plain": [
       "     index   PDB                                            H_chain  \\\n",
       "47      47  7t7b  QVQLQQSGAEVKKPGASVKLSCKASGYTFSVFPIHWVRQAPGQRLE...   \n",
       "114    114  7tp3  EVRLVESGGGLVKPGGSLRLSCVASGFTFSSYEMHWVRQAPGKGLE...   \n",
       "86      86  7tp4  EVQLAESGGGLVKPGGSLRLSCVASGFTFSSNEMHWVRQAPGKGLE...   \n",
       "106    106  7u2d  EVQLVESGGGLVKPGGSLRLSCAASGFTFSSYYMNWVRQAPGKGLE...   \n",
       "88      88  7wrl  QVQLVQSGAEVKKPGSSVKVSCKASGDIYSTYASSWVRQAPGQGLE...   \n",
       "20      20  7wsc  QVQLVESGGGVVQPGRSLRLSCAASGFIFSRYDIHWVRQTPGKGLE...   \n",
       "31      31  8dad  QVQLVQSGPEVKKPGTSVKVSCKASQFTFSISAVQWVRQARGQRLE...   \n",
       "\n",
       "                                               L_chain  \\\n",
       "47   DIQVTQSPSSLSASVGDRVTITCQASQDIKNSLNWYQQKPGKAPKL...   \n",
       "114  DIVMTQSPDTLSLSPGETATLSCRASQSVSSYVAWYQQKPEQPPRL...   \n",
       "86   QAALTQPRSVSGSPGQSVTISCTGTSSDIGGYNYVSWYQQHPGTAP...   \n",
       "106  QPVLTQPPSVSGAPGQRITISCTGSSSNIGAGYDVHWYQQLPGTAP...   \n",
       "88   SALTQPASVSGSPGQSITISCTGTSSDVGGYNYVSWYQQHPDKAPK...   \n",
       "20   VVMTQSPLSLPVTPGEPASISCRSSQSLLQSNGYNYLDWYLQKPGQ...   \n",
       "31   IVLTQSPGTLSLSPGERATLSCRASQSVSSSYLAWYQQKPGQAPRL...   \n",
       "\n",
       "                                               A_chain  H_chain_length  \\\n",
       "47   NLCPFGEVFNATRFASVYAWNRKRISNCVADYSVLYNSASFSTFKC...             124   \n",
       "114  NLCPFGEVFNATRFASVYAWNRKRISNCVADYSVLYNSASFSTFKC...             124   \n",
       "86   NLCPFGEVFNATRFASVYAWNRKRISNCVADYSVLYNSASFSTFKC...             124   \n",
       "106  NLCPFGEVFNATRFASVYAWNRKRISNCVADYSVLYNSASFSTFKC...             124   \n",
       "88   NLCPFDEVFNATRFASVYAWNRKRISNCVADYSVLYNLAPFFTFKC...             124   \n",
       "20   NLCPFDEVFNATRFASVYAWNRKRISNCVADYSVLYNLAPFFTFKC...             124   \n",
       "31   NLCPFGEVFNATRFASVYAWNRKRISNCVADYSVLYNSASFSTFKC...             123   \n",
       "\n",
       "     L_chain_length  A_chain_length  \n",
       "47              109             194  \n",
       "114             110             194  \n",
       "86              111             194  \n",
       "106             115             194  \n",
       "88              105             187  \n",
       "20              108             187  \n",
       "31              107             194  "
      ]
     },
     "metadata": {},
     "output_type": "display_data"
    },
    {
     "name": "stdout",
     "output_type": "stream",
     "text": [
      "==================================================\n"
     ]
    }
   ],
   "source": [
    "for col in filtered_df.columns[:-3]:\n",
    "    # 해당 컬럼에서 중복된 값을 가진 모든 row를 찾음 (duplicated(keep=False)는 모든 중복 row를 표시)\n",
    "    duplicate_rows = filtered_df[filtered_df[col].duplicated(keep=False)]\n",
    "    if not duplicate_rows.empty:\n",
    "        print(f\"'{col}' 컬럼에서 중복된 값이 있는 row:\")\n",
    "        sorted_rows= duplicate_rows.sort_values(by='PDB')\n",
    "        display(sorted_rows)\n",
    "        print(\"=\" * 50)"
   ]
  },
  {
   "cell_type": "code",
   "execution_count": 10,
   "id": "a5745cb7-3a73-48f4-a9c3-f32c8a7effd1",
   "metadata": {
    "execution": {
     "iopub.execute_input": "2025-05-20T17:22:37.288354Z",
     "iopub.status.busy": "2025-05-20T17:22:37.287661Z",
     "iopub.status.idle": "2025-05-20T17:22:37.299843Z",
     "shell.execute_reply": "2025-05-20T17:22:37.297895Z",
     "shell.execute_reply.started": "2025-05-20T17:22:37.288293Z"
    }
   },
   "outputs": [
    {
     "data": {
      "text/plain": [
       "73"
      ]
     },
     "execution_count": 10,
     "metadata": {},
     "output_type": "execute_result"
    }
   ],
   "source": [
    "len(filtered_df)"
   ]
  },
  {
   "cell_type": "code",
   "execution_count": null,
   "id": "1a42a904-698f-43f2-99c9-997d2a428b8e",
   "metadata": {
    "execution": {
     "iopub.status.busy": "2025-05-20T16:09:37.707898Z",
     "iopub.status.idle": "2025-05-20T16:09:37.708417Z",
     "shell.execute_reply": "2025-05-20T16:09:37.708244Z",
     "shell.execute_reply.started": "2025-05-20T16:09:37.708227Z"
    }
   },
   "outputs": [],
   "source": [
    "filtered_df"
   ]
  },
  {
   "cell_type": "code",
   "execution_count": 12,
   "id": "5f1e41a5-3b5e-4188-9459-7f6f52393c92",
   "metadata": {
    "execution": {
     "iopub.execute_input": "2025-05-20T17:25:19.342467Z",
     "iopub.status.busy": "2025-05-20T17:25:19.341786Z",
     "iopub.status.idle": "2025-05-20T17:25:19.356905Z",
     "shell.execute_reply": "2025-05-20T17:25:19.355393Z",
     "shell.execute_reply.started": "2025-05-20T17:25:19.342407Z"
    }
   },
   "outputs": [],
   "source": [
    "filtered_df.to_csv('./AbNb_dataset_filterd_73.tsv', sep='\\t', index=False)"
   ]
  },
  {
   "cell_type": "code",
   "execution_count": null,
   "id": "852f76c1-e5bb-4e39-b887-e1295496dab8",
   "metadata": {},
   "outputs": [],
   "source": []
  }
 ],
 "metadata": {
  "kernelspec": {
   "display_name": "Python (Abnb)",
   "language": "python",
   "name": "abnb"
  },
  "language_info": {
   "codemirror_mode": {
    "name": "ipython",
    "version": 3
   },
   "file_extension": ".py",
   "mimetype": "text/x-python",
   "name": "python",
   "nbconvert_exporter": "python",
   "pygments_lexer": "ipython3",
   "version": "3.10.15"
  }
 },
 "nbformat": 4,
 "nbformat_minor": 5
}
