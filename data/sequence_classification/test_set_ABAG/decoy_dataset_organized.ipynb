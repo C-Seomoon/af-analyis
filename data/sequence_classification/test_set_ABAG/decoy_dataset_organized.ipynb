{
 "cells": [
  {
   "cell_type": "markdown",
   "id": "d5fececc-ac02-4085-bb01-581aeab772f6",
   "metadata": {},
   "source": [
    "### [Step 0] 기본 설정 & 공통 헬퍼"
   ]
  },
  {
   "cell_type": "code",
   "execution_count": 19,
   "id": "7e790e46-032d-4563-8a30-c43c4a9825fd",
   "metadata": {
    "execution": {
     "iopub.execute_input": "2025-05-21T05:33:46.493448Z",
     "iopub.status.busy": "2025-05-21T05:33:46.493025Z",
     "iopub.status.idle": "2025-05-21T05:33:46.500482Z",
     "shell.execute_reply": "2025-05-21T05:33:46.499866Z",
     "shell.execute_reply.started": "2025-05-21T05:33:46.493419Z"
    }
   },
   "outputs": [
    {
     "name": "stdout",
     "output_type": "stream",
     "text": [
      "{0: ['7o9w'], 1: ['7np1', '7r40', '7s0e', '7soc', '7swn', '7vyr', '7wo5', '7wrv', '7x7o', '7yqx', '7yqz', '7zf9', '7zr7'], 2: ['7tee'], 3: ['6x97', '7tfo'], 4: ['7ew5'], 5: ['7nx3'], 6: ['7ued'], 7: ['7t25'], 8: ['7shy'], 9: ['7sjn', '7sjo'], 10: ['7z4t'], 11: ['7sgm'], 12: ['7sbg'], 13: ['7vng'], 14: ['7su0', '7su1'], 15: ['7z2m'], 16: ['7kf0', '7kf1']}\n"
     ]
    }
   ],
   "source": [
    "import re\n",
    "\n",
    "# 원본 클러스터링 결과를 raw_text 변수에 담아두었다고 가정\n",
    "raw_text = \\\n",
    "\"\"\"\n",
    ">Cluster 0\n",
    "0\t1245aa, >7O9W|A... *\n",
    ">Cluster 1\n",
    "0\t180aa, >7NP1|A... at 100.00%\n",
    "1\t1134aa, >7R40|A... *\n",
    "2\t686aa, >7S0E|A... at 99.71%\n",
    "3\t200aa, >7SOC|A... at 98.50%\n",
    "4\t194aa, >7SWN|A... at 100.00%\n",
    "5\t186aa, >7VYR|A... at 100.00%\n",
    "6\t1134aa, >7WO5|A... at 99.29%\n",
    "7\t199aa, >7WRV|A... at 92.46%\n",
    "8\t183aa, >7X7O|A... at 100.00%\n",
    "9\t1120aa, >7YQX|A... at 96.88%\n",
    "10\t1120aa, >7YQZ|A... at 96.88%\n",
    "11\t195aa, >7ZF9|A... at 91.28%\n",
    "12\t1132aa, >7ZR7|A... at 98.50%\n",
    ">Cluster 2\n",
    "0\t812aa, >7TEE|A... *\n",
    ">Cluster 3\n",
    "0\t468aa, >6X97|A... at 99.79%\n",
    "1\t469aa, >7TFO|A... *\n",
    ">Cluster 4\n",
    "0\t449aa, >7EW5|A... *\n",
    ">Cluster 5\n",
    "0\t309aa, >7NX3|A... *\n",
    ">Cluster 6\n",
    "0\t287aa, >7UED|A... *\n",
    ">Cluster 7\n",
    "0\t250aa, >7T25|A... *\n",
    ">Cluster 8\n",
    "0\t208aa, >7SHY|A... *\n",
    ">Cluster 9\n",
    "0\t207aa, >7SJN|A... *\n",
    "1\t207aa, >7SJO|A... at 99.52%\n",
    ">Cluster 10\n",
    "0\t151aa, >7Z4T|A... *\n",
    ">Cluster 11\n",
    "0\t143aa, >7SGM|A... *\n",
    ">Cluster 12\n",
    "0\t134aa, >7SBG|A... *\n",
    ">Cluster 13\n",
    "0\t132aa, >7VNG|A... *\n",
    ">Cluster 14\n",
    "0\t117aa, >7SU0|A... *\n",
    "1\t115aa, >7SU1|A... at 100.00%\n",
    ">Cluster 15\n",
    "0\t107aa, >7Z2M|A... *\n",
    ">Cluster 16\n",
    "0\t95aa, >7KF0|A... *\n",
    "1\t95aa, >7KF1|A... at 100.00%\n",
    "\"\"\"\n",
    "\n",
    "clusters = {}\n",
    "current_cluster = None\n",
    "for line in raw_text.splitlines():\n",
    "    line = line.strip()\n",
    "    if not line:\n",
    "        continue\n",
    "    # 클러스터 헤더\n",
    "    if line.startswith('>Cluster'):\n",
    "        current_cluster = int(line.split()[1])\n",
    "        clusters[current_cluster] = []\n",
    "    else:\n",
    "        # “>7O9W|A...” 형태에서 7O9W만 꺼내 소문자로 변환\n",
    "        m = re.search(r'>\\s*([0-9A-Za-z]+)\\|', line)\n",
    "        if m:\n",
    "            antigen_pdb_id = m.group(1).lower()\n",
    "            clusters[current_cluster].append(antigen_pdb_id)\n",
    "\n",
    "print(clusters)"
   ]
  },
  {
   "cell_type": "code",
   "execution_count": 20,
   "id": "c97c85b0-1196-48f2-a516-25c5c1ef24ce",
   "metadata": {
    "execution": {
     "iopub.execute_input": "2025-05-21T05:33:48.554835Z",
     "iopub.status.busy": "2025-05-21T05:33:48.554418Z",
     "iopub.status.idle": "2025-05-21T05:33:48.559373Z",
     "shell.execute_reply": "2025-05-21T05:33:48.558797Z",
     "shell.execute_reply.started": "2025-05-21T05:33:48.554805Z"
    }
   },
   "outputs": [
    {
     "name": "stdout",
     "output_type": "stream",
     "text": [
      "antigen_clusters.json 파일이 생성되었습니다.\n"
     ]
    }
   ],
   "source": [
    "import json\n",
    "\n",
    "# JSON으로 저장\n",
    "with open(\"antigen_clusters.json\", \"w\") as fp:\n",
    "    json.dump(clusters, fp, indent=2)\n",
    "\n",
    "print(\"antigen_clusters.json 파일이 생성되었습니다.\")"
   ]
  },
  {
   "cell_type": "code",
   "execution_count": 21,
   "id": "ccb63cac-e192-4186-a46e-23aee44786fa",
   "metadata": {
    "execution": {
     "iopub.execute_input": "2025-05-21T05:33:48.896280Z",
     "iopub.status.busy": "2025-05-21T05:33:48.895889Z",
     "iopub.status.idle": "2025-05-21T05:33:48.901175Z",
     "shell.execute_reply": "2025-05-21T05:33:48.900636Z",
     "shell.execute_reply.started": "2025-05-21T05:33:48.896252Z"
    }
   },
   "outputs": [
    {
     "name": "stdout",
     "output_type": "stream",
     "text": [
      "ab_native_map.json 작성 완료 (항체 수: 33 )\n"
     ]
    }
   ],
   "source": [
    "all_ids = sorted({pid for ags in clusters.values() for pid in ags})\n",
    "\n",
    "ab_native = {pid: pid for pid in all_ids}\n",
    "\n",
    "# ④ JSON 저장\n",
    "with open(\"ab_native_map.json\", \"w\") as f:\n",
    "    json.dump(ab_native, f, indent=2)\n",
    "\n",
    "print(\"ab_native_map.json 작성 완료 (항체 수:\", len(ab_native), \")\")"
   ]
  },
  {
   "cell_type": "code",
   "execution_count": 1,
   "id": "4dfddb50-fa19-4771-a966-a6323cf117c2",
   "metadata": {
    "execution": {
     "iopub.execute_input": "2025-05-21T05:35:05.584163Z",
     "iopub.status.busy": "2025-05-21T05:35:05.583760Z",
     "iopub.status.idle": "2025-05-21T05:35:05.879290Z",
     "shell.execute_reply": "2025-05-21T05:35:05.878689Z",
     "shell.execute_reply.started": "2025-05-21T05:35:05.584137Z"
    }
   },
   "outputs": [
    {
     "name": "stderr",
     "output_type": "stream",
     "text": [
      "/home/cseomoon/miniconda3/envs/Abnb/lib/python3.10/site-packages/Bio/pairwise2.py:278: BiopythonDeprecationWarning: Bio.pairwise2 has been deprecated, and we intend to remove it in a future release of Biopython. As an alternative, please consider using Bio.Align.PairwiseAligner as a replacement, and contact the Biopython developers if you still need the Bio.pairwise2 module.\n",
      "  warnings.warn(\n"
     ]
    }
   ],
   "source": [
    "# 0-1) 모듈 임포트\n",
    "import random, re, json, subprocess, pathlib\n",
    "from collections import defaultdict, Counter, deque\n",
    "from typing import Dict, List, Tuple\n",
    "from Bio import SeqIO, pairwise2\n",
    "\n",
    "random.seed(42)           # 재현성 고정\n",
    "\n",
    "# 0-2) FASTA 헤더를 4-문자 PDB ID 로 정규화\n",
    "PDB_ID = re.compile(r\"^(?P<pdb>\\d\\w{3})\", re.I)\n",
    "def normalize_id(raw_id: str) -> str:\n",
    "    m = PDB_ID.match(raw_id)\n",
    "    return m.group(\"pdb\").lower() if m else raw_id.lower()"
   ]
  },
  {
   "cell_type": "markdown",
   "id": "e014cf3a-1772-4e74-9407-9e35eedfa80f",
   "metadata": {},
   "source": [
    "### [Step 1] FASTA 로드 & 프래그먼트 통합"
   ]
  },
  {
   "cell_type": "markdown",
   "id": "bffb7667-3072-4728-b3cc-3587c1dffb03",
   "metadata": {},
   "source": [
    "(“canonical 항원”만 남기고, 포함 관계인 fragment 는 parent 로 매핑)"
   ]
  },
  {
   "cell_type": "code",
   "execution_count": 2,
   "id": "3fb2b8c8-444e-49ba-905b-38d7e911ba0b",
   "metadata": {
    "execution": {
     "iopub.execute_input": "2025-05-21T05:35:06.178879Z",
     "iopub.status.busy": "2025-05-21T05:35:06.178418Z",
     "iopub.status.idle": "2025-05-21T05:35:06.188333Z",
     "shell.execute_reply": "2025-05-21T05:35:06.187731Z",
     "shell.execute_reply.started": "2025-05-21T05:35:06.178850Z"
    }
   },
   "outputs": [],
   "source": [
    "def load_sequences(fasta: str) -> Dict[str, str]:\n",
    "    \"\"\"FASTA → {pdb_id: sequence}\"\"\"\n",
    "    seqs = {}\n",
    "    for rec in SeqIO.parse(fasta, \"fasta\"):\n",
    "        seqs[normalize_id(rec.id)] = str(rec.seq)\n",
    "    return seqs\n",
    "\n",
    "\n",
    "def collapse_fragments(\n",
    "    clusters: Dict[int, List[str]],\n",
    "    seqs: Dict[str, str],\n",
    "    cov: float = 0.95,\n",
    "    id_cut: float = 0.99,\n",
    "):\n",
    "    \"\"\"\n",
    "    · cluster 내 서열 길이 내림차순 → 부모 후보\n",
    "    · 짧은 서열이 부모와 99 % 이상 일치 & 길이 ≤ 95 % 이면 fragment 로 간주\n",
    "    반환:\n",
    "        canonical : {cluster_id: [parent Ag ...]}\n",
    "        frag_map  : {fragment Ag → parent Ag}\n",
    "    \"\"\"\n",
    "    canonical, frag_map = defaultdict(list), {}\n",
    "    for cid, ags in clusters.items():\n",
    "        present = [ag for ag in ags if ag in seqs]\n",
    "        ags_sorted = sorted(present, key=lambda x: len(seqs[x]), reverse=True)\n",
    "\n",
    "        parents = []\n",
    "        for ag in ags_sorted:\n",
    "            for parent in parents:\n",
    "                aln = pairwise2.align.globalxx(seqs[ag], seqs[parent], score_only=True)\n",
    "                ident = aln / len(seqs[ag])\n",
    "                coverage = len(seqs[ag]) / len(seqs[parent])\n",
    "                if ident >= id_cut and coverage <= cov:\n",
    "                    frag_map[ag] = parent\n",
    "                    break\n",
    "            else:                           # fragment 로 안 잡히면 새 parent\n",
    "                parents.append(ag)\n",
    "        canonical[cid] = parents\n",
    "    return canonical, frag_map"
   ]
  },
  {
   "cell_type": "markdown",
   "id": "28d645bd-fde2-4c1d-8504-c0e469a115c4",
   "metadata": {},
   "source": [
    "### [Step 2] BLAST/MMseqs2 유사 항원 사전 계산"
   ]
  },
  {
   "cell_type": "markdown",
   "id": "24b04e5c-778d-466d-9967-ddb9c302cb44",
   "metadata": {},
   "source": [
    "(Hard-Fallback용: 60–90 % 구간에서 가장 유사한 다른 Ag 찾기)"
   ]
  },
  {
   "cell_type": "code",
   "execution_count": 8,
   "id": "dce187bb-7323-41bb-b81f-24782869b58d",
   "metadata": {
    "execution": {
     "iopub.execute_input": "2025-05-21T05:35:53.069392Z",
     "iopub.status.busy": "2025-05-21T05:35:53.068692Z",
     "iopub.status.idle": "2025-05-21T05:35:53.077009Z",
     "shell.execute_reply": "2025-05-21T05:35:53.076396Z",
     "shell.execute_reply.started": "2025-05-21T05:35:53.069351Z"
    }
   },
   "outputs": [],
   "source": [
    "def run_mmseqs_easysearch(\n",
    "    fasta: str,\n",
    "    tmp_dir: str = \"tmp_mmseqs\",\n",
    "    out_tsv: str = \"ag_sim.tsv\",\n",
    "    pct_min: int = 60,\n",
    "    pct_max: int = 90,\n",
    "):\n",
    "    \"\"\"\n",
    "    MMseqs2 easy-search 실행 → TSV (query  target  pident)\n",
    "    시스템에 mmseqs 가 없으면 skip 하고 준비된 TSV 사용\n",
    "    \"\"\"\n",
    "    pathlib.Path(tmp_dir).mkdir(exist_ok=True)\n",
    "    cmd = [\n",
    "        \"mmseqs\", \"easy-search\", fasta, fasta, out_tsv, tmp_dir,\n",
    "        \"--min-seq-id\", str(pct_min / 100), \"--max-seq-id\", str(pct_max / 100),\n",
    "        \"-e\", \"1e-3\", \"--format-output\", \"query,target,pident\",\n",
    "    ]\n",
    "    try:\n",
    "        subprocess.run(cmd, check=True)\n",
    "    except FileNotFoundError:\n",
    "        print(\"[Warn] mmseqs not found --> skip, assume TSV already exists.\")\n",
    "\n",
    "\n",
    "def load_sim_map(tsv: str) -> Dict[str, List[str]]:\n",
    "    \"\"\"TSV → {ag : [similar_ag1, similar_ag2, …]} (pident 내림차순)\"\"\"\n",
    "    sim_map = defaultdict(list)\n",
    "    with open(tsv) as f:\n",
    "        for line in f:\n",
    "            q, t, pid = line.strip().split(\"\\t\")\n",
    "            if q != t:                       # 자기 자신 제외\n",
    "                sim_map[normalize_id(q)].append(normalize_id(t))\n",
    "    return sim_map"
   ]
  },
  {
   "cell_type": "markdown",
   "id": "7398b39b-dd06-43ae-85dc-2b1b176f41f1",
   "metadata": {},
   "source": [
    "### [Step 3] 클러스터 헬퍼"
   ]
  },
  {
   "cell_type": "code",
   "execution_count": 9,
   "id": "6a748058-ff86-4d7f-836d-f3f6ba2e9d0d",
   "metadata": {
    "execution": {
     "iopub.execute_input": "2025-05-21T05:35:53.389700Z",
     "iopub.status.busy": "2025-05-21T05:35:53.389290Z",
     "iopub.status.idle": "2025-05-21T05:35:53.394105Z",
     "shell.execute_reply": "2025-05-21T05:35:53.393535Z",
     "shell.execute_reply.started": "2025-05-21T05:35:53.389672Z"
    }
   },
   "outputs": [],
   "source": [
    "def build_cluster_lookup(canonical: Dict[int, List[str]]) -> Dict[str, int]:\n",
    "    \"\"\"parent Ag → cluster_id 빠른 조회\"\"\"\n",
    "    return {ag: cid for cid, ags in canonical.items() for ag in ags}\n",
    "\n",
    "\n",
    "def cluster_of(ag: str, lookup: Dict[str, int]) -> int:\n",
    "    return lookup[ag]"
   ]
  },
  {
   "cell_type": "markdown",
   "id": "06755651-f369-4c9b-b0df-51628709a1a6",
   "metadata": {},
   "source": [
    "### STEP 3.5 TM-score 계산"
   ]
  },
  {
   "cell_type": "code",
   "execution_count": 10,
   "id": "67dab39a-3ffd-48e6-b2f2-3368694ea7fe",
   "metadata": {
    "execution": {
     "iopub.execute_input": "2025-05-21T05:35:53.798581Z",
     "iopub.status.busy": "2025-05-21T05:35:53.798195Z",
     "iopub.status.idle": "2025-05-21T05:35:53.805704Z",
     "shell.execute_reply": "2025-05-21T05:35:53.805145Z",
     "shell.execute_reply.started": "2025-05-21T05:35:53.798556Z"
    }
   },
   "outputs": [],
   "source": [
    "import subprocess, json, os, pandas as pd\n",
    "\n",
    "TMALIGN = \"USalign\"  # TM-align 실행 파일 경로\n",
    "PDB_DIR = \"/home/cseomoon/project/ABAG/2025_H_L_A/original_pdb/only_antigen\"                    # 항원 PDB/AF 모델 저장 폴더\n",
    "CUTOFF = 0.6                        # 또는 0.5 로 낮춰도 됨\n",
    "\n",
    "def tm_score(p1, p2):\n",
    "    \"\"\"\n",
    "    USalign -outfmt 2 결과에서 TM-score를 추출.\n",
    "    오류 발생 시 None 반환하여 건너뜀.\n",
    "    \"\"\"\n",
    "    try:\n",
    "        # 파일 존재 체크\n",
    "        for p in (p1, p2):\n",
    "            if not os.path.exists(p):\n",
    "                return None\n",
    "\n",
    "        # USalign 실행\n",
    "        cmd = [TMALIGN, p1, p2, \"-outfmt\", \"2\"]\n",
    "        out_lines = subprocess.check_output(cmd, text=True).strip().splitlines()\n",
    "\n",
    "        # TSV 파싱: 헤더('#') 라인 건너뛰고 첫 데이터 라인 사용\n",
    "        for line in out_lines:\n",
    "            if line.startswith(\"#\"):\n",
    "                continue\n",
    "            cols = line.split(\"\\t\")\n",
    "            tm1, tm2 = float(cols[2]), float(cols[3])\n",
    "            return max(tm1, tm2)\n",
    "\n",
    "        # 데이터 라인이 하나도 없으면 None\n",
    "        return None\n",
    "\n",
    "    except (subprocess.CalledProcessError, FileNotFoundError, ValueError):\n",
    "        # USalign 실패, 파일 없거나 파싱 오류 시 None\n",
    "        return None\n",
    "\n",
    "def is_similar(native_ag, cand_ag):\n",
    "    tm = tm_score(        # ← 앞서 만든 tm_score() 재사용\n",
    "        f\"{PDB_DIR}/{native_ag}_A.pdb\",\n",
    "        f\"{PDB_DIR}/{cand_ag}_A.pdb\"\n",
    "    )\n",
    "    return tm is not None and tm > CUTOFF"
   ]
  },
  {
   "cell_type": "markdown",
   "id": "3f4f6ba3-8255-42dd-9e37-3e82b9658ab8",
   "metadata": {},
   "source": [
    "### [Step 4] Easy / Hard(-Fallback) decoy 샘플링"
   ]
  },
  {
   "cell_type": "code",
   "execution_count": 11,
   "id": "0a6d1754-e162-4e72-99c9-31f5d138be6c",
   "metadata": {
    "execution": {
     "iopub.execute_input": "2025-05-21T05:35:54.657211Z",
     "iopub.status.busy": "2025-05-21T05:35:54.656832Z",
     "iopub.status.idle": "2025-05-21T05:35:54.667669Z",
     "shell.execute_reply": "2025-05-21T05:35:54.667082Z",
     "shell.execute_reply.started": "2025-05-21T05:35:54.657185Z"
    }
   },
   "outputs": [],
   "source": [
    "def sample_decoys(\n",
    "    canonical: Dict[int, List[str]],\n",
    "    ab_native: Dict[str, str],           # {antibody_id: native_parent_Ag}\n",
    "    sim_map: Dict[str, List[str]],\n",
    "    k_easy: int = 4,\n",
    "    seed: int = 42,\n",
    "):\n",
    "    \"\"\"\n",
    "    • Easy  : 다른 클러스터 랜덤\n",
    "    • Hard  : ① 같은 클러스터 다른 Ag\n",
    "              ② BLAST 60–90 % 유사 Ag (다른 클러스터)\n",
    "              없으면 Easy 하나 추가\n",
    "              3. TM > 0.6\n",
    "    \"\"\"\n",
    "    random.seed(seed)\n",
    "    lookup = build_cluster_lookup(canonical)\n",
    "\n",
    "    # Easy 풀 (클러스터 편중 방지 -- Cluster 0 비율 ≤ 20 % 예시)\n",
    "    EASY_POOL = [\n",
    "        (cid, ag)\n",
    "        for cid, ags in canonical.items()\n",
    "        for ag in ags\n",
    "    ]\n",
    "    cnt_easy = Counter()\n",
    "\n",
    "    def pick_easy(exclude_cid):\n",
    "        while True:\n",
    "            cid, ag = random.choice(EASY_POOL)\n",
    "            if cid != exclude_cid and (cid != 0 or cnt_easy[cid] < 0.2 * len(EASY_POOL)):\n",
    "                cnt_easy[cid] += 1\n",
    "                return ag\n",
    "\n",
    "    decoys = []\n",
    "    hard_stats = Counter()\n",
    "\n",
    "    for ab, native_ag in ab_native.items():\n",
    "        native_cid = cluster_of(native_ag, lookup)\n",
    "\n",
    "        # -------- Easy k_easy 개 뽑기 --------\n",
    "        easy_list = [pick_easy(native_cid) for _ in range(k_easy)]\n",
    "\n",
    "        # -------- Hard 후보 --------\n",
    "        hard = None\n",
    "        same_cluster = [ag for ag in canonical[native_cid] if ag != native_ag]\n",
    "        \n",
    "        # ① 같은 클러스터에서 찾되 TM>0.5 만족할 때까지\n",
    "        for cand in random.sample(same_cluster, len(same_cluster)):\n",
    "            if is_similar(native_ag, cand):\n",
    "                hard = cand\n",
    "                break\n",
    "        \n",
    "        # ② 싱글턴 or ① 실패 → sim_map 순회하며 TM>0.5 만족하는 첫 후보\n",
    "        if hard is None:\n",
    "            for cand in sim_map.get(native_ag, []):\n",
    "                if lookup[cand] != native_cid and is_similar(native_ag, cand):\n",
    "                    hard = cand\n",
    "                    break\n",
    "\n",
    "        # -------- ① Easy 저장 --------\n",
    "        for eg in easy_list:\n",
    "            decoys.append((ab, eg, 0, \"easy\"))   # ← 플래그 추가\n",
    "\n",
    "        # -------- ② Hard 저장 --------\n",
    "        if hard:\n",
    "            decoys.append((ab, hard, 0, \"hard\"))\n",
    "            hard_stats[\"with_hard\"] += 1\n",
    "        else:                                    # Hard 없는 경우 Easy 하나 더\n",
    "            decoys.append((ab, pick_easy(native_cid), 0, \"easy\"))\n",
    "            hard_stats[\"no_hard\"] += 1\n",
    "\n",
    "    print(f\"Hard 포함 항체 {hard_stats['with_hard']}/{len(ab_native)}  \"\n",
    "          f\"(fallback 사용 {hard_stats['no_hard']})\")\n",
    "    return decoys"
   ]
  },
  {
   "cell_type": "markdown",
   "id": "a9c31081-b25d-4218-a21a-dacd1448a59b",
   "metadata": {},
   "source": [
    "### [Step 5] 전체 파이프라인 실행 예시"
   ]
  },
  {
   "cell_type": "code",
   "execution_count": 12,
   "id": "def64159-9406-4904-a206-0d2dc0c1d657",
   "metadata": {
    "execution": {
     "iopub.execute_input": "2025-05-21T05:35:55.334388Z",
     "iopub.status.busy": "2025-05-21T05:35:55.333991Z",
     "iopub.status.idle": "2025-05-21T05:36:31.918603Z",
     "shell.execute_reply": "2025-05-21T05:36:31.917659Z",
     "shell.execute_reply.started": "2025-05-21T05:35:55.334362Z"
    }
   },
   "outputs": [
    {
     "name": "stdout",
     "output_type": "stream",
     "text": [
      "Hard 포함 항체 21/33  (fallback 사용 12)\n",
      "양성 33  /  음성 165  (목표 165)\n"
     ]
    }
   ],
   "source": [
    "# 5-1) 입력\n",
    "FASTA_AG   = \"ABAG_antigen.fasta\"\n",
    "CLUSTER_JSON = \"antigen_clusters.json\"      # {cluster_id: [Ag ...]}  ← CD-HIT 결과 편집본\n",
    "AB_NATIVE_JSON = \"ab_native_map.json\"       # {antibody_id: native_Ag}\n",
    "\n",
    "clusters_raw = json.load(open(CLUSTER_JSON))          # 원본 CD-HIT 딕셔너리\n",
    "seqs         = load_sequences(FASTA_AG)\n",
    "\n",
    "# 5-2) 프래그먼트 통합\n",
    "canonical, frag_map = collapse_fragments(clusters_raw, seqs)\n",
    "\n",
    "# 5-3) 유사 항원 사전 계산 (한 번만 수행)\n",
    "run_mmseqs_easysearch(FASTA_AG)                       # mmseqs → ag_sim.tsv\n",
    "sim_map = load_sim_map(\"ag_sim.tsv\")\n",
    "\n",
    "# 5-4) 네이티브 항원을 parent 로 치환\n",
    "ab_native = {\n",
    "    ab: frag_map.get(native_ag, native_ag)            # fragment → parent\n",
    "    for ab, native_ag in json.load(open(AB_NATIVE_JSON)).items()\n",
    "}\n",
    "\n",
    "# 5-5) decoy 생성\n",
    "decoys = sample_decoys(canonical, ab_native, sim_map, k_easy=4)\n",
    "\n",
    "print(f\"양성 33  /  음성 {len(decoys)}  (목표 165)\")"
   ]
  },
  {
   "cell_type": "code",
   "execution_count": 13,
   "id": "44ddd5cd-78ae-4e17-abe3-cffc7bc10166",
   "metadata": {
    "execution": {
     "iopub.execute_input": "2025-05-21T05:37:02.639132Z",
     "iopub.status.busy": "2025-05-21T05:37:02.638553Z",
     "iopub.status.idle": "2025-05-21T05:37:02.647644Z",
     "shell.execute_reply": "2025-05-21T05:37:02.647107Z",
     "shell.execute_reply.started": "2025-05-21T05:37:02.639088Z"
    }
   },
   "outputs": [
    {
     "data": {
      "text/plain": [
       "[('6x97', '7sgm', 0, 'easy'),\n",
       " ('6x97', '7zr7', 0, 'easy'),\n",
       " ('6x97', '7o9w', 0, 'easy'),\n",
       " ('6x97', '7su0', 0, 'easy'),\n",
       " ('6x97', '7tfo', 0, 'hard'),\n",
       " ('7ew5', '7wrv', 0, 'easy'),\n",
       " ('7ew5', '7wrv', 0, 'easy'),\n",
       " ('7ew5', '7yqx', 0, 'easy'),\n",
       " ('7ew5', '7su0', 0, 'easy'),\n",
       " ('7ew5', '7zr7', 0, 'easy')]"
      ]
     },
     "execution_count": 13,
     "metadata": {},
     "output_type": "execute_result"
    }
   ],
   "source": [
    "decoys[:10]"
   ]
  },
  {
   "cell_type": "code",
   "execution_count": 14,
   "id": "eb619f1e-6ae0-46e7-97c0-a7062ec97d09",
   "metadata": {
    "execution": {
     "iopub.execute_input": "2025-05-21T05:37:06.539966Z",
     "iopub.status.busy": "2025-05-21T05:37:06.539552Z",
     "iopub.status.idle": "2025-05-21T05:37:06.655029Z",
     "shell.execute_reply": "2025-05-21T05:37:06.654431Z",
     "shell.execute_reply.started": "2025-05-21T05:37:06.539939Z"
    }
   },
   "outputs": [],
   "source": [
    "import pandas as pd\n",
    "\n",
    "df = pd.DataFrame(decoys, columns=[\"antibody\",\"antigen\",\"label\",\"neg_type\"])\n",
    "df.to_csv(\"decoy_pairs.tsv\", sep=\"\\t\", index=False)"
   ]
  },
  {
   "cell_type": "code",
   "execution_count": 15,
   "id": "bbb00e73-4729-4e69-aa15-80c53308c927",
   "metadata": {
    "execution": {
     "iopub.execute_input": "2025-05-21T05:37:09.342136Z",
     "iopub.status.busy": "2025-05-21T05:37:09.341731Z",
     "iopub.status.idle": "2025-05-21T05:37:14.720873Z",
     "shell.execute_reply": "2025-05-21T05:37:14.719482Z",
     "shell.execute_reply.started": "2025-05-21T05:37:09.342107Z"
    }
   },
   "outputs": [
    {
     "data": {
      "image/png": "[encoded data removed]",
      "text/plain": [
       "<Figure size 400x400 with 1 Axes>"
      ]
     },
     "metadata": {},
     "output_type": "display_data"
    }
   ],
   "source": [
    "# Easy / Hard 비율 시각화 (막대그래프)\n",
    "#\n",
    "# 준비:\n",
    "#   1) 메모리 변수 decoys  → [(antibody, antigen, label, neg_type), …]\n",
    "#      ─ OR ─\n",
    "#   2) TSV 파일 “decoy_pairs.tsv” (antibody, antigen, label, neg_type)\n",
    "\n",
    "import pandas as pd\n",
    "import matplotlib.pyplot as plt\n",
    "from collections import Counter\n",
    "import os\n",
    "\n",
    "# ------------------ ① 데이터 로드 ------------------\n",
    "if 'decoys' in globals():\n",
    "    rows = decoys                                     # 세션 변수 사용\n",
    "else:\n",
    "    df = pd.read_csv(\"decoy_pairs.tsv\", sep=\"\\t\")     # 파일 로드\n",
    "    rows = df[['antibody', 'antigen', 'label', 'neg_type']].itertuples(index=False, name=None)\n",
    "\n",
    "# ------------------ ② Easy / Hard 집계 -------------\n",
    "cnt = Counter(r[3] for r in rows)                    # r[3] = \"easy\"/\"hard\"\n",
    "easy_n = cnt.get(\"easy\", 0)\n",
    "hard_n = cnt.get(\"hard\", 0)\n",
    "\n",
    "# ------------------ ③ 시각화 -----------------------\n",
    "fig, ax = plt.subplots(figsize=(4, 4))\n",
    "ax.bar([\"Easy\", \"Hard\"], [easy_n, hard_n], width=0.5)\n",
    "ax.set_title(\"Easy vs. Hard Negative Count\")\n",
    "ax.set_ylabel(\"Number of pairs\")\n",
    "for i, v in enumerate([easy_n, hard_n]):\n",
    "    ax.text(i, v + max(easy_n, hard_n) * 0.02, str(v), ha='center')\n",
    "plt.tight_layout()\n",
    "plt.show()"
   ]
  },
  {
   "cell_type": "code",
   "execution_count": null,
   "id": "80354bfe-9e68-42db-8946-766c008472ac",
   "metadata": {},
   "outputs": [],
   "source": []
  },
  {
   "cell_type": "code",
   "execution_count": 17,
   "id": "1103a385-f83d-4169-9c72-2e88bb5a2af3",
   "metadata": {
    "execution": {
     "iopub.execute_input": "2025-05-21T05:37:49.255358Z",
     "iopub.status.busy": "2025-05-21T05:37:49.254861Z",
     "iopub.status.idle": "2025-05-21T05:38:01.912314Z",
     "shell.execute_reply": "2025-05-21T05:38:01.911327Z",
     "shell.execute_reply.started": "2025-05-21T05:37:49.255325Z"
    }
   },
   "outputs": [
    {
     "name": "stdout",
     "output_type": "stream",
     "text": [
      "Hard kept 21 / dropped 0 (TM ≤ 0.6)\n"
     ]
    }
   ],
   "source": [
    "import subprocess, json, os, pandas as pd\n",
    "\n",
    "TMALIGN = \"USalign\"  # TM-align 실행 파일 경로\n",
    "PDB_DIR = \"/home/cseomoon/project/ABAG/2025_H_L_A/original_pdb/only_antigen\"                    # 항원 PDB/AF 모델 저장 폴더\n",
    "CUTOFF = 0.6                        # 또는 0.5 로 낮춰도 됨\n",
    "\n",
    "def tm_score(p1, p2):\n",
    "    \"\"\"\n",
    "    USalign -outfmt 2 결과에서 TM-score를 추출.\n",
    "    오류 발생 시 None 반환하여 건너뜀.\n",
    "    \"\"\"\n",
    "    try:\n",
    "        # 파일 존재 체크\n",
    "        for p in (p1, p2):\n",
    "            if not os.path.exists(p):\n",
    "                return None\n",
    "\n",
    "        # USalign 실행\n",
    "        cmd = [TMALIGN, p1, p2, \"-outfmt\", \"2\"]\n",
    "        out_lines = subprocess.check_output(cmd, text=True).strip().splitlines()\n",
    "\n",
    "        # TSV 파싱: 헤더('#') 라인 건너뛰고 첫 데이터 라인 사용\n",
    "        for line in out_lines:\n",
    "            if line.startswith(\"#\"):\n",
    "                continue\n",
    "            cols = line.split(\"\\t\")\n",
    "            tm1, tm2 = float(cols[2]), float(cols[3])\n",
    "            return max(tm1, tm2)\n",
    "\n",
    "        # 데이터 라인이 하나도 없으면 None\n",
    "        return None\n",
    "\n",
    "    except (subprocess.CalledProcessError, FileNotFoundError, ValueError):\n",
    "        # USalign 실패, 파일 없거나 파싱 오류 시 None\n",
    "        return None\n",
    "\n",
    "# ① Hard 목록만 추출\n",
    "hard_pairs = [row for row in decoys if row[3] == \"hard\"]\n",
    "\n",
    "# ② native 항원 매핑 로드\n",
    "ab_native = json.load(open(\"ab_native_map.json\"))\n",
    "\n",
    "# ③ 필터링 loop\n",
    "filtered = []\n",
    "dropped  = []\n",
    "for ab, ag_hard, _, _ in hard_pairs:\n",
    "    ag_native  = ab_native[ab]\n",
    "    pdb_native = os.path.join(PDB_DIR, f\"{ag_native}_A.pdb\")\n",
    "    pdb_hard   = os.path.join(PDB_DIR, f\"{ag_hard}_A.pdb\")\n",
    "    tm = tm_score(pdb_native, pdb_hard)\n",
    "\n",
    "    # tm_score()가 None을 반환했으면 건너뛰기\n",
    "    if tm is None:\n",
    "        print(f\"[Warning] TM-score 계산 실패, 건너뜀: {ag_native} vs {ag_hard}\")\n",
    "        continue\n",
    "\n",
    "    if tm > CUTOFF:\n",
    "        filtered.append((ab, ag_hard, 0, \"hard\", tm))\n",
    "    else:\n",
    "        dropped.append((ab, ag_hard, tm))\n",
    "\n",
    "print(f\"Hard kept {len(filtered)} / dropped {len(dropped)} (TM ≤ {CUTOFF})\")\n",
    "\n",
    "# ④ Easy + 필터링된 Hard 합쳐 새 decoy 리스트\n",
    "decoys_hardfiltered = [\n",
    "    row for row in decoys if row[3] == \"easy\"\n",
    "] + [row[:4] for row in filtered]\n",
    "\n",
    "# (선택) TSV 저장\n",
    "pd.DataFrame(decoys_hardfiltered,\n",
    "             columns=[\"antibody\",\"antigen\",\"label\",\"neg_type\"]\n",
    "            ).to_csv(\"decoys_hardFiltered.tsv\", sep=\"\\t\", index=False)"
   ]
  },
  {
   "cell_type": "code",
   "execution_count": 18,
   "id": "c708db5d-df3d-47e7-a9e4-6fd313699595",
   "metadata": {
    "execution": {
     "iopub.execute_input": "2025-05-21T05:38:01.914455Z",
     "iopub.status.busy": "2025-05-21T05:38:01.913996Z",
     "iopub.status.idle": "2025-05-21T05:38:02.012901Z",
     "shell.execute_reply": "2025-05-21T05:38:02.012150Z",
     "shell.execute_reply.started": "2025-05-21T05:38:01.914422Z"
    }
   },
   "outputs": [
    {
     "data": {
      "text/html": [
       "<div>\n",
       "<style scoped>\n",
       "    .dataframe tbody tr th:only-of-type {\n",
       "        vertical-align: middle;\n",
       "    }\n",
       "\n",
       "    .dataframe tbody tr th {\n",
       "        vertical-align: top;\n",
       "    }\n",
       "\n",
       "    .dataframe thead th {\n",
       "        text-align: right;\n",
       "    }\n",
       "</style>\n",
       "<table border=\"1\" class=\"dataframe\">\n",
       "  <thead>\n",
       "    <tr style=\"text-align: right;\">\n",
       "      <th></th>\n",
       "      <th>antibody</th>\n",
       "      <th>antigen</th>\n",
       "      <th>label</th>\n",
       "      <th>neg_type</th>\n",
       "    </tr>\n",
       "  </thead>\n",
       "  <tbody>\n",
       "    <tr>\n",
       "      <th>0</th>\n",
       "      <td>6x97</td>\n",
       "      <td>7sgm</td>\n",
       "      <td>0</td>\n",
       "      <td>easy</td>\n",
       "    </tr>\n",
       "    <tr>\n",
       "      <th>1</th>\n",
       "      <td>6x97</td>\n",
       "      <td>7zr7</td>\n",
       "      <td>0</td>\n",
       "      <td>easy</td>\n",
       "    </tr>\n",
       "    <tr>\n",
       "      <th>2</th>\n",
       "      <td>6x97</td>\n",
       "      <td>7o9w</td>\n",
       "      <td>0</td>\n",
       "      <td>easy</td>\n",
       "    </tr>\n",
       "    <tr>\n",
       "      <th>3</th>\n",
       "      <td>6x97</td>\n",
       "      <td>7su0</td>\n",
       "      <td>0</td>\n",
       "      <td>easy</td>\n",
       "    </tr>\n",
       "    <tr>\n",
       "      <th>4</th>\n",
       "      <td>7ew5</td>\n",
       "      <td>7wrv</td>\n",
       "      <td>0</td>\n",
       "      <td>easy</td>\n",
       "    </tr>\n",
       "    <tr>\n",
       "      <th>...</th>\n",
       "      <td>...</td>\n",
       "      <td>...</td>\n",
       "      <td>...</td>\n",
       "      <td>...</td>\n",
       "    </tr>\n",
       "    <tr>\n",
       "      <th>160</th>\n",
       "      <td>7x7o</td>\n",
       "      <td>7zf9</td>\n",
       "      <td>0</td>\n",
       "      <td>hard</td>\n",
       "    </tr>\n",
       "    <tr>\n",
       "      <th>161</th>\n",
       "      <td>7yqx</td>\n",
       "      <td>7soc</td>\n",
       "      <td>0</td>\n",
       "      <td>hard</td>\n",
       "    </tr>\n",
       "    <tr>\n",
       "      <th>162</th>\n",
       "      <td>7yqz</td>\n",
       "      <td>7wo5</td>\n",
       "      <td>0</td>\n",
       "      <td>hard</td>\n",
       "    </tr>\n",
       "    <tr>\n",
       "      <th>163</th>\n",
       "      <td>7zf9</td>\n",
       "      <td>7r40</td>\n",
       "      <td>0</td>\n",
       "      <td>hard</td>\n",
       "    </tr>\n",
       "    <tr>\n",
       "      <th>164</th>\n",
       "      <td>7zr7</td>\n",
       "      <td>7soc</td>\n",
       "      <td>0</td>\n",
       "      <td>hard</td>\n",
       "    </tr>\n",
       "  </tbody>\n",
       "</table>\n",
       "<p>165 rows × 4 columns</p>\n",
       "</div>"
      ],
      "text/plain": [
       "    antibody antigen  label neg_type\n",
       "0       6x97    7sgm      0     easy\n",
       "1       6x97    7zr7      0     easy\n",
       "2       6x97    7o9w      0     easy\n",
       "3       6x97    7su0      0     easy\n",
       "4       7ew5    7wrv      0     easy\n",
       "..       ...     ...    ...      ...\n",
       "160     7x7o    7zf9      0     hard\n",
       "161     7yqx    7soc      0     hard\n",
       "162     7yqz    7wo5      0     hard\n",
       "163     7zf9    7r40      0     hard\n",
       "164     7zr7    7soc      0     hard\n",
       "\n",
       "[165 rows x 4 columns]"
      ]
     },
     "execution_count": 18,
     "metadata": {},
     "output_type": "execute_result"
    }
   ],
   "source": [
    "df=pd.read_csv('decoys_hardFiltered.tsv', sep = '\\t')\n",
    "df"
   ]
  },
  {
   "cell_type": "code",
   "execution_count": 19,
   "id": "3533c431-f5fb-4f59-953e-011d8d18859c",
   "metadata": {
    "execution": {
     "iopub.execute_input": "2025-05-21T05:38:02.014102Z",
     "iopub.status.busy": "2025-05-21T05:38:02.013759Z",
     "iopub.status.idle": "2025-05-21T05:38:02.021608Z",
     "shell.execute_reply": "2025-05-21T05:38:02.020586Z",
     "shell.execute_reply.started": "2025-05-21T05:38:02.014074Z"
    }
   },
   "outputs": [],
   "source": [
    "df_sorted = df.sort_values(by='antibody')\n",
    "df_sorted.to_csv('sorted_decoy_set.csv', index=False)\n"
   ]
  },
  {
   "cell_type": "markdown",
   "id": "01eb2757-8b53-42bb-95e6-f44557e255b1",
   "metadata": {
    "jp-MarkdownHeadingCollapsed": true
   },
   "source": [
    "#### Antigen chain만 따로 PDB로 저장."
   ]
  },
  {
   "cell_type": "code",
   "execution_count": 10,
   "id": "bb07a1f7-4715-46b9-93e5-019f48ffc6c3",
   "metadata": {
    "execution": {
     "iopub.execute_input": "2025-05-21T05:24:49.839445Z",
     "iopub.status.busy": "2025-05-21T05:24:49.838641Z",
     "iopub.status.idle": "2025-05-21T05:24:51.001630Z",
     "shell.execute_reply": "2025-05-21T05:24:51.001034Z",
     "shell.execute_reply.started": "2025-05-21T05:24:49.839409Z"
    },
    "scrolled": true
   },
   "outputs": [
    {
     "name": "stdout",
     "output_type": "stream",
     "text": [
      "Saved chain A to /home/cseomoon/project/ABAG/2025_H_L_A/original_pdb/only_antigen/7r40_A.pdb\n",
      "Saved chain A to /home/cseomoon/project/ABAG/2025_H_L_A/original_pdb/only_antigen/7vng_A.pdb\n",
      "Saved chain A to /home/cseomoon/project/ABAG/2025_H_L_A/original_pdb/only_antigen/7s0e_A.pdb\n",
      "Saved chain A to /home/cseomoon/project/ABAG/2025_H_L_A/original_pdb/only_antigen/7tfo_A.pdb\n",
      "Saved chain A to /home/cseomoon/project/ABAG/2025_H_L_A/original_pdb/only_antigen/7nx3_A.pdb\n",
      "Saved chain A to /home/cseomoon/project/ABAG/2025_H_L_A/original_pdb/only_antigen/7yqx_A.pdb\n",
      "Saved chain A to /home/cseomoon/project/ABAG/2025_H_L_A/original_pdb/only_antigen/7t25_A.pdb\n",
      "Saved chain A to /home/cseomoon/project/ABAG/2025_H_L_A/original_pdb/only_antigen/7ew5_A.pdb\n",
      "Saved chain A to /home/cseomoon/project/ABAG/2025_H_L_A/original_pdb/only_antigen/7shy_A.pdb\n",
      "Saved chain A to /home/cseomoon/project/ABAG/2025_H_L_A/original_pdb/only_antigen/7sjn_A.pdb\n",
      "Saved chain A to /home/cseomoon/project/ABAG/2025_H_L_A/original_pdb/only_antigen/7sjo_A.pdb\n",
      "Saved chain A to /home/cseomoon/project/ABAG/2025_H_L_A/original_pdb/only_antigen/7su1_A.pdb\n",
      "Saved chain A to /home/cseomoon/project/ABAG/2025_H_L_A/original_pdb/only_antigen/7su0_A.pdb\n",
      "Saved chain A to /home/cseomoon/project/ABAG/2025_H_L_A/original_pdb/only_antigen/7zf9_A.pdb\n",
      "Saved chain A to /home/cseomoon/project/ABAG/2025_H_L_A/original_pdb/only_antigen/7np1_A.pdb\n",
      "Saved chain A to /home/cseomoon/project/ABAG/2025_H_L_A/original_pdb/only_antigen/7sbg_A.pdb\n",
      "Saved chain A to /home/cseomoon/project/ABAG/2025_H_L_A/original_pdb/only_antigen/7ued_A.pdb\n",
      "Saved chain A to /home/cseomoon/project/ABAG/2025_H_L_A/original_pdb/only_antigen/7wo5_A.pdb\n",
      "Saved chain A to /home/cseomoon/project/ABAG/2025_H_L_A/original_pdb/only_antigen/7sgm_A.pdb\n",
      "Saved chain A to /home/cseomoon/project/ABAG/2025_H_L_A/original_pdb/only_antigen/7z2m_A.pdb\n",
      "Saved chain A to /home/cseomoon/project/ABAG/2025_H_L_A/original_pdb/only_antigen/7vyr_A.pdb\n",
      "Saved chain A to /home/cseomoon/project/ABAG/2025_H_L_A/original_pdb/only_antigen/6x97_A.pdb\n",
      "Saved chain A to /home/cseomoon/project/ABAG/2025_H_L_A/original_pdb/only_antigen/7kf0_A.pdb\n",
      "Saved chain A to /home/cseomoon/project/ABAG/2025_H_L_A/original_pdb/only_antigen/7kf1_A.pdb\n",
      "Saved chain A to /home/cseomoon/project/ABAG/2025_H_L_A/original_pdb/only_antigen/7soc_A.pdb\n",
      "Saved chain A to /home/cseomoon/project/ABAG/2025_H_L_A/original_pdb/only_antigen/7yqz_A.pdb\n",
      "Saved chain A to /home/cseomoon/project/ABAG/2025_H_L_A/original_pdb/only_antigen/7o9w_A.pdb\n",
      "Saved chain A to /home/cseomoon/project/ABAG/2025_H_L_A/original_pdb/only_antigen/7x7o_A.pdb\n",
      "Saved chain A to /home/cseomoon/project/ABAG/2025_H_L_A/original_pdb/only_antigen/7swn_A.pdb\n",
      "Saved chain A to /home/cseomoon/project/ABAG/2025_H_L_A/original_pdb/only_antigen/7tee_A.pdb\n",
      "Saved chain A to /home/cseomoon/project/ABAG/2025_H_L_A/original_pdb/only_antigen/7z4t_A.pdb\n",
      "Saved chain A to /home/cseomoon/project/ABAG/2025_H_L_A/original_pdb/only_antigen/7zr7_A.pdb\n",
      "Saved chain A to /home/cseomoon/project/ABAG/2025_H_L_A/original_pdb/only_antigen/7wrv_A.pdb\n"
     ]
    }
   ],
   "source": [
    "#!/usr/bin/env python3\n",
    "import re\n",
    "from pathlib import Path\n",
    "\n",
    "# 1) 경로 설정\n",
    "INPUT_DIR = Path(\"/home/cseomoon/project/ABAG/2025_H_L_A/original_pdb\")\n",
    "OUTPUT_DIR = Path(\"/home/cseomoon/project/ABAG/2025_H_L_A/original_pdb/only_antigen\")\n",
    "OUTPUT_DIR.mkdir(exist_ok=True)\n",
    "\n",
    "# 2) 파일명에서 PDB ID 추출용 정규식\n",
    "#    예: renum_fv_7sww_0.pdb → PDB ID = 7sww\n",
    "PDBID_RE = re.compile(\"(?P<pdb>\\w+)_ABAG.pdb$\", re.IGNORECASE)\n",
    "\n",
    "# 3) 각 PDB 파일 순회\n",
    "for pdb_path in INPUT_DIR.glob(\"*.pdb\"):\n",
    "    m = PDBID_RE.match(pdb_path.name)\n",
    "    if not m:\n",
    "        print(f\"Warning: 파일명이 패턴과 맞지 않음, 건너뜀: {pdb_path.name}\")\n",
    "        continue\n",
    "\n",
    "    pdb_id = m.group(\"pdb\")\n",
    "    out_path = OUTPUT_DIR / f\"{pdb_id}_A.pdb\"\n",
    "\n",
    "    # 4) Chain A만 필터링해서 쓰기\n",
    "    with pdb_path.open(\"r\") as fin, out_path.open(\"w\") as fout:\n",
    "        for line in fin:\n",
    "            # ATOM 또는 HETATM 레코드 중 체인 ID가 21번째 문자일 때\n",
    "            if (line.startswith(\"ATOM\") or line.startswith(\"HETATM\")) and line[21] == \"A\":\n",
    "                fout.write(line)\n",
    "\n",
    "    print(f\"Saved chain A to {out_path}\")"
   ]
  },
  {
   "cell_type": "code",
   "execution_count": 11,
   "id": "dfaa66c5-4f41-4364-ba6d-96542d53dc63",
   "metadata": {
    "execution": {
     "iopub.execute_input": "2025-05-21T05:26:29.533218Z",
     "iopub.status.busy": "2025-05-21T05:26:29.532801Z",
     "iopub.status.idle": "2025-05-21T05:26:35.015559Z",
     "shell.execute_reply": "2025-05-21T05:26:35.014831Z",
     "shell.execute_reply.started": "2025-05-21T05:26:29.533189Z"
    }
   },
   "outputs": [
    {
     "name": "stdout",
     "output_type": "stream",
     "text": [
      "7r40_ABAG.pdb: 체인 A 있음\n",
      "7vng_ABAG.pdb: 체인 A 있음\n",
      "7s0e_ABAG.pdb: 체인 A 있음\n",
      "7tfo_ABAG.pdb: 체인 A 있음\n",
      "7nx3_ABAG.pdb: 체인 A 있음\n",
      "7yqx_ABAG.pdb: 체인 A 있음\n",
      "7t25_ABAG.pdb: 체인 A 있음\n",
      "7ew5_ABAG.pdb: 체인 A 있음\n",
      "7shy_ABAG.pdb: 체인 A 있음\n",
      "7sjn_ABAG.pdb: 체인 A 있음\n",
      "7sjo_ABAG.pdb: 체인 A 있음\n",
      "7su1_ABAG.pdb: 체인 A 있음\n",
      "7su0_ABAG.pdb: 체인 A 있음\n",
      "7zf9_ABAG.pdb: 체인 A 있음\n",
      "7np1_ABAG.pdb: 체인 A 있음\n",
      "7sbg_ABAG.pdb: 체인 A 있음\n",
      "7ued_ABAG.pdb: 체인 A 있음\n",
      "7wo5_ABAG.pdb: 체인 A 있음\n",
      "7sgm_ABAG.pdb: 체인 A 있음\n",
      "7z2m_ABAG.pdb: 체인 A 있음\n",
      "7vyr_ABAG.pdb: 체인 A 있음\n",
      "6x97_ABAG.pdb: 체인 A 있음\n",
      "7kf0_ABAG.pdb: 체인 A 있음\n",
      "7kf1_ABAG.pdb: 체인 A 있음\n",
      "7soc_ABAG.pdb: 체인 A 있음\n",
      "7yqz_ABAG.pdb: 체인 A 있음\n",
      "7o9w_ABAG.pdb: 체인 A 있음\n",
      "7x7o_ABAG.pdb: 체인 A 있음\n",
      "7swn_ABAG.pdb: 체인 A 있음\n",
      "7tee_ABAG.pdb: 체인 A 있음\n",
      "7z4t_ABAG.pdb: 체인 A 있음\n",
      "7zr7_ABAG.pdb: 체인 A 있음\n",
      "7wrv_ABAG.pdb: 체인 A 있음\n"
     ]
    }
   ],
   "source": [
    "import os\n",
    "from Bio.PDB import PDBParser\n",
    "\n",
    "# 1. PDB 파일들이 들어있는 디렉터리 경로\n",
    "pdb_dir = \"/home/cseomoon/project/ABAG/2025_H_L_A/original_pdb\"\n",
    "\n",
    "# 2. PDB 파서 생성 (QUIET=True로 로그 억제)\n",
    "parser = PDBParser(QUIET=True)\n",
    "\n",
    "# 디렉터리 내의 모든 파일 순회\n",
    "for fname in os.listdir(pdb_dir):\n",
    "    if not fname.lower().endswith(\".pdb\"):\n",
    "        continue\n",
    "\n",
    "    path = os.path.join(pdb_dir, fname)\n",
    "    try:\n",
    "        # 구조 읽기\n",
    "        structure = parser.get_structure(fname, path)\n",
    "        # 모든 체인 ID 추출\n",
    "        chain_ids = {chain.id for chain in structure.get_chains()}\n",
    "        # chain A 존재 여부 확인\n",
    "        has_chain_A = \"A\" in chain_ids\n",
    "        status = \"체인 A 있음\" if has_chain_A else \"체인 A 없음\"\n",
    "    except Exception as e:\n",
    "        status = f\"읽기 오류: {e}\"\n",
    "\n",
    "    print(f\"{fname}: {status}\")"
   ]
  },
  {
   "cell_type": "code",
   "execution_count": null,
   "id": "4128a09a-2bd5-4efd-821a-4de8bed2b25d",
   "metadata": {},
   "outputs": [],
   "source": []
  }
 ],
 "metadata": {
  "kernelspec": {
   "display_name": "Python (Abnb)",
   "language": "python",
   "name": "abnb"
  },
  "language_info": {
   "codemirror_mode": {
    "name": "ipython",
    "version": 3
   },
   "file_extension": ".py",
   "mimetype": "text/x-python",
   "name": "python",
   "nbconvert_exporter": "python",
   "pygments_lexer": "ipython3",
   "version": "3.10.15"
  }
 },
 "nbformat": 4,
 "nbformat_minor": 5
}
