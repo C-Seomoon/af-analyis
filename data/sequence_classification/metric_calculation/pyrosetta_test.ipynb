{
 "cells": [
  {
   "cell_type": "code",
   "execution_count": 1,
   "id": "b02bf67d-74aa-4395-a036-5dab6f154674",
   "metadata": {
    "execution": {
     "iopub.execute_input": "2025-05-21T12:53:48.691923Z",
     "iopub.status.busy": "2025-05-21T12:53:48.691230Z",
     "iopub.status.idle": "2025-05-21T12:53:49.042970Z",
     "shell.execute_reply": "2025-05-21T12:53:49.041839Z",
     "shell.execute_reply.started": "2025-05-21T12:53:48.691858Z"
    },
    "scrolled": true
   },
   "outputs": [],
   "source": [
    "import pandas as pd\n",
    "\n",
    "df=pd.read_csv('chain_metrics_results_20250521_200856.csv')"
   ]
  },
  {
   "cell_type": "code",
   "execution_count": 2,
   "id": "a92d57d5-ac2d-4bea-9781-40526dd4a825",
   "metadata": {
    "execution": {
     "iopub.execute_input": "2025-05-21T12:53:49.044848Z",
     "iopub.status.busy": "2025-05-21T12:53:49.044560Z",
     "iopub.status.idle": "2025-05-21T12:53:59.610810Z",
     "shell.execute_reply": "2025-05-21T12:53:59.610031Z",
     "shell.execute_reply.started": "2025-05-21T12:53:49.044821Z"
    }
   },
   "outputs": [
    {
     "name": "stdout",
     "output_type": "stream",
     "text": [
      "테스트 파일: /home/cseomoon/project/ABAG/AbNb_benchmark/AF3_results/8il3_8f6l/seed-1_sample-0/model.cif\n",
      "\n",
      "[DEBUG] Processing file: /home/cseomoon/project/ABAG/AbNb_benchmark/AF3_results/8il3_8f6l/seed-1_sample-0/model.cif\n",
      "┌──────────────────────────────────────────────────────────────────────────────┐\n",
      "│                                 PyRosetta-4                                  │\n",
      "│              Created in JHU by Sergey Lyskov and PyRosetta Team              │\n",
      "│              (C) Copyright Rosetta Commons Member Institutions               │\n",
      "│                                                                              │\n",
      "│ NOTE: USE OF PyRosetta FOR COMMERCIAL PURPOSES REQUIRE PURCHASE OF A LICENSE │\n",
      "│         See LICENSE.PyRosetta.md or email license@uw.edu for details         │\n",
      "└──────────────────────────────────────────────────────────────────────────────┘\n",
      "PyRosetta-4 2024 [Rosetta PyRosetta4.conda.ubuntu.cxx11thread.serialization.Ubuntu.python310.Release 2024.42+release.3366cf78a3df04339d1982e94531b77b098ddb99 2024-10-11T08:24:04] retrieved from: http://www.pyrosetta.org\n",
      "[DEBUG] Converting mmCIF to PDB...\n",
      "[DEBUG] Temporary PDB created at: /tmp/tmpgbuf1fc1.pdb\n",
      "[DEBUG] Reading chains from: /tmp/tmpgbuf1fc1.pdb\n",
      "[DEBUG] Found chains: ['A', 'H', 'L']\n",
      "[DEBUG] Antibody chains: ['H', 'L']\n",
      "[DEBUG] Antigen chains: ['A']\n",
      "[DEBUG] Interface string: HL_A\n",
      "[DEBUG] Loading pose from PDB...\n",
      "[DEBUG] Running interface analyzer...\n",
      "[DEBUG] Creating score function...\n",
      "[DEBUG] Setting up InterfaceAnalyzerMover...\n",
      "[DEBUG] Applying InterfaceAnalyzerMover...\n",
      "[DEBUG] Extracting metrics...\n",
      "[DEBUG] Creating metrics dictionary...\n",
      "[DEBUG] Metrics extraction completed\n",
      "[DEBUG] Extracted metrics: {'dG_separated': 39.302226712224524, 'dSASA_int': 1048.628403145458, 'nres_int': 42, 'delta_unsatHbonds': 13, 'packstat': 0.6755601508945381, 'dG_dSASA_norm': 0.037479651127447874}\n",
      "[DEBUG] Processing completed successfully\n",
      "[DEBUG] Cleaning up temporary file: /tmp/tmpgbuf1fc1.pdb\n",
      "결과: {'dG_separated': 39.302226712224524, 'dSASA_int': 1048.628403145458, 'nres_int': 42, 'delta_unsatHbonds': 13, 'packstat': 0.6755601508945381, 'dG_dSASA_norm': 0.037479651127447874, 'pdb': '/home/cseomoon/project/ABAG/AbNb_benchmark/AF3_results/8il3_8f6l/seed-1_sample-0/model.cif'}\n",
      "에러: None\n"
     ]
    }
   ],
   "source": [
    "from af_analysis.calc_rosetta_energy import batch_extract, extract_metrics_from_file\n",
    "import glob\n",
    "\n",
    "pdb_list = list(df['pdb'])       # 또는 *.cif\n",
    "if pdb_list:\n",
    "    test_file = pdb_list[0]\n",
    "    print(f\"테스트 파일: {test_file}\")\n",
    "    result, error = extract_metrics_from_file(test_file, antibody_mode=True)\n",
    "    print(f\"결과: {result}\")\n",
    "    print(f\"에러: {error}\")\n",
    "# df_metrics = batch_extract(\n",
    "#     pdb_files=pdb_list,\n",
    "#     n_jobs=8,                # CPU 코어 수\n",
    "#     antibody_mode=True       # H/L vs 나머지 체인 규칙 사용\n",
    "# )\n",
    "# df_metrics.to_csv(\"model_metrics.csv\", index=False)"
   ]
  },
  {
   "cell_type": "code",
   "execution_count": null,
   "id": "dba05491-f85d-4ddf-bf17-a0084e03af6c",
   "metadata": {},
   "outputs": [],
   "source": [
    "df_metrics"
   ]
  },
  {
   "cell_type": "code",
   "execution_count": null,
   "id": "1b4677ee-cc44-4cb8-9379-6a17c03c4ddc",
   "metadata": {},
   "outputs": [],
   "source": []
  }
 ],
 "metadata": {
  "kernelspec": {
   "display_name": "Python (Abnb)",
   "language": "python",
   "name": "abnb"
  },
  "language_info": {
   "codemirror_mode": {
    "name": "ipython",
    "version": 3
   },
   "file_extension": ".py",
   "mimetype": "text/x-python",
   "name": "python",
   "nbconvert_exporter": "python",
   "pygments_lexer": "ipython3",
   "version": "3.10.15"
  }
 },
 "nbformat": 4,
 "nbformat_minor": 5
}
