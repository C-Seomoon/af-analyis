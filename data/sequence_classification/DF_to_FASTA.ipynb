{
 "cells": [
  {
   "cell_type": "code",
   "execution_count": 1,
   "id": "e30389d8-6d91-4598-b415-1490d224f7b5",
   "metadata": {
    "execution": {
     "iopub.execute_input": "2025-05-20T17:32:41.813021Z",
     "iopub.status.busy": "2025-05-20T17:32:41.812354Z",
     "iopub.status.idle": "2025-05-20T17:32:41.822965Z",
     "shell.execute_reply": "2025-05-20T17:32:41.820922Z",
     "shell.execute_reply.started": "2025-05-20T17:32:41.812961Z"
    }
   },
   "outputs": [],
   "source": [
    "# import pandas as pd\n",
    "\n",
    "# # 입력 TSV 파일과 출력 FASTA 파일 경로 지정\n",
    "# input_tsv = \"./Filtration/filtered_1_AbNb.tsv\"      # TSV 파일 경로\n",
    "# output_fasta = \"./Filtration/filtered_1_AbNb_antibody.fasta\"  # 생성할 FASTA 파일 경로\n",
    "\n",
    "# # # TSV 파일 읽기 (탭으로 구분된 파일)\n",
    "# df = pd.read_csv(input_tsv, sep=\"\\t\")\n",
    "\n",
    "# # FASTA 파일 생성\n",
    "# with open(output_fasta, \"w\") as fasta:\n",
    "#     for index, row in df.iterrows():\n",
    "#         # PDB 컬럼을 header로 사용\n",
    "#         header = row[\"PDB\"]+'|HL-'+ str(row[\"index\"])\n",
    "#         # H_chain과 L_chain 컬럼을 읽어 결합 (앞뒤 공백 제거)\n",
    "#         sequence = row[\"H_chain\"].strip() + row[\"L_chain\"].strip()\n",
    "        \n",
    "#         # FASTA 형식에 맞게 파일에 기록\n",
    "#         fasta.write(f\">{header}\\n\")\n",
    "#         fasta.write(f\"{sequence}\\n\")\n",
    "\n",
    "# print(\"FASTA 파일 생성 완료!\")"
   ]
  },
  {
   "cell_type": "code",
   "execution_count": 3,
   "id": "b1a77811-0beb-4687-9cbb-1be698c7b878",
   "metadata": {
    "execution": {
     "iopub.execute_input": "2025-05-20T17:34:15.293315Z",
     "iopub.status.busy": "2025-05-20T17:34:15.292619Z",
     "iopub.status.idle": "2025-05-20T17:34:15.302426Z",
     "shell.execute_reply": "2025-05-20T17:34:15.300837Z",
     "shell.execute_reply.started": "2025-05-20T17:34:15.293253Z"
    }
   },
   "outputs": [],
   "source": [
    "# import pandas as pd\n",
    "\n",
    "# # 입력 TSV 파일과 출력 FASTA 파일 경로 지정\n",
    "# input_tsv = \"AbNb_dataset_filterd_73.tsv\"      # TSV 파일 경로\n",
    "# output_fasta = \"final_antigen.fasta\"  # 생성할 FASTA 파일 경로\n",
    "\n",
    "# # # TSV 파일 읽기 (탭으로 구분된 파일)\n",
    "# df = pd.read_csv(input_tsv, sep=\"\\t\")\n",
    "\n",
    "# # FASTA 파일 생성\n",
    "# with open(output_fasta, \"w\") as fasta:\n",
    "#     for index, row in df.iterrows():\n",
    "#         # PDB 컬럼을 header로 사용\n",
    "#         header = row[\"PDB\"]+'|A-'+ str(row[\"index\"])\n",
    "#         # H_chain과 L_chain 컬럼을 읽어 결합 (앞뒤 공백 제거)\n",
    "#         sequence = row[\"A_chain\"].strip()\n",
    "        \n",
    "#         # FASTA 형식에 맞게 파일에 기록\n",
    "#         fasta.write(f\">{header}\\n\")\n",
    "#         fasta.write(f\"{sequence}\\n\")\n",
    "\n",
    "# print(\"FASTA 파일 생성 완료!\")"
   ]
  },
  {
   "cell_type": "code",
   "execution_count": 4,
   "id": "2ce807a4-b03f-4c44-a2c6-d96e8d31d564",
   "metadata": {
    "execution": {
     "iopub.execute_input": "2025-05-20T17:34:27.681159Z",
     "iopub.status.busy": "2025-05-20T17:34:27.680479Z",
     "iopub.status.idle": "2025-05-20T17:34:27.707340Z",
     "shell.execute_reply": "2025-05-20T17:34:27.705834Z",
     "shell.execute_reply.started": "2025-05-20T17:34:27.681102Z"
    }
   },
   "outputs": [
    {
     "name": "stdout",
     "output_type": "stream",
     "text": [
      "FASTA 파일 생성 완료!\n"
     ]
    }
   ],
   "source": [
    "import pandas as pd\n",
    "\n",
    "# 입력 TSV 파일과 출력 FASTA 파일 경로 지정\n",
    "input_tsv = \"AbNb_dataset_filterd_73.tsv\"      # TSV 파일 경로\n",
    "output_fasta = \"final_antigen.fasta\"  # 생성할 FASTA 파일 경로\n",
    "\n",
    "# # TSV 파일 읽기 (탭으로 구분된 파일)\n",
    "df = pd.read_csv(input_tsv, sep=\"\\t\")\n",
    "\n",
    "# FASTA 파일 생성\n",
    "with open(output_fasta, \"w\") as fasta:\n",
    "    for index, row in df.iterrows():\n",
    "        # PDB 컬럼을 header로 사용\n",
    "        header = row[\"PDB\"]+'|A'\n",
    "        # H_chain과 L_chain 컬럼을 읽어 결합 (앞뒤 공백 제거)\n",
    "        sequence = row[\"A_chain\"].strip()\n",
    "        # FASTA 형식에 맞게 파일에 기록\n",
    "        fasta.write(f\">{header}\\n\")\n",
    "        fasta.write(f\"{sequence}\\n\")\n",
    "\n",
    "print(\"FASTA 파일 생성 완료!\")"
   ]
  },
  {
   "cell_type": "code",
   "execution_count": null,
   "id": "2971b33f-7dce-44b4-a042-0c6c81f244b0",
   "metadata": {},
   "outputs": [],
   "source": []
  }
 ],
 "metadata": {
  "kernelspec": {
   "display_name": "Python (Abnb)",
   "language": "python",
   "name": "abnb"
  },
  "language_info": {
   "codemirror_mode": {
    "name": "ipython",
    "version": 3
   },
   "file_extension": ".py",
   "mimetype": "text/x-python",
   "name": "python",
   "nbconvert_exporter": "python",
   "pygments_lexer": "ipython3",
   "version": "3.10.15"
  }
 },
 "nbformat": 4,
 "nbformat_minor": 5
}
