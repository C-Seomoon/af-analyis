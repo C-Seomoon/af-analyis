{
 "cells": [
  {
   "cell_type": "code",
   "execution_count": 24,
   "id": "167509ad-697e-49c3-8363-b32568b04c19",
   "metadata": {
    "execution": {
     "iopub.execute_input": "2025-05-21T17:43:01.923025Z",
     "iopub.status.busy": "2025-05-21T17:43:01.922365Z",
     "iopub.status.idle": "2025-05-21T17:43:02.507743Z",
     "shell.execute_reply": "2025-05-21T17:43:02.505977Z",
     "shell.execute_reply.started": "2025-05-21T17:43:01.922965Z"
    }
   },
   "outputs": [
    {
     "name": "stdout",
     "output_type": "stream",
     "text": [
      "┌──────────────────────────────────────────────────────────────────────────────┐\n",
      "│                                 PyRosetta-4                                  │\n",
      "│              Created in JHU by Sergey Lyskov and PyRosetta Team              │\n",
      "│              (C) Copyright Rosetta Commons Member Institutions               │\n",
      "│                                                                              │\n",
      "│ NOTE: USE OF PyRosetta FOR COMMERCIAL PURPOSES REQUIRE PURCHASE OF A LICENSE │\n",
      "│         See LICENSE.PyRosetta.md or email license@uw.edu for details         │\n",
      "└──────────────────────────────────────────────────────────────────────────────┘\n",
      "PyRosetta-4 2024 [Rosetta PyRosetta4.conda.ubuntu.cxx11thread.serialization.Ubuntu.python310.Release 2024.42+release.3366cf78a3df04339d1982e94531b77b098ddb99 2024-10-11T08:24:04] retrieved from: http://www.pyrosetta.org\n",
      "97.78285714285714\n",
      "97.3725\n"
     ]
    }
   ],
   "source": [
    "import pandas as pd\n",
    "import numpy as np\n",
    "from Bio.PDB import MMCIFParser, PDBIO\n",
    "\n",
    "import pyrosetta\n",
    "from pyrosetta import init, pose_from_pdb\n",
    "\n",
    "\n",
    "if not hasattr(pyrosetta, \"_already_init\"):\n",
    "    pyrosetta.init(\"-mute all\")\n",
    "    pyrosetta._already_init = True\n",
    "\n",
    "\n",
    "def CDRH3_Bfactors(pose):    \n",
    "\n",
    "    pose_i1 = pyrosetta.rosetta.protocols.antibody.AntibodyInfo(pose)\n",
    "    cdr_h3_i_first = pyrosetta.rosetta.protocols.antibody.AntibodyInfo.get_CDR_start(pose_i1,pyrosetta.rosetta.protocols.antibody.CDRNameEnum.h3,pose)\n",
    "\n",
    "    cdr_h3_i_last = pyrosetta.rosetta.protocols.antibody.AntibodyInfo.get_CDR_end(pose_i1,pyrosetta.rosetta.protocols.antibody.CDRNameEnum.h3,pose)\n",
    "    h3_plddt_array = [pose.pdb_info().temperature(i,1) for i in range (cdr_h3_i_first+1, cdr_h3_i_last+1)]  \n",
    "    return h3_plddt_array\n",
    "\n",
    "def CDRL3_Bfactors(pose):    \n",
    "\n",
    "    pose_i1 = pyrosetta.rosetta.protocols.antibody.AntibodyInfo(pose)\n",
    "    cdr_l3_i_first = pyrosetta.rosetta.protocols.antibody.AntibodyInfo.get_CDR_start(pose_i1,pyrosetta.rosetta.protocols.antibody.CDRNameEnum.l3,pose)\n",
    "\n",
    "    cdr_l3_i_last = pyrosetta.rosetta.protocols.antibody.AntibodyInfo.get_CDR_end(pose_i1,pyrosetta.rosetta.protocols.antibody.CDRNameEnum.l3,pose)\n",
    "    l3_plddt_array = [pose.pdb_info().temperature(i,1) for i in range (cdr_l3_i_first+1, cdr_l3_i_last+1)]  \n",
    "    return l3_plddt_array\n",
    "\n",
    "\n",
    "\n",
    "df=pd.read_csv('final_data_with_new_rosetta_metrics_20250521.csv')\n",
    "\n",
    "# 1) PyRosetta 초기화\n",
    "init(\"-mute all\")\n",
    "\n",
    "# 2) mmCIF 읽어서 PDB로 저장\n",
    "def convert_cif_to_pdb(cif_path: str, pdb_out: str):\n",
    "    parser = MMCIFParser(QUIET=True)\n",
    "    structure = parser.get_structure(\"X\", cif_path)\n",
    "    io = PDBIO()\n",
    "    io.set_structure(structure)\n",
    "    io.save(pdb_out)\n",
    "\n",
    "cif_file = df.loc[1,'pdb']\n",
    "pdb_file = \"/tmp/converted_structure.pdb\"\n",
    "convert_cif_to_pdb(cif_file, pdb_file)\n",
    "\n",
    "# 3) PyRosetta에 로드\n",
    "af3_pose = pose_from_pdb(pdb_file)\n",
    "h3_plddt_array = CDRH3_Bfactors(af3_pose)\n",
    "l3_plddt_array = CDRL3_Bfactors(af3_pose)\n",
    "\n",
    "print(np.array(h3_plddt_array).mean())\n",
    "print(np.array(l3_plddt_array).mean())\n",
    "\n",
    "\n",
    "pdb_file = df.loc[1,'model_path']\n",
    "\n",
    "af3_pose = pose_from_pdb(pdb_file)\n",
    "h3_plddt_array = CDRH3_Bfactors(af3_pose)\n",
    "l3_plddt_array = CDRL3_Bfactors(af3_pose)\n",
    "\n",
    "print(np.array(h3_plddt_array).mean())\n",
    "print(np.array(l3_plddt_array).mean())"
   ]
  },
  {
   "cell_type": "code",
   "execution_count": 25,
   "id": "a0f0585c-c021-4da1-ad8c-61d7112dccd2",
   "metadata": {
    "execution": {
     "iopub.execute_input": "2025-05-21T17:44:05.074775Z",
     "iopub.status.busy": "2025-05-21T17:44:05.074084Z",
     "iopub.status.idle": "2025-05-21T17:44:05.483632Z",
     "shell.execute_reply": "2025-05-21T17:44:05.481832Z",
     "shell.execute_reply.started": "2025-05-21T17:44:05.074714Z"
    }
   },
   "outputs": [
    {
     "name": "stdout",
     "output_type": "stream",
     "text": [
      "97.78285714285714\n",
      "97.3725\n"
     ]
    }
   ],
   "source": []
  },
  {
   "cell_type": "code",
   "execution_count": 7,
   "id": "5d7523aa-f61b-46fd-8dfb-9bea1d1d10c7",
   "metadata": {
    "execution": {
     "iopub.execute_input": "2025-05-21T17:26:15.216115Z",
     "iopub.status.busy": "2025-05-21T17:26:15.215417Z",
     "iopub.status.idle": "2025-05-21T17:26:15.227457Z",
     "shell.execute_reply": "2025-05-21T17:26:15.225451Z",
     "shell.execute_reply.started": "2025-05-21T17:26:15.216053Z"
    }
   },
   "outputs": [
    {
     "data": {
      "text/plain": [
       "'/home/cseomoon/project/ABAG/AbNb_benchmark/AF3_results/8d9z_8d9z/seed-1_sample-1/model.cif'"
      ]
     },
     "execution_count": 7,
     "metadata": {},
     "output_type": "execute_result"
    }
   ],
   "source": [
    "pdb"
   ]
  },
  {
   "cell_type": "code",
   "execution_count": null,
   "id": "a2763ed7-ae21-4813-8087-e4110d73bef3",
   "metadata": {},
   "outputs": [],
   "source": []
  }
 ],
 "metadata": {
  "kernelspec": {
   "display_name": "Python (Abnb)",
   "language": "python",
   "name": "abnb"
  },
  "language_info": {
   "codemirror_mode": {
    "name": "ipython",
    "version": 3
   },
   "file_extension": ".py",
   "mimetype": "text/x-python",
   "name": "python",
   "nbconvert_exporter": "python",
   "pygments_lexer": "ipython3",
   "version": "3.10.15"
  }
 },
 "nbformat": 4,
 "nbformat_minor": 5
}
