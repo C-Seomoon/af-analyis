{
 "cells": [
  {
   "cell_type": "code",
   "execution_count": null,
   "id": "b517072a-bad8-4f5a-8adf-bdcfcb70669b",
   "metadata": {},
   "outputs": [],
   "source": [
    "import af_analysis\n",
    "from af_analysis import analysis, data\n",
    "\n",
    "my_data=Data(directory='')"
   ]
  }
 ],
 "metadata": {
  "kernelspec": {
   "display_name": "Python (Abnb)",
   "language": "python",
   "name": "abnb"
  },
  "language_info": {
   "codemirror_mode": {
    "name": "ipython",
    "version": 3
   },
   "file_extension": ".py",
   "mimetype": "text/x-python",
   "name": "python",
   "nbconvert_exporter": "python",
   "pygments_lexer": "ipython3",
   "version": "3.10.15"
  }
 },
 "nbformat": 4,
 "nbformat_minor": 5
}
